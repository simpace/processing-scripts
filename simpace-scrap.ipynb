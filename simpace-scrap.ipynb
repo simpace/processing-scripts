{
 "metadata": {
  "name": "",
  "signature": "sha256:591a076fca8994d7763288ad073ddbba9ff873eae6fabbc388b113fdeafbd6f4"
 },
 "nbformat": 3,
 "nbformat_minor": 0,
 "worksheets": [
  {
   "cells": [
    {
     "cell_type": "code",
     "collapsed": false,
     "input": [
      "%pylab inline\n",
      "from __future__ import print_function, division"
     ],
     "language": "python",
     "metadata": {},
     "outputs": [
      {
       "output_type": "stream",
       "stream": "stdout",
       "text": [
        "Populating the interactive namespace from numpy and matplotlib\n"
       ]
      }
     ],
     "prompt_number": 1
    },
    {
     "cell_type": "heading",
     "level": 1,
     "metadata": {},
     "source": [
      "A notebook to test the scripts to analyze simpace data"
     ]
    },
    {
     "cell_type": "code",
     "collapsed": false,
     "input": [
      "import nibabel as nib\n",
      "import numpy as np\n",
      "import os\n",
      "import os.path as osp\n",
      "import matplotlib.pyplot as plt\n",
      "import nipy\n",
      "import json\n",
      "import scipy.linalg as lin\n",
      "import scipy.stats as sst\n",
      "from warnings import warn\n",
      "import datetime, time\n",
      "import glob as gb\n",
      "from six import string_types"
     ],
     "language": "python",
     "metadata": {},
     "outputs": [],
     "prompt_number": 2
    },
    {
     "cell_type": "code",
     "collapsed": false,
     "input": [
      "HOME = osp.expanduser('~')\n",
      "atlas_rois = osp.join(HOME,'code', 'regions', 'regions','tmp')\n",
      "DDIR = osp.join(HOME,'data','simpace','data','sub001','res_analysis_03')\n",
      "img_filename = osp.join(DDIR,'waepi_noton.nii' )"
     ],
     "language": "python",
     "metadata": {},
     "outputs": [],
     "prompt_number": 3
    },
    {
     "cell_type": "code",
     "collapsed": false,
     "input": [
      "aal_files = gb.glob(osp.join(atlas_rois, \"aal_*\"))"
     ],
     "language": "python",
     "metadata": {},
     "outputs": [],
     "prompt_number": 4
    },
    {
     "cell_type": "code",
     "collapsed": false,
     "input": [
      "print(osp.join(atlas_rois, \"aal_*\"))\n",
      "print(aal_files[:3])"
     ],
     "language": "python",
     "metadata": {},
     "outputs": [
      {
       "output_type": "stream",
       "stream": "stdout",
       "text": [
        "/home/jb/code/regions/regions/tmp/aal_*\n",
        "['/home/jb/code/regions/regions/tmp/aal_Frontal_Inf_Tri_L___.nii', '/home/jb/code/regions/regions/tmp/aal_Lingual_R___________.nii', '/home/jb/code/regions/regions/tmp/aal_Cerebelum_Crus1_R___.nii']\n"
       ]
      }
     ],
     "prompt_number": 5
    },
    {
     "cell_type": "code",
     "collapsed": false,
     "input": [
      "aal = {}\n",
      "aal['Frontal_Inf_Tri_L'] = nib.load(aal_files[0])\n",
      "aal_aff = aal['Frontal_Inf_Tri_L'].get_affine()\n",
      "print(aal_aff)\n"
     ],
     "language": "python",
     "metadata": {},
     "outputs": [
      {
       "output_type": "stream",
       "stream": "stdout",
       "text": [
        "[[  -2.    0.    0.   90.]\n",
        " [   0.    2.    0. -126.]\n",
        " [   0.    0.    2.  -72.]\n",
        " [   0.    0.    0.    1.]]\n"
       ]
      }
     ],
     "prompt_number": 6
    },
    {
     "cell_type": "code",
     "collapsed": false,
     "input": [
      "img = nib.load(img_filename)\n",
      "img_aff = img.get_affine()\n",
      "print(img_aff)"
     ],
     "language": "python",
     "metadata": {},
     "outputs": [
      {
       "output_type": "stream",
       "stream": "stdout",
       "text": [
        "[[  -2.    0.    0.   78.]\n",
        " [   0.    2.    0. -112.]\n",
        " [   0.    0.    2.  -50.]\n",
        " [   0.    0.    0.    1.]]\n"
       ]
      }
     ],
     "prompt_number": 7
    },
    {
     "cell_type": "code",
     "collapsed": false,
     "input": [
      "\"\"\"\n",
      "fn = '/home/jb/data/adhd200/NeuroIMAGE/2756846/sfnwmrda2756846_session_1_rest_1.nii.gz'\n",
      "fn = '/home/jb/data/ds105/sub001/BOLD/task001_run001/bold.nii.gz'\n",
      "img = nib.load(fn)\n",
      "print(img.get_affine())\n",
      "\"\"\""
     ],
     "language": "python",
     "metadata": {},
     "outputs": [
      {
       "metadata": {},
       "output_type": "pyout",
       "prompt_number": 8,
       "text": [
        "\"\\nfn = '/home/jb/data/adhd200/NeuroIMAGE/2756846/sfnwmrda2756846_session_1_rest_1.nii.gz'\\nfn = '/home/jb/data/ds105/sub001/BOLD/task001_run001/bold.nii.gz'\\nimg = nib.load(fn)\\nprint(img.get_affine())\\n\""
       ]
      }
     ],
     "prompt_number": 8
    },
    {
     "cell_type": "code",
     "collapsed": false,
     "input": [
      "roi = aal['Frontal_Inf_Tri_L']\n",
      "ijk_roi = (roi.get_data() == 1)\n",
      "roi.get_data().sum()"
     ],
     "language": "python",
     "metadata": {},
     "outputs": [
      {
       "metadata": {},
       "output_type": "pyout",
       "prompt_number": 9,
       "text": [
        "memmap(2529)"
       ]
      }
     ],
     "prompt_number": 9
    },
    {
     "cell_type": "code",
     "collapsed": false,
     "input": [
      "print(ijk_roi.shape)\n",
      "(roi.get_data()[ijk_roi]).shape\n",
      "(roi.get_data()[ijk_roi])[:10]"
     ],
     "language": "python",
     "metadata": {},
     "outputs": [
      {
       "output_type": "stream",
       "stream": "stdout",
       "text": [
        "(91, 109, 91)\n"
       ]
      },
      {
       "metadata": {},
       "output_type": "pyout",
       "prompt_number": 10,
       "text": [
        "memmap([1, 1, 1, 1, 1, 1, 1, 1, 1, 1], dtype=int16)"
       ]
      }
     ],
     "prompt_number": 10
    },
    {
     "cell_type": "code",
     "collapsed": false,
     "input": [
      "roi2img = lin.inv(img_aff).dot(aal_aff)\n",
      "#lin.inv(aal_aff).dot(img_aff)"
     ],
     "language": "python",
     "metadata": {},
     "outputs": [],
     "prompt_number": 11
    },
    {
     "cell_type": "code",
     "collapsed": false,
     "input": [
      "roi.get_data().shape"
     ],
     "language": "python",
     "metadata": {},
     "outputs": [
      {
       "metadata": {},
       "output_type": "pyout",
       "prompt_number": 12,
       "text": [
        "(91, 109, 91)"
       ]
      }
     ],
     "prompt_number": 12
    },
    {
     "cell_type": "code",
     "collapsed": false,
     "input": [
      "img.get_data().shape"
     ],
     "language": "python",
     "metadata": {},
     "outputs": [
      {
       "metadata": {},
       "output_type": "pyout",
       "prompt_number": 13,
       "text": [
        "(79, 95, 68, 196)"
       ]
      }
     ],
     "prompt_number": 13
    },
    {
     "cell_type": "code",
     "collapsed": false,
     "input": [
      "ijk = np.where(ijk_roi)"
     ],
     "language": "python",
     "metadata": {},
     "outputs": [],
     "prompt_number": 14
    },
    {
     "cell_type": "code",
     "collapsed": false,
     "input": [
      "np.asarray(ijk)"
     ],
     "language": "python",
     "metadata": {},
     "outputs": [
      {
       "metadata": {},
       "output_type": "pyout",
       "prompt_number": 15,
       "text": [
        "array([[60, 60, 60, ..., 75, 75, 75],\n",
        "       [78, 78, 78, ..., 75, 76, 76],\n",
        "       [35, 36, 37, ..., 47, 42, 43]])"
       ]
      }
     ],
     "prompt_number": 15
    },
    {
     "cell_type": "code",
     "collapsed": false,
     "input": [
      "coords = np.vstack((ijk[0], ijk[1], ijk[2], np.ones(len(ijk[0]))))\n",
      "#print(coords.shape)"
     ],
     "language": "python",
     "metadata": {},
     "outputs": [],
     "prompt_number": 16
    },
    {
     "cell_type": "code",
     "collapsed": false,
     "input": [
      "img_ijk = roi2img.dot(coords)\n",
      "img_ijk.max(axis=1)"
     ],
     "language": "python",
     "metadata": {},
     "outputs": [
      {
       "metadata": {},
       "output_type": "pyout",
       "prompt_number": 17,
       "text": [
        "array([ 69.,  80.,  40.,   1.])"
       ]
      }
     ],
     "prompt_number": 17
    },
    {
     "cell_type": "code",
     "collapsed": false,
     "input": [
      "np.asarray(img.shape[:3]+(2,)).reshape(4,1) - img_ijk.max(axis=1).reshape(4,1)"
     ],
     "language": "python",
     "metadata": {},
     "outputs": [
      {
       "metadata": {},
       "output_type": "pyout",
       "prompt_number": 18,
       "text": [
        "array([[ 10.],\n",
        "       [ 15.],\n",
        "       [ 28.],\n",
        "       [  1.]])"
       ]
      }
     ],
     "prompt_number": 18
    },
    {
     "cell_type": "code",
     "collapsed": false,
     "input": [
      "assert np.all(np.logical_and(img_ijk > 0,\n",
      "              (np.asarray(img.shape[:3]+(2,)).reshape(4,1) - img_ijk.max(axis=1).reshape(4,1) > 0)))"
     ],
     "language": "python",
     "metadata": {},
     "outputs": [],
     "prompt_number": 19
    },
    {
     "cell_type": "code",
     "collapsed": false,
     "input": [],
     "language": "python",
     "metadata": {},
     "outputs": [],
     "prompt_number": 19
    },
    {
     "cell_type": "code",
     "collapsed": false,
     "input": [
      "import importlib\n",
      "import utils._utils as ucr\n",
      "ucr = reload(ucr)"
     ],
     "language": "python",
     "metadata": {},
     "outputs": [],
     "prompt_number": 33
    },
    {
     "cell_type": "code",
     "collapsed": false,
     "input": [
      "HOME = osp.expanduser('~')\n",
      "atlas_rois = osp.join(HOME,'code', 'regions', 'regions','tmp')\n",
      "DDIR = osp.join(HOME,'data','simpace','data','sub001','res_analysis_03')\n",
      "img_filename = osp.join(DDIR,'waepi_noton.nii' )\n",
      "aal_files = gb.glob(osp.join(atlas_rois, \"aal_*\"))\n",
      "aal_file = aal_files[0]"
     ],
     "language": "python",
     "metadata": {},
     "outputs": [],
     "prompt_number": 22
    },
    {
     "cell_type": "code",
     "collapsed": false,
     "input": [
      "sig, issues = ucr.extract_signals(atlas_rois, \"aal_*\", img_filename, mask=None)"
     ],
     "language": "python",
     "metadata": {},
     "outputs": [
      {
       "output_type": "stream",
       "stream": "stdout",
       "text": [
        "[[  -2.    0.    0.   78.]\n",
        " [   0.    2.    0. -112.]\n",
        " [   0.    0.    2.  -50.]\n",
        " [   0.    0.    0.    1.]]\n",
        "[[  -2.    0.    0.   90.]\n",
        " [   0.    2.    0. -126.]\n",
        " [   0.    0.    2.  -72.]\n",
        " [   0.    0.    0.    1.]]\n",
        "translation:  [[ -6.]\n",
        " [ -7.]\n",
        " [-11.]]\n",
        "could not sample all roi : /home/jb/code/regions/regions/tmp/aal_Cerebelum_8_L_______.nii\n",
        "[40 19 -5] [61 39 10]\n",
        "could not sample all roi :"
       ]
      },
      {
       "output_type": "stream",
       "stream": "stdout",
       "text": [
        " /home/jb/code/regions/regions/tmp/aal_Cerebelum_Crus2_R___.nii\n",
        "[10 10 -1] [38 39 12]\n",
        "could not sample all roi :"
       ]
      },
      {
       "output_type": "stream",
       "stream": "stdout",
       "text": [
        " /home/jb/code/regions/regions/tmp/aal_Cerebelum_9_L_______.nii\n",
        "[39 25 -4] [50 37  9]\n",
        "could not sample all roi :"
       ]
      },
      {
       "output_type": "stream",
       "stream": "stdout",
       "text": [
        " /home/jb/code/regions/regions/tmp/aal_Cerebelum_Crus2_L___.nii\n",
        "[38 10 -1] [67 36 14]\n",
        "could not sample all roi :"
       ]
      },
      {
       "output_type": "stream",
       "stream": "stdout",
       "text": [
        " /home/jb/code/regions/regions/tmp/aal_Cerebelum_7b_L______.nii\n",
        "[40 17 -3] [64 39  8]\n",
        "could not sample all roi :"
       ]
      },
      {
       "output_type": "stream",
       "stream": "stdout",
       "text": [
        " /home/jb/code/regions/regions/tmp/aal_Cerebelum_9_R_______.nii\n",
        "[28 25 -5] [38 37  9]\n",
        "could not sample all roi :"
       ]
      },
      {
       "output_type": "stream",
       "stream": "stdout",
       "text": [
        " /home/jb/code/regions/regions/tmp/aal_Cerebelum_7b_R______.nii\n",
        "[13 15 -4] [37 39  5]\n",
        "could not sample all roi :"
       ]
      },
      {
       "output_type": "stream",
       "stream": "stdout",
       "text": [
        " /home/jb/code/regions/regions/tmp/aal_Cerebelum_8_R_______.nii\n",
        "[16 18 -6] [36 39 10]\n"
       ]
      }
     ],
     "prompt_number": 23
    },
    {
     "cell_type": "code",
     "collapsed": false,
     "input": [
      "_keys = sig.keys()\n",
      "for k in _keys[:10]:\n",
      "    if sig[k] != None:\n",
      "        print(sig[k][1])"
     ],
     "language": "python",
     "metadata": {},
     "outputs": [
      {
       "output_type": "stream",
       "stream": "stdout",
       "text": [
        "3892\n",
        "2296\n",
        "159\n",
        "174\n",
        "836\n",
        "144\n",
        "2147\n",
        "1338\n"
       ]
      }
     ],
     "prompt_number": 24
    },
    {
     "cell_type": "code",
     "collapsed": false,
     "input": [
      "k = _keys[3]\n",
      "print(k, sig[k][1])\n",
      "#print(sig[k][0])\n",
      "if sig[k][0] != None:\n",
      "    plt.plot(sig[k][0])\n",
      "    print(issues[k])"
     ],
     "language": "python",
     "metadata": {},
     "outputs": [
      {
       "output_type": "stream",
       "stream": "stdout",
       "text": [
        "/home/jb/code/regions/regions/tmp/aal_Cerebelum_10_R______.nii 159\n",
        "False\n"
       ]
      },
      {
       "metadata": {},
       "output_type": "display_data",
       "png": "[encoded data removed]",
       "text": [
        "<matplotlib.figure.Figure at 0x67b8750>"
       ]
      }
     ],
     "prompt_number": 25
    },
    {
     "cell_type": "code",
     "collapsed": false,
     "input": [
      "arr, keys = ucr._dict_signals_to_arr(sig)"
     ],
     "language": "python",
     "metadata": {},
     "outputs": [],
     "prompt_number": 26
    },
    {
     "cell_type": "code",
     "collapsed": false,
     "input": [
      "arr.shape"
     ],
     "language": "python",
     "metadata": {},
     "outputs": [
      {
       "metadata": {},
       "output_type": "pyout",
       "prompt_number": 27,
       "text": [
        "(196, 108)"
       ]
      }
     ],
     "prompt_number": 27
    },
    {
     "cell_type": "code",
     "collapsed": false,
     "input": [
      "arr_cl, keys_cl = ucr._check_roi_signals(arr, keys)"
     ],
     "language": "python",
     "metadata": {},
     "outputs": [],
     "prompt_number": 28
    },
    {
     "cell_type": "code",
     "collapsed": false,
     "input": [
      "print(set(keys) - set(keys_cl))\n",
      "print(len(set(keys) - set(keys_cl)))\n",
      "print(arr_cl.shape)"
     ],
     "language": "python",
     "metadata": {},
     "outputs": [
      {
       "output_type": "stream",
       "stream": "stdout",
       "text": [
        "set(['/home/jb/code/regions/regions/tmp/aal_Cerebelum_10_L______.nii', '/home/jb/code/regions/regions/tmp/aal_Vermis_8____________.nii', '/home/jb/code/regions/regions/tmp/aal_Cerebelum_Crus1_L___.nii', '/home/jb/code/regions/regions/tmp/aal_Vermis_7____________.nii', '/home/jb/code/regions/regions/tmp/aal_Cerebelum_Crus1_R___.nii', '/home/jb/code/regions/regions/tmp/aal_Cerebelum_10_R______.nii', '/home/jb/code/regions/regions/tmp/aal_Vermis_9____________.nii', '/home/jb/code/regions/regions/tmp/aal_Vermis_10___________.nii'])\n",
        "8\n",
        "(196, 100)\n"
       ]
      }
     ],
     "prompt_number": 29
    },
    {
     "cell_type": "code",
     "collapsed": false,
     "input": [
      "xbf, (h,l) = ucr._create_bandpass_bf(196, (0.1, 0.01), 2.0)"
     ],
     "language": "python",
     "metadata": {},
     "outputs": [
      {
       "output_type": "stream",
       "stream": "stdout",
       "text": [
        "7 78\n"
       ]
      }
     ],
     "prompt_number": 56
    },
    {
     "cell_type": "code",
     "collapsed": false,
     "input": [
      "fig = plt.imshow(xbf, aspect=1, interpolation='nearest')\n"
     ],
     "language": "python",
     "metadata": {},
     "outputs": [
      {
       "metadata": {},
       "output_type": "display_data",
       "png": "[encoded data removed]",
       "text": [
        "<matplotlib.figure.Figure at 0x6ceab10>"
       ]
      }
     ],
     "prompt_number": 57
    },
    {
     "cell_type": "code",
     "collapsed": false,
     "input": [
      "xbf.shape"
     ],
     "language": "python",
     "metadata": {},
     "outputs": [
      {
       "metadata": {},
       "output_type": "pyout",
       "prompt_number": 43,
       "text": [
        "(196, 7)"
       ]
      }
     ],
     "prompt_number": 43
    },
    {
     "cell_type": "code",
     "collapsed": false,
     "input": [
      "196./dt\n"
     ],
     "language": "python",
     "metadata": {},
     "outputs": [
      {
       "metadata": {},
       "output_type": "pyout",
       "prompt_number": 53,
       "text": [
        "98.0"
       ]
      }
     ],
     "prompt_number": 53
    },
    {
     "cell_type": "code",
     "collapsed": false,
     "input": [
      "nt = 196\n",
      "dt = 2.\n",
      "tim = np.linspace(0, (nt-1)*dt, nt)\n",
      "cosBF = ucr._cosine_drift((2*dt), tim)"
     ],
     "language": "python",
     "metadata": {},
     "outputs": [],
     "prompt_number": 46
    },
    {
     "cell_type": "code",
     "collapsed": true,
     "input": [
      "cosBF.shape"
     ],
     "language": "python",
     "metadata": {},
     "outputs": [
      {
       "metadata": {},
       "output_type": "pyout",
       "prompt_number": 47,
       "text": [
        "(196, 196)"
       ]
      }
     ],
     "prompt_number": 47
    },
    {
     "cell_type": "code",
     "collapsed": false,
     "input": [],
     "language": "python",
     "metadata": {},
     "outputs": []
    }
   ],
   "metadata": {}
  }
 ]
}