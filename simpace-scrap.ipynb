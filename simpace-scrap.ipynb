{
 "metadata": {
  "name": "",
  "signature": "sha256:0ec0fcb98c9642d81f133ce83a3b4e7c963415177052ff216366026062850485"
 },
 "nbformat": 3,
 "nbformat_minor": 0,
 "worksheets": [
  {
   "cells": [
    {
     "cell_type": "code",
     "collapsed": false,
     "input": [
      "%pylab inline\n",
      "from __future__ import print_function, division"
     ],
     "language": "python",
     "metadata": {},
     "outputs": [
      {
       "output_type": "stream",
       "stream": "stdout",
       "text": [
        "Populating the interactive namespace from numpy and matplotlib\n"
       ]
      }
     ],
     "prompt_number": 5
    },
    {
     "cell_type": "heading",
     "level": 1,
     "metadata": {},
     "source": [
      "A notebook to test the scripts to analyze simpace data"
     ]
    },
    {
     "cell_type": "code",
     "collapsed": false,
     "input": [
      "import nibabel as nib\n",
      "import numpy as np\n",
      "import os\n",
      "import os.path as osp\n",
      "import matplotlib.pyplot as plt\n",
      "import nipy\n",
      "import json\n",
      "import scipy.linalg as lin\n",
      "import scipy.stats as sst\n",
      "from warnings import warn\n",
      "import datetime, time\n",
      "import glob as gb\n",
      "from six import string_types"
     ],
     "language": "python",
     "metadata": {},
     "outputs": [],
     "prompt_number": 107
    },
    {
     "cell_type": "code",
     "collapsed": false,
     "input": [
      "HOME = osp.expanduser('~')\n",
      "atlas_rois = osp.join(HOME,'code', 'regions', 'regions','tmp')\n",
      "DDIR = osp.join(HOME,'data','simpace','data','sub001','res_analysis_03')\n",
      "img_filename = osp.join(DDIR,'waepi_noton.nii' )"
     ],
     "language": "python",
     "metadata": {},
     "outputs": [],
     "prompt_number": 30
    },
    {
     "cell_type": "code",
     "collapsed": false,
     "input": [
      "aal_files = gb.glob(osp.join(atlas_rois, \"aal_*\"))"
     ],
     "language": "python",
     "metadata": {},
     "outputs": [],
     "prompt_number": 31
    },
    {
     "cell_type": "code",
     "collapsed": false,
     "input": [
      "print(osp.join(atlas_rois, \"aal_*\"))\n",
      "print(aal_files[:3])"
     ],
     "language": "python",
     "metadata": {},
     "outputs": [
      {
       "output_type": "stream",
       "stream": "stdout",
       "text": [
        "/home/jb/code/regions/regions/tmp/aal_*\n",
        "['/home/jb/code/regions/regions/tmp/aal_Frontal_Inf_Tri_L___.nii', '/home/jb/code/regions/regions/tmp/aal_Lingual_R___________.nii', '/home/jb/code/regions/regions/tmp/aal_Cerebelum_Crus1_R___.nii']\n"
       ]
      }
     ],
     "prompt_number": 32
    },
    {
     "cell_type": "code",
     "collapsed": false,
     "input": [
      "aal = {}\n",
      "aal['Frontal_Inf_Tri_L'] = nib.load(aal_files[0])\n",
      "aal_aff = aal['Frontal_Inf_Tri_L'].get_affine()\n",
      "print(aal_aff)\n"
     ],
     "language": "python",
     "metadata": {},
     "outputs": [
      {
       "output_type": "stream",
       "stream": "stdout",
       "text": [
        "[[  -2.    0.    0.   90.]\n",
        " [   0.    2.    0. -126.]\n",
        " [   0.    0.    2.  -72.]\n",
        " [   0.    0.    0.    1.]]\n"
       ]
      }
     ],
     "prompt_number": 42
    },
    {
     "cell_type": "code",
     "collapsed": false,
     "input": [
      "img = nib.load(img_filename)\n",
      "img_aff = img.get_affine()\n",
      "print(img_aff)"
     ],
     "language": "python",
     "metadata": {},
     "outputs": [
      {
       "output_type": "stream",
       "stream": "stdout",
       "text": [
        "[[  -2.    0.    0.   78.]\n",
        " [   0.    2.    0. -112.]\n",
        " [   0.    0.    2.  -50.]\n",
        " [   0.    0.    0.    1.]]\n"
       ]
      }
     ],
     "prompt_number": 43
    },
    {
     "cell_type": "code",
     "collapsed": false,
     "input": [
      "\"\"\"\n",
      "fn = '/home/jb/data/adhd200/NeuroIMAGE/2756846/sfnwmrda2756846_session_1_rest_1.nii.gz'\n",
      "fn = '/home/jb/data/ds105/sub001/BOLD/task001_run001/bold.nii.gz'\n",
      "img = nib.load(fn)\n",
      "print(img.get_affine())\n",
      "\"\"\""
     ],
     "language": "python",
     "metadata": {},
     "outputs": [
      {
       "metadata": {},
       "output_type": "pyout",
       "prompt_number": 40,
       "text": [
        "\"\\nfn = '/home/jb/data/adhd200/NeuroIMAGE/2756846/sfnwmrda2756846_session_1_rest_1.nii.gz'\\nfn = '/home/jb/data/ds105/sub001/BOLD/task001_run001/bold.nii.gz'\\nimg = nib.load(fn)\\nprint(img.get_affine())\\n\""
       ]
      }
     ],
     "prompt_number": 40
    },
    {
     "cell_type": "code",
     "collapsed": false,
     "input": [
      "roi = aal['Frontal_Inf_Tri_L']\n",
      "ijk_roi = (roi.get_data() == 1)\n",
      "roi.get_data().sum()"
     ],
     "language": "python",
     "metadata": {},
     "outputs": [
      {
       "metadata": {},
       "output_type": "pyout",
       "prompt_number": 48,
       "text": [
        "memmap(2529)"
       ]
      }
     ],
     "prompt_number": 48
    },
    {
     "cell_type": "code",
     "collapsed": false,
     "input": [
      "print(ijk_roi.shape)\n",
      "(roi.get_data()[ijk_roi]).shape\n",
      "(roi.get_data()[ijk_roi])[:10]"
     ],
     "language": "python",
     "metadata": {},
     "outputs": [
      {
       "output_type": "stream",
       "stream": "stdout",
       "text": [
        "(91, 109, 91)\n"
       ]
      },
      {
       "metadata": {},
       "output_type": "pyout",
       "prompt_number": 50,
       "text": [
        "memmap([1, 1, 1, 1, 1, 1, 1, 1, 1, 1], dtype=int16)"
       ]
      }
     ],
     "prompt_number": 50
    },
    {
     "cell_type": "code",
     "collapsed": false,
     "input": [
      "roi2img = lin.inv(img_aff).dot(aal_aff)\n",
      "#lin.inv(aal_aff).dot(img_aff)"
     ],
     "language": "python",
     "metadata": {},
     "outputs": [],
     "prompt_number": 61
    },
    {
     "cell_type": "code",
     "collapsed": false,
     "input": [
      "roi.get_data().shape"
     ],
     "language": "python",
     "metadata": {},
     "outputs": [
      {
       "metadata": {},
       "output_type": "pyout",
       "prompt_number": 52,
       "text": [
        "(91, 109, 91)"
       ]
      }
     ],
     "prompt_number": 52
    },
    {
     "cell_type": "code",
     "collapsed": false,
     "input": [
      "img.get_data().shape"
     ],
     "language": "python",
     "metadata": {},
     "outputs": [
      {
       "metadata": {},
       "output_type": "pyout",
       "prompt_number": 53,
       "text": [
        "(79, 95, 68, 196)"
       ]
      }
     ],
     "prompt_number": 53
    },
    {
     "cell_type": "code",
     "collapsed": false,
     "input": [
      "ijk = np.where(ijk_roi)"
     ],
     "language": "python",
     "metadata": {},
     "outputs": [],
     "prompt_number": 109
    },
    {
     "cell_type": "code",
     "collapsed": false,
     "input": [
      "np.asarray(ijk)"
     ],
     "language": "python",
     "metadata": {},
     "outputs": [
      {
       "metadata": {},
       "output_type": "pyout",
       "prompt_number": 111,
       "text": [
        "array([[60, 60, 60, ..., 75, 75, 75],\n",
        "       [78, 78, 78, ..., 75, 76, 76],\n",
        "       [35, 36, 37, ..., 47, 42, 43]])"
       ]
      }
     ],
     "prompt_number": 111
    },
    {
     "cell_type": "code",
     "collapsed": false,
     "input": [
      "coords = np.vstack((i_, j_, k_, np.ones(len(i_))))"
     ],
     "language": "python",
     "metadata": {},
     "outputs": [],
     "prompt_number": 58
    },
    {
     "cell_type": "code",
     "collapsed": false,
     "input": [
      "coords.shape"
     ],
     "language": "python",
     "metadata": {},
     "outputs": [
      {
       "metadata": {},
       "output_type": "pyout",
       "prompt_number": 60,
       "text": [
        "(4, 2529)"
       ]
      }
     ],
     "prompt_number": 60
    },
    {
     "cell_type": "code",
     "collapsed": false,
     "input": [
      "img_ijk = roi2img.dot(coords)\n",
      "img_ijk.max(axis=1)"
     ],
     "language": "python",
     "metadata": {},
     "outputs": [
      {
       "metadata": {},
       "output_type": "pyout",
       "prompt_number": 78,
       "text": [
        "array([ 69.,  80.,  40.,   1.])"
       ]
      }
     ],
     "prompt_number": 78
    },
    {
     "cell_type": "code",
     "collapsed": false,
     "input": [
      "np.asarray(img.shape[:3]+(2,)).reshape(4,1) - img_ijk.max(axis=1).reshape(4,1)"
     ],
     "language": "python",
     "metadata": {},
     "outputs": [
      {
       "metadata": {},
       "output_type": "pyout",
       "prompt_number": 88,
       "text": [
        "array([[ 10.],\n",
        "       [ 15.],\n",
        "       [ 28.],\n",
        "       [  1.]])"
       ]
      }
     ],
     "prompt_number": 88
    },
    {
     "cell_type": "code",
     "collapsed": false,
     "input": [
      "assert np.all(np.logical_and(img_ijk > 0,\n",
      "              (np.asarray(img.shape[:3]+(2,)).reshape(4,1) - img_ijk.max(axis=1).reshape(4,1) > 0)))"
     ],
     "language": "python",
     "metadata": {},
     "outputs": [],
     "prompt_number": 92
    },
    {
     "cell_type": "code",
     "collapsed": false,
     "input": [
      "import importlib\n",
      "import utils.utils_corr as ucr\n",
      "ucr = reload(ucr)"
     ],
     "language": "python",
     "metadata": {},
     "outputs": [],
     "prompt_number": 94
    },
    {
     "cell_type": "code",
     "collapsed": false,
     "input": [
      "def extract_signals(rois_dir, roi_prefix, fn_img4d, mask=None):\n",
      "    \"\"\"\n",
      "    Extract signals from list of 4d nifti\n",
      "    \n",
      "    inputs\n",
      "    ------\n",
      "    rois_dir: str\n",
      "    roi_prefix: str\n",
      "    fn_img4d: str\n",
      "    mask: str or nibabel image\n",
      "    \"\"\"\n",
      "    \n",
      "    IMGDIM = 3\n",
      "    TINY = np.finfo('float').eps * 1000\n",
      "    # 1- check that rois in roi_dir are compatible with img4d\n",
      "    \n",
      "    img4d = nib.load(fn_img4d)\n",
      "    aff_img = ucr.xyz_affine(img4d.get_affine(), xyz=[0,1,2])\n",
      "    \n",
      "    ## Check roi affine are the same\n",
      "    \n",
      "    ## Check compatibility\n",
      "    aal_files = gb.glob(osp.join(rois_dir, roi_prefix))\n",
      "    img_roi = nib.load(aal_files[0])\n",
      "    aff_roi = img_roi.get_affine()\n",
      "    assert lin.norm(aff_roi[:IMGDIM,:IMGDIM] - aff_img[:IMGDIM,:IMGDIM], 'fro')  < TINY\n",
      "    # print(aff_roi, aff_img))\n",
      "    \n",
      "    ## is there a translation to operate? \n",
      "    roi2img = lin.inv(aff_img).dot(aff_roi)\n",
      "    translation = (roi2img[:IMGDIM, -1]).reshape(IMGDIM, 1)\n",
      "    print(translation)\n",
      "    translate = False\n",
      "    if lin.norm(translate, 'fro') > TINY:\n",
      "        translate = True\n",
      "    ## is this translation ok with the shape of the image to sample from?\n",
      "        \n",
      "    # 2- extract and return signals\n",
      "    ijk_roi = np.asarray(np.where(img_roi.get_data()))\n",
      "    if translate:\n",
      "        ijk_roi += translation\n",
      "        \n",
      "    ## get the mask - can be filename, nibabel image or array \n",
      "    if mask != None:\n",
      "        if isinstance(mask, string_types):\n",
      "            data_mask = nib.load(mask).get_data()\n",
      "        elif hasattr(mask, get_data):\n",
      "            data_mask = img_mask.get_data()\n",
      "        else:\n",
      "            data_mask = np.asarray(mask)\n",
      "        data_mask = data_mask.astype('bool')\n",
      "    \n",
      "        # see if all ijk are within the mask?\n",
      "        assert np.any(data_mask[ijk_roi]) \n",
      "        #print(\"some voxels not in mask\")\n",
      "    \n",
      "    signal = img4d.get_data()[ijk_roi[0], ijk_roi[1], ijk_roi[2], :]\n",
      "    return signal"
     ],
     "language": "python",
     "metadata": {},
     "outputs": [],
     "prompt_number": 127
    },
    {
     "cell_type": "code",
     "collapsed": false,
     "input": [
      "HOME = osp.expanduser('~')\n",
      "atlas_rois = osp.join(HOME,'code', 'regions', 'regions','tmp')\n",
      "DDIR = osp.join(HOME,'data','simpace','data','sub001','res_analysis_03')\n",
      "img_filename = osp.join(DDIR,'waepi_noton.nii' )\n",
      "aal_files = gb.glob(osp.join(atlas_rois, \"aal_*\"))\n",
      "aal_file = aal_files[0]"
     ],
     "language": "python",
     "metadata": {},
     "outputs": [],
     "prompt_number": 128
    },
    {
     "cell_type": "code",
     "collapsed": false,
     "input": [
      "sig = extract_signals(atlas_rois, \"aal_*\", img_filename, mask=None)"
     ],
     "language": "python",
     "metadata": {},
     "outputs": [
      {
       "output_type": "stream",
       "stream": "stdout",
       "text": [
        "[[ -6.]\n",
        " [ -7.]\n",
        " [-11.]]\n"
       ]
      },
      {
       "ename": "ValueError",
       "evalue": "Improper number of dimensions to norm.",
       "output_type": "pyerr",
       "traceback": [
        "\u001b[1;31m---------------------------------------------------------------------------\u001b[0m\n\u001b[1;31mValueError\u001b[0m                                Traceback (most recent call last)",
        "\u001b[1;32m<ipython-input-129-89f618e757f0>\u001b[0m in \u001b[0;36m<module>\u001b[1;34m()\u001b[0m\n\u001b[1;32m----> 1\u001b[1;33m \u001b[0msig\u001b[0m \u001b[1;33m=\u001b[0m \u001b[0mextract_signals\u001b[0m\u001b[1;33m(\u001b[0m\u001b[0matlas_rois\u001b[0m\u001b[1;33m,\u001b[0m \u001b[1;34m\"aal_*\"\u001b[0m\u001b[1;33m,\u001b[0m \u001b[0mimg_filename\u001b[0m\u001b[1;33m,\u001b[0m \u001b[0mmask\u001b[0m\u001b[1;33m=\u001b[0m\u001b[0mNone\u001b[0m\u001b[1;33m)\u001b[0m\u001b[1;33m\u001b[0m\u001b[0m\n\u001b[0m",
        "\u001b[1;32m<ipython-input-127-81a686c9176a>\u001b[0m in \u001b[0;36mextract_signals\u001b[1;34m(rois_dir, roi_prefix, fn_img4d, mask)\u001b[0m\n\u001b[0;32m     32\u001b[0m     \u001b[1;32mprint\u001b[0m\u001b[1;33m(\u001b[0m\u001b[0mtranslation\u001b[0m\u001b[1;33m)\u001b[0m\u001b[1;33m\u001b[0m\u001b[0m\n\u001b[0;32m     33\u001b[0m     \u001b[0mtranslate\u001b[0m \u001b[1;33m=\u001b[0m \u001b[0mFalse\u001b[0m\u001b[1;33m\u001b[0m\u001b[0m\n\u001b[1;32m---> 34\u001b[1;33m     \u001b[1;32mif\u001b[0m \u001b[0mlin\u001b[0m\u001b[1;33m.\u001b[0m\u001b[0mnorm\u001b[0m\u001b[1;33m(\u001b[0m\u001b[0mtranslate\u001b[0m\u001b[1;33m,\u001b[0m \u001b[1;34m'fro'\u001b[0m\u001b[1;33m)\u001b[0m \u001b[1;33m>\u001b[0m \u001b[0mTINY\u001b[0m\u001b[1;33m:\u001b[0m\u001b[1;33m\u001b[0m\u001b[0m\n\u001b[0m\u001b[0;32m     35\u001b[0m         \u001b[0mtranslate\u001b[0m \u001b[1;33m=\u001b[0m \u001b[0mTrue\u001b[0m\u001b[1;33m\u001b[0m\u001b[0m\n\u001b[0;32m     36\u001b[0m     \u001b[1;31m## is this translation ok with the shape of the image to sample from?\u001b[0m\u001b[1;33m\u001b[0m\u001b[1;33m\u001b[0m\u001b[0m\n",
        "\u001b[1;32m/home/jb/.local/lib/python2.7/site-packages/scipy/linalg/misc.pyc\u001b[0m in \u001b[0;36mnorm\u001b[1;34m(a, ord)\u001b[0m\n\u001b[0;32m    120\u001b[0m         \u001b[0mnrm2\u001b[0m \u001b[1;33m=\u001b[0m \u001b[0mgetattr\u001b[0m\u001b[1;33m(\u001b[0m\u001b[0mblas\u001b[0m\u001b[1;33m,\u001b[0m \u001b[0mfunc_name\u001b[0m\u001b[1;33m)\u001b[0m\u001b[1;33m\u001b[0m\u001b[0m\n\u001b[0;32m    121\u001b[0m         \u001b[1;32mreturn\u001b[0m \u001b[0mnrm2\u001b[0m\u001b[1;33m(\u001b[0m\u001b[0ma\u001b[0m\u001b[1;33m)\u001b[0m\u001b[1;33m\u001b[0m\u001b[0m\n\u001b[1;32m--> 122\u001b[1;33m     \u001b[1;32mreturn\u001b[0m \u001b[0mnp\u001b[0m\u001b[1;33m.\u001b[0m\u001b[0mlinalg\u001b[0m\u001b[1;33m.\u001b[0m\u001b[0mnorm\u001b[0m\u001b[1;33m(\u001b[0m\u001b[0ma\u001b[0m\u001b[1;33m,\u001b[0m \u001b[0mord\u001b[0m\u001b[1;33m=\u001b[0m\u001b[0mord\u001b[0m\u001b[1;33m)\u001b[0m\u001b[1;33m\u001b[0m\u001b[0m\n\u001b[0m\u001b[0;32m    123\u001b[0m \u001b[1;33m\u001b[0m\u001b[0m\n\u001b[0;32m    124\u001b[0m \u001b[0mnorm\u001b[0m\u001b[1;33m.\u001b[0m\u001b[0m__doc__\u001b[0m \u001b[1;33m=\u001b[0m \u001b[0mnp\u001b[0m\u001b[1;33m.\u001b[0m\u001b[0mlinalg\u001b[0m\u001b[1;33m.\u001b[0m\u001b[0mnorm\u001b[0m\u001b[1;33m.\u001b[0m\u001b[0m__doc__\u001b[0m\u001b[1;33m\u001b[0m\u001b[0m\n",
        "\u001b[1;32m/home/jb/.local/lib/python2.7/site-packages/numpy/linalg/linalg.pyc\u001b[0m in \u001b[0;36mnorm\u001b[1;34m(x, ord)\u001b[0m\n\u001b[0;32m   2009\u001b[0m             \u001b[1;32mraise\u001b[0m \u001b[0mValueError\u001b[0m\u001b[1;33m(\u001b[0m\u001b[1;34m\"Invalid norm order for matrices.\"\u001b[0m\u001b[1;33m)\u001b[0m\u001b[1;33m\u001b[0m\u001b[0m\n\u001b[0;32m   2010\u001b[0m     \u001b[1;32melse\u001b[0m\u001b[1;33m:\u001b[0m\u001b[1;33m\u001b[0m\u001b[0m\n\u001b[1;32m-> 2011\u001b[1;33m         \u001b[1;32mraise\u001b[0m \u001b[0mValueError\u001b[0m\u001b[1;33m(\u001b[0m\u001b[1;34m\"Improper number of dimensions to norm.\"\u001b[0m\u001b[1;33m)\u001b[0m\u001b[1;33m\u001b[0m\u001b[0m\n\u001b[0m",
        "\u001b[1;31mValueError\u001b[0m: Improper number of dimensions to norm."
       ]
      }
     ],
     "prompt_number": 129
    },
    {
     "cell_type": "code",
     "collapsed": false,
     "input": [
      "i = [1,2]\n",
      "j = [0,1]\n",
      "\n",
      "d = np.arange(3*3*2).reshape(3,3,2)\n",
      "d[i,j,:]\n",
      "d[*(i,j), :]"
     ],
     "language": "python",
     "metadata": {},
     "outputs": [
      {
       "ename": "SyntaxError",
       "evalue": "invalid syntax (<ipython-input-116-005b6d29391e>, line 6)",
       "output_type": "pyerr",
       "traceback": [
        "\u001b[1;36m  File \u001b[1;32m\"<ipython-input-116-005b6d29391e>\"\u001b[1;36m, line \u001b[1;32m6\u001b[0m\n\u001b[1;33m    d[*(i,j), :]\u001b[0m\n\u001b[1;37m      ^\u001b[0m\n\u001b[1;31mSyntaxError\u001b[0m\u001b[1;31m:\u001b[0m invalid syntax\n"
       ]
      }
     ],
     "prompt_number": 116
    },
    {
     "cell_type": "code",
     "collapsed": false,
     "input": [
      "d"
     ],
     "language": "python",
     "metadata": {},
     "outputs": [
      {
       "metadata": {},
       "output_type": "pyout",
       "prompt_number": 103,
       "text": [
        "array([[[ 0,  1],\n",
        "        [ 2,  3],\n",
        "        [ 4,  5]],\n",
        "\n",
        "       [[ 6,  7],\n",
        "        [ 8,  9],\n",
        "        [10, 11]],\n",
        "\n",
        "       [[12, 13],\n",
        "        [14, 15],\n",
        "        [16, 17]]])"
       ]
      }
     ],
     "prompt_number": 103
    },
    {
     "cell_type": "code",
     "collapsed": false,
     "input": [],
     "language": "python",
     "metadata": {},
     "outputs": []
    }
   ],
   "metadata": {}
  }
 ]
}