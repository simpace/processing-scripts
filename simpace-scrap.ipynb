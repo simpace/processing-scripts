{
 "metadata": {
  "name": "",
  "signature": "sha256:c1ba70da22bb3bbc8348605044402bf78902aaf73d7fb56f4f120998c2871fc4"
 },
 "nbformat": 3,
 "nbformat_minor": 0,
 "worksheets": [
  {
   "cells": [
    {
     "cell_type": "code",
     "collapsed": false,
     "input": [
      "%pylab inline\n",
      "from __future__ import print_function, division"
     ],
     "language": "python",
     "metadata": {},
     "outputs": [
      {
       "output_type": "stream",
       "stream": "stdout",
       "text": [
        "Populating the interactive namespace from numpy and matplotlib\n"
       ]
      }
     ],
     "prompt_number": 1
    },
    {
     "cell_type": "heading",
     "level": 1,
     "metadata": {},
     "source": [
      "A notebook to test the scripts to analyze simpace data"
     ]
    },
    {
     "cell_type": "code",
     "collapsed": false,
     "input": [
      "import nibabel as nib\n",
      "import numpy as np\n",
      "import os\n",
      "import os.path as osp\n",
      "import matplotlib.pyplot as plt\n",
      "import nipy\n",
      "import json\n",
      "import scipy.linalg as lin\n",
      "import scipy.stats as sst\n",
      "from warnings import warn\n",
      "import datetime, time\n",
      "import glob as gb\n",
      "from six import string_types"
     ],
     "language": "python",
     "metadata": {},
     "outputs": [],
     "prompt_number": 2
    },
    {
     "cell_type": "code",
     "collapsed": false,
     "input": [
      "HOME = osp.expanduser('~')\n",
      "atlas_rois = osp.join(HOME,'code', 'regions', 'regions','tmp')\n",
      "DDIR = osp.join(HOME,'data','simpace','data','sub001','res_analysis_03')\n",
      "img_filename = osp.join(DDIR,'waepi_noton.nii' )"
     ],
     "language": "python",
     "metadata": {},
     "outputs": [],
     "prompt_number": 3
    },
    {
     "cell_type": "code",
     "collapsed": false,
     "input": [
      "aal_files = gb.glob(osp.join(atlas_rois, \"aal_*\"))"
     ],
     "language": "python",
     "metadata": {},
     "outputs": [],
     "prompt_number": 4
    },
    {
     "cell_type": "code",
     "collapsed": false,
     "input": [
      "print(osp.join(atlas_rois, \"aal_*\"))\n",
      "print(aal_files[:3])"
     ],
     "language": "python",
     "metadata": {},
     "outputs": [
      {
       "output_type": "stream",
       "stream": "stdout",
       "text": [
        "/home/jb/code/regions/regions/tmp/aal_*\n",
        "['/home/jb/code/regions/regions/tmp/aal_Frontal_Inf_Tri_L___.nii', '/home/jb/code/regions/regions/tmp/aal_Lingual_R___________.nii', '/home/jb/code/regions/regions/tmp/aal_Cerebelum_Crus1_R___.nii']\n"
       ]
      }
     ],
     "prompt_number": 5
    },
    {
     "cell_type": "code",
     "collapsed": false,
     "input": [
      "aal = {}\n",
      "aal['Frontal_Inf_Tri_L'] = nib.load(aal_files[0])\n",
      "aal_aff = aal['Frontal_Inf_Tri_L'].get_affine()\n",
      "print(aal_aff)\n"
     ],
     "language": "python",
     "metadata": {},
     "outputs": [
      {
       "output_type": "stream",
       "stream": "stdout",
       "text": [
        "[[  -2.    0.    0.   90.]\n",
        " [   0.    2.    0. -126.]\n",
        " [   0.    0.    2.  -72.]\n",
        " [   0.    0.    0.    1.]]\n"
       ]
      }
     ],
     "prompt_number": 6
    },
    {
     "cell_type": "code",
     "collapsed": false,
     "input": [
      "img = nib.load(img_filename)\n",
      "img_aff = img.get_affine()\n",
      "print(img_aff)"
     ],
     "language": "python",
     "metadata": {},
     "outputs": [
      {
       "output_type": "stream",
       "stream": "stdout",
       "text": [
        "[[  -2.    0.    0.   78.]\n",
        " [   0.    2.    0. -112.]\n",
        " [   0.    0.    2.  -50.]\n",
        " [   0.    0.    0.    1.]]\n"
       ]
      }
     ],
     "prompt_number": 7
    },
    {
     "cell_type": "code",
     "collapsed": false,
     "input": [
      "\"\"\"\n",
      "fn = '/home/jb/data/adhd200/NeuroIMAGE/2756846/sfnwmrda2756846_session_1_rest_1.nii.gz'\n",
      "fn = '/home/jb/data/ds105/sub001/BOLD/task001_run001/bold.nii.gz'\n",
      "img = nib.load(fn)\n",
      "print(img.get_affine())\n",
      "\"\"\""
     ],
     "language": "python",
     "metadata": {},
     "outputs": [
      {
       "metadata": {},
       "output_type": "pyout",
       "prompt_number": 8,
       "text": [
        "\"\\nfn = '/home/jb/data/adhd200/NeuroIMAGE/2756846/sfnwmrda2756846_session_1_rest_1.nii.gz'\\nfn = '/home/jb/data/ds105/sub001/BOLD/task001_run001/bold.nii.gz'\\nimg = nib.load(fn)\\nprint(img.get_affine())\\n\""
       ]
      }
     ],
     "prompt_number": 8
    },
    {
     "cell_type": "code",
     "collapsed": false,
     "input": [
      "roi = aal['Frontal_Inf_Tri_L']\n",
      "ijk_roi = (roi.get_data() == 1)\n",
      "roi.get_data().sum()"
     ],
     "language": "python",
     "metadata": {},
     "outputs": [
      {
       "metadata": {},
       "output_type": "pyout",
       "prompt_number": 9,
       "text": [
        "memmap(2529)"
       ]
      }
     ],
     "prompt_number": 9
    },
    {
     "cell_type": "code",
     "collapsed": false,
     "input": [
      "print(ijk_roi.shape)\n",
      "(roi.get_data()[ijk_roi]).shape\n",
      "(roi.get_data()[ijk_roi])[:10]"
     ],
     "language": "python",
     "metadata": {},
     "outputs": [
      {
       "output_type": "stream",
       "stream": "stdout",
       "text": [
        "(91, 109, 91)\n"
       ]
      },
      {
       "metadata": {},
       "output_type": "pyout",
       "prompt_number": 10,
       "text": [
        "memmap([1, 1, 1, 1, 1, 1, 1, 1, 1, 1], dtype=int16)"
       ]
      }
     ],
     "prompt_number": 10
    },
    {
     "cell_type": "code",
     "collapsed": false,
     "input": [
      "roi2img = lin.inv(img_aff).dot(aal_aff)\n",
      "#lin.inv(aal_aff).dot(img_aff)"
     ],
     "language": "python",
     "metadata": {},
     "outputs": [],
     "prompt_number": 11
    },
    {
     "cell_type": "code",
     "collapsed": false,
     "input": [
      "roi.get_data().shape"
     ],
     "language": "python",
     "metadata": {},
     "outputs": [
      {
       "metadata": {},
       "output_type": "pyout",
       "prompt_number": 12,
       "text": [
        "(91, 109, 91)"
       ]
      }
     ],
     "prompt_number": 12
    },
    {
     "cell_type": "code",
     "collapsed": false,
     "input": [
      "img.get_data().shape"
     ],
     "language": "python",
     "metadata": {},
     "outputs": [
      {
       "metadata": {},
       "output_type": "pyout",
       "prompt_number": 13,
       "text": [
        "(79, 95, 68, 196)"
       ]
      }
     ],
     "prompt_number": 13
    },
    {
     "cell_type": "code",
     "collapsed": false,
     "input": [
      "ijk = np.where(ijk_roi)"
     ],
     "language": "python",
     "metadata": {},
     "outputs": [],
     "prompt_number": 14
    },
    {
     "cell_type": "code",
     "collapsed": false,
     "input": [
      "np.asarray(ijk)"
     ],
     "language": "python",
     "metadata": {},
     "outputs": [
      {
       "metadata": {},
       "output_type": "pyout",
       "prompt_number": 15,
       "text": [
        "array([[60, 60, 60, ..., 75, 75, 75],\n",
        "       [78, 78, 78, ..., 75, 76, 76],\n",
        "       [35, 36, 37, ..., 47, 42, 43]])"
       ]
      }
     ],
     "prompt_number": 15
    },
    {
     "cell_type": "code",
     "collapsed": false,
     "input": [
      "coords = np.vstack((ijk[0], ijk[1], ijk[2], np.ones(len(ijk[0]))))\n",
      "#print(coords.shape)"
     ],
     "language": "python",
     "metadata": {},
     "outputs": [],
     "prompt_number": 22
    },
    {
     "cell_type": "code",
     "collapsed": false,
     "input": [
      "img_ijk = roi2img.dot(coords)\n",
      "img_ijk.max(axis=1)"
     ],
     "language": "python",
     "metadata": {},
     "outputs": [
      {
       "metadata": {},
       "output_type": "pyout",
       "prompt_number": 23,
       "text": [
        "array([ 69.,  80.,  40.,   1.])"
       ]
      }
     ],
     "prompt_number": 23
    },
    {
     "cell_type": "code",
     "collapsed": false,
     "input": [
      "np.asarray(img.shape[:3]+(2,)).reshape(4,1) - img_ijk.max(axis=1).reshape(4,1)"
     ],
     "language": "python",
     "metadata": {},
     "outputs": [
      {
       "metadata": {},
       "output_type": "pyout",
       "prompt_number": 24,
       "text": [
        "array([[ 10.],\n",
        "       [ 15.],\n",
        "       [ 28.],\n",
        "       [  1.]])"
       ]
      }
     ],
     "prompt_number": 24
    },
    {
     "cell_type": "code",
     "collapsed": false,
     "input": [
      "assert np.all(np.logical_and(img_ijk > 0,\n",
      "              (np.asarray(img.shape[:3]+(2,)).reshape(4,1) - img_ijk.max(axis=1).reshape(4,1) > 0)))"
     ],
     "language": "python",
     "metadata": {},
     "outputs": [],
     "prompt_number": 25
    },
    {
     "cell_type": "code",
     "collapsed": false,
     "input": [],
     "language": "python",
     "metadata": {},
     "outputs": [],
     "prompt_number": 62
    },
    {
     "cell_type": "code",
     "collapsed": false,
     "input": [
      "a = '''\n",
      "def extract_signals(rois_dir, roi_prefix, fn_img4d, mask=None):\n",
      "    \"\"\"\n",
      "    Extract signals from list of 4d nifti\n",
      "    \n",
      "    inputs\n",
      "    ------\n",
      "    rois_dir: str\n",
      "    roi_prefix: str\n",
      "    fn_img4d: str\n",
      "    mask: str or nibabel image\n",
      "    \"\"\"\n",
      "    \n",
      "    IMGDIM = 3\n",
      "    TINY = np.finfo('float').eps * 1000\n",
      "    \n",
      "    img4d = nib.load(fn_img4d)\n",
      "    aff_img = ucr.xyz_affine(img4d.get_affine(), xyz=[0,1,2])\n",
      "    \n",
      "    # 1- Check roi affine are all the same\n",
      "    aal_files = gb.glob(osp.join(rois_dir, roi_prefix))\n",
      "    roi_imgs = {}\n",
      "    for fn in aal_files:\n",
      "        roi_imgs[fn] = nib.load(fn)\n",
      "    roi_affs = np.asarray([img.get_affine()[:IMGDIM,:IMGDIM] for img in roi_imgs.values()])\n",
      "    aff_roi = roi_affs[0].copy()\n",
      "    roi_affs -= aff_roi\n",
      "    norms_affs = [lin.norm(roi_affs[i], 'fro') for i in range(len(roi_affs))]\n",
      "    assert lin.norm(np.asarray(norms_affs))  < TINY \n",
      "        \n",
      "    # 2- check that rois in roi_dir are compatible with img4d\n",
      "    # print(aff_roi[:IMGDIM,:IMGDIM], aff_img[:IMGDIM,:IMGDIM])\n",
      "    assert lin.norm(aff_roi[:IMGDIM,:IMGDIM] - aff_img[:IMGDIM,:IMGDIM], 'fro')  < TINY\n",
      "    # print(aff_roi, aff_img))\n",
      "    \n",
      "    # translate ?\n",
      "    translate = False\n",
      "    print(aff_img)\n",
      "    full_aff_roi = roi_imgs[roi_imgs.keys()[0]].get_affine()\n",
      "    print(full_aff_roi)\n",
      "    roi2img = lin.inv(aff_img).dot(full_aff_roi)\n",
      "    translation = (roi2img[:IMGDIM, -1]).reshape(IMGDIM, 1)\n",
      "    print(\"translation: \",translation)\n",
      "    if lin.norm(translation, 'fro') > TINY:\n",
      "        translate = True\n",
      "    \n",
      "    # need to mask? get the mask - can be filename, nibabel image or array\n",
      "    if mask != None:\n",
      "        if isinstance(mask, string_types):\n",
      "            data_mask = nib.load(mask).get_data()\n",
      "        elif hasattr(mask, get_data):\n",
      "            data_mask = img_mask.get_data()\n",
      "        else:\n",
      "            data_mask = np.asarray(mask)\n",
      "        data_mask = data_mask.astype('bool')\n",
      "    \n",
      "    \n",
      "    # 3- extract and return signals\n",
      "    signals = {}\n",
      "    issues = {}\n",
      "    for roi_name, roi in roi_imgs.iteritems():\n",
      "        print(roi_name)\n",
      "        ijk_roi = np.asarray(np.where(roi.get_data().astype('bool')))\n",
      "    \n",
      "        if translate:\n",
      "            ijk_roi += translation\n",
      "        \n",
      "        print(ijk_roi.min(axis=1), ijk_roi.max(axis=1))\n",
      "        ## is this translation ok with the shape of the image to sample from?\n",
      "        img3dshape = np.asarray(img4d.shape)[:IMGDIM].reshape(IMGDIM,1)\n",
      "        print(img3dshape)\n",
      "        \n",
      "        if not (np.all(ijk_roi >= 0) and np.all((img3dshape - ijk_roi) > 0)):\n",
      "            print(\"could not sample roi :\", roi_name)\n",
      "            signals[roi_name] = None\n",
      "            issues[roi_name] = 'ijk_roi out of image shape'\n",
      "            continue\n",
      "            \n",
      "        # see if all ijk are within the mask?\n",
      "        if mask != None:\n",
      "            # not all voxels in the mask ? \n",
      "            vox_in_mask = np.all(data_mask[ijk_roi], axis=0)\n",
      "            if not np.all(data_mask[ijk_roi]):\n",
      "                issues[roi_name] = ('not all voxels in mask', len(vox_in_mask==True))\n",
      "                print(\"some voxels not in mask\")\n",
      "        else:\n",
      "            vox_in_mask = np.ones(ijk_roi.shape[1]).astype('bool')\n",
      "        \n",
      "        nvox = vox_in_mask.sum() # number of True\n",
      "        signals[roi_name] = ((img4d.get_data()[ijk_roi[0][vox_in_mask], \n",
      "                                              ijk_roi[1][vox_in_mask], \n",
      "                                              ijk_roi[2][vox_in_mask], :]).mean(axis=0), nvox)\n",
      "        \n",
      "    return signals\n",
      "    \n",
      "'''\n"
     ],
     "language": "python",
     "metadata": {},
     "outputs": [],
     "prompt_number": 54
    },
    {
     "cell_type": "code",
     "collapsed": false,
     "input": [
      "import importlib\n",
      "import utils.utils_corr as ucr\n",
      "ucr = reload(ucr)"
     ],
     "language": "python",
     "metadata": {},
     "outputs": [],
     "prompt_number": 77
    },
    {
     "cell_type": "code",
     "collapsed": false,
     "input": [
      "HOME = osp.expanduser('~')\n",
      "atlas_rois = osp.join(HOME,'code', 'regions', 'regions','tmp')\n",
      "DDIR = osp.join(HOME,'data','simpace','data','sub001','res_analysis_03')\n",
      "img_filename = osp.join(DDIR,'waepi_noton.nii' )\n",
      "aal_files = gb.glob(osp.join(atlas_rois, \"aal_*\"))\n",
      "aal_file = aal_files[0]"
     ],
     "language": "python",
     "metadata": {},
     "outputs": [],
     "prompt_number": 78
    },
    {
     "cell_type": "code",
     "collapsed": false,
     "input": [
      "sig, issues = ucr.extract_signals(atlas_rois, \"aal_*\", img_filename, mask=None)"
     ],
     "language": "python",
     "metadata": {},
     "outputs": [
      {
       "output_type": "stream",
       "stream": "stdout",
       "text": [
        "[[  -2.    0.    0.   78.]\n",
        " [   0.    2.    0. -112.]\n",
        " [   0.    0.    2.  -50.]\n",
        " [   0.    0.    0.    1.]]\n",
        "[[  -2.    0.    0.   90.]\n",
        " [   0.    2.    0. -126.]\n",
        " [   0.    0.    2.  -72.]\n",
        " [   0.    0.    0.    1.]]\n",
        "translation:  [[ -6.]\n",
        " [ -7.]\n",
        " [-11.]]\n",
        "could not sample all roi : /home/jb/code/regions/regions/tmp/aal_Cerebelum_8_L_______.nii\n",
        "[40 19 -5] [61 39 10]\n",
        "could not sample all roi :"
       ]
      },
      {
       "output_type": "stream",
       "stream": "stdout",
       "text": [
        " /home/jb/code/regions/regions/tmp/aal_Cerebelum_Crus2_R___.nii\n",
        "[10 10 -1] [38 39 12]\n",
        "could not sample all roi :"
       ]
      },
      {
       "output_type": "stream",
       "stream": "stdout",
       "text": [
        " /home/jb/code/regions/regions/tmp/aal_Cerebelum_9_L_______.nii\n",
        "[39 25 -4] [50 37  9]\n",
        "could not sample all roi :"
       ]
      },
      {
       "output_type": "stream",
       "stream": "stdout",
       "text": [
        " /home/jb/code/regions/regions/tmp/aal_Cerebelum_Crus2_L___.nii\n",
        "[38 10 -1] [67 36 14]\n",
        "could not sample all roi :"
       ]
      },
      {
       "output_type": "stream",
       "stream": "stdout",
       "text": [
        " /home/jb/code/regions/regions/tmp/aal_Cerebelum_7b_L______.nii\n",
        "[40 17 -3] [64 39  8]\n",
        "could not sample all roi :"
       ]
      },
      {
       "output_type": "stream",
       "stream": "stdout",
       "text": [
        " /home/jb/code/regions/regions/tmp/aal_Cerebelum_9_R_______.nii\n",
        "[28 25 -5] [38 37  9]\n",
        "could not sample all roi :"
       ]
      },
      {
       "output_type": "stream",
       "stream": "stdout",
       "text": [
        " /home/jb/code/regions/regions/tmp/aal_Cerebelum_7b_R______.nii\n",
        "[13 15 -4] [37 39  5]\n",
        "could not sample all roi :"
       ]
      },
      {
       "output_type": "stream",
       "stream": "stdout",
       "text": [
        " /home/jb/code/regions/regions/tmp/aal_Cerebelum_8_R_______.nii\n",
        "[16 18 -6] [36 39 10]\n"
       ]
      }
     ],
     "prompt_number": 79
    },
    {
     "cell_type": "code",
     "collapsed": false,
     "input": [
      "_keys = sig.keys()\n",
      "for k in _keys[:10]:\n",
      "    if sig[k] != None:\n",
      "        print(sig[k][1])"
     ],
     "language": "python",
     "metadata": {},
     "outputs": [
      {
       "output_type": "stream",
       "stream": "stdout",
       "text": [
        "3892\n",
        "2296\n",
        "159\n",
        "174\n",
        "836\n",
        "144\n",
        "2147\n",
        "1338\n"
       ]
      }
     ],
     "prompt_number": 80
    },
    {
     "cell_type": "code",
     "collapsed": false,
     "input": [
      "k = _keys[3]\n",
      "print(k, sig[k][1])\n",
      "#print(sig[k][0])\n",
      "if sig[k][0] != None:\n",
      "    plt.plot(sig[k][0])\n",
      "    print(issues[k])"
     ],
     "language": "python",
     "metadata": {},
     "outputs": [
      {
       "output_type": "stream",
       "stream": "stdout",
       "text": [
        "/home/jb/code/regions/regions/tmp/aal_Cerebelum_10_R______.nii 159\n",
        "False\n"
       ]
      },
      {
       "metadata": {},
       "output_type": "display_data",
       "png": "[encoded data removed]",
       "text": [
        "<matplotlib.figure.Figure at 0x53abf10>"
       ]
      }
     ],
     "prompt_number": 81
    },
    {
     "cell_type": "code",
     "collapsed": false,
     "input": [],
     "language": "python",
     "metadata": {},
     "outputs": []
    },
    {
     "cell_type": "code",
     "collapsed": false,
     "input": [
      "i = [1,2]\n",
      "j = [0,1]\n",
      "\n",
      "d = np.arange(3*3).reshape(3,3)\n"
     ],
     "language": "python",
     "metadata": {},
     "outputs": [],
     "prompt_number": 226
    },
    {
     "cell_type": "code",
     "collapsed": false,
     "input": [
      "d[0][[True, False, True]]"
     ],
     "language": "python",
     "metadata": {},
     "outputs": [
      {
       "metadata": {},
       "output_type": "pyout",
       "prompt_number": 230,
       "text": [
        "array([1, 0, 1])"
       ]
      }
     ],
     "prompt_number": 230
    },
    {
     "cell_type": "code",
     "collapsed": false,
     "input": [
      "d"
     ],
     "language": "python",
     "metadata": {},
     "outputs": [
      {
       "metadata": {},
       "output_type": "pyout",
       "prompt_number": 228,
       "text": [
        "array([[0, 1, 2],\n",
        "       [3, 4, 5],\n",
        "       [6, 7, 8]])"
       ]
      }
     ],
     "prompt_number": 228
    },
    {
     "cell_type": "code",
     "collapsed": false,
     "input": [],
     "language": "python",
     "metadata": {},
     "outputs": []
    }
   ],
   "metadata": {}
  }
 ]
}