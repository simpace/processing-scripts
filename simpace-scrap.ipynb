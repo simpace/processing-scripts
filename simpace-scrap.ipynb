{
 "metadata": {
  "name": "",
  "signature": "sha256:88912258ad3b28d16ce89564c197adb702c22078270bdb8a9b0dba05634f9932"
 },
 "nbformat": 3,
 "nbformat_minor": 0,
 "worksheets": [
  {
   "cells": [
    {
     "cell_type": "code",
     "collapsed": false,
     "input": [
      "%pylab inline\n",
      "from __future__ import print_function, division"
     ],
     "language": "python",
     "metadata": {},
     "outputs": [
      {
       "output_type": "stream",
       "stream": "stdout",
       "text": [
        "Populating the interactive namespace from numpy and matplotlib\n"
       ]
      }
     ],
     "prompt_number": 5
    },
    {
     "cell_type": "heading",
     "level": 1,
     "metadata": {},
     "source": [
      "A notebook to test the scripts to analyze simpace data"
     ]
    },
    {
     "cell_type": "code",
     "collapsed": false,
     "input": [
      "import nibabel as nib\n",
      "import numpy as np\n",
      "import os\n",
      "import os.path as osp\n",
      "import matplotlib.pyplot as plt\n",
      "import nipy\n",
      "import json\n",
      "import scipy.linalg as lin\n",
      "import scipy.stats as sst\n",
      "from warnings import warn\n",
      "import datetime, time\n",
      "import glob as gb\n",
      "from six import string_types"
     ],
     "language": "python",
     "metadata": {},
     "outputs": [],
     "prompt_number": 107
    },
    {
     "cell_type": "code",
     "collapsed": false,
     "input": [
      "HOME = osp.expanduser('~')\n",
      "atlas_rois = osp.join(HOME,'code', 'regions', 'regions','tmp')\n",
      "DDIR = osp.join(HOME,'data','simpace','data','sub001','res_analysis_03')\n",
      "img_filename = osp.join(DDIR,'waepi_noton.nii' )"
     ],
     "language": "python",
     "metadata": {},
     "outputs": [],
     "prompt_number": 30
    },
    {
     "cell_type": "code",
     "collapsed": false,
     "input": [
      "aal_files = gb.glob(osp.join(atlas_rois, \"aal_*\"))"
     ],
     "language": "python",
     "metadata": {},
     "outputs": [],
     "prompt_number": 31
    },
    {
     "cell_type": "code",
     "collapsed": false,
     "input": [
      "print(osp.join(atlas_rois, \"aal_*\"))\n",
      "print(aal_files[:3])"
     ],
     "language": "python",
     "metadata": {},
     "outputs": [
      {
       "output_type": "stream",
       "stream": "stdout",
       "text": [
        "/home/jb/code/regions/regions/tmp/aal_*\n",
        "['/home/jb/code/regions/regions/tmp/aal_Frontal_Inf_Tri_L___.nii', '/home/jb/code/regions/regions/tmp/aal_Lingual_R___________.nii', '/home/jb/code/regions/regions/tmp/aal_Cerebelum_Crus1_R___.nii']\n"
       ]
      }
     ],
     "prompt_number": 32
    },
    {
     "cell_type": "code",
     "collapsed": false,
     "input": [
      "aal = {}\n",
      "aal['Frontal_Inf_Tri_L'] = nib.load(aal_files[0])\n",
      "aal_aff = aal['Frontal_Inf_Tri_L'].get_affine()\n",
      "print(aal_aff)\n"
     ],
     "language": "python",
     "metadata": {},
     "outputs": [
      {
       "output_type": "stream",
       "stream": "stdout",
       "text": [
        "[[  -2.    0.    0.   90.]\n",
        " [   0.    2.    0. -126.]\n",
        " [   0.    0.    2.  -72.]\n",
        " [   0.    0.    0.    1.]]\n"
       ]
      }
     ],
     "prompt_number": 42
    },
    {
     "cell_type": "code",
     "collapsed": false,
     "input": [
      "img = nib.load(img_filename)\n",
      "img_aff = img.get_affine()\n",
      "print(img_aff)"
     ],
     "language": "python",
     "metadata": {},
     "outputs": [
      {
       "output_type": "stream",
       "stream": "stdout",
       "text": [
        "[[  -2.    0.    0.   78.]\n",
        " [   0.    2.    0. -112.]\n",
        " [   0.    0.    2.  -50.]\n",
        " [   0.    0.    0.    1.]]\n"
       ]
      }
     ],
     "prompt_number": 43
    },
    {
     "cell_type": "code",
     "collapsed": false,
     "input": [
      "\"\"\"\n",
      "fn = '/home/jb/data/adhd200/NeuroIMAGE/2756846/sfnwmrda2756846_session_1_rest_1.nii.gz'\n",
      "fn = '/home/jb/data/ds105/sub001/BOLD/task001_run001/bold.nii.gz'\n",
      "img = nib.load(fn)\n",
      "print(img.get_affine())\n",
      "\"\"\""
     ],
     "language": "python",
     "metadata": {},
     "outputs": [
      {
       "metadata": {},
       "output_type": "pyout",
       "prompt_number": 40,
       "text": [
        "\"\\nfn = '/home/jb/data/adhd200/NeuroIMAGE/2756846/sfnwmrda2756846_session_1_rest_1.nii.gz'\\nfn = '/home/jb/data/ds105/sub001/BOLD/task001_run001/bold.nii.gz'\\nimg = nib.load(fn)\\nprint(img.get_affine())\\n\""
       ]
      }
     ],
     "prompt_number": 40
    },
    {
     "cell_type": "code",
     "collapsed": false,
     "input": [
      "roi = aal['Frontal_Inf_Tri_L']\n",
      "ijk_roi = (roi.get_data() == 1)\n",
      "roi.get_data().sum()"
     ],
     "language": "python",
     "metadata": {},
     "outputs": [
      {
       "metadata": {},
       "output_type": "pyout",
       "prompt_number": 48,
       "text": [
        "memmap(2529)"
       ]
      }
     ],
     "prompt_number": 48
    },
    {
     "cell_type": "code",
     "collapsed": false,
     "input": [
      "print(ijk_roi.shape)\n",
      "(roi.get_data()[ijk_roi]).shape\n",
      "(roi.get_data()[ijk_roi])[:10]"
     ],
     "language": "python",
     "metadata": {},
     "outputs": [
      {
       "output_type": "stream",
       "stream": "stdout",
       "text": [
        "(91, 109, 91)\n"
       ]
      },
      {
       "metadata": {},
       "output_type": "pyout",
       "prompt_number": 50,
       "text": [
        "memmap([1, 1, 1, 1, 1, 1, 1, 1, 1, 1], dtype=int16)"
       ]
      }
     ],
     "prompt_number": 50
    },
    {
     "cell_type": "code",
     "collapsed": false,
     "input": [
      "roi2img = lin.inv(img_aff).dot(aal_aff)\n",
      "#lin.inv(aal_aff).dot(img_aff)"
     ],
     "language": "python",
     "metadata": {},
     "outputs": [],
     "prompt_number": 61
    },
    {
     "cell_type": "code",
     "collapsed": false,
     "input": [
      "roi.get_data().shape"
     ],
     "language": "python",
     "metadata": {},
     "outputs": [
      {
       "metadata": {},
       "output_type": "pyout",
       "prompt_number": 52,
       "text": [
        "(91, 109, 91)"
       ]
      }
     ],
     "prompt_number": 52
    },
    {
     "cell_type": "code",
     "collapsed": false,
     "input": [
      "img.get_data().shape"
     ],
     "language": "python",
     "metadata": {},
     "outputs": [
      {
       "metadata": {},
       "output_type": "pyout",
       "prompt_number": 53,
       "text": [
        "(79, 95, 68, 196)"
       ]
      }
     ],
     "prompt_number": 53
    },
    {
     "cell_type": "code",
     "collapsed": false,
     "input": [
      "ijk = np.where(ijk_roi)"
     ],
     "language": "python",
     "metadata": {},
     "outputs": [],
     "prompt_number": 109
    },
    {
     "cell_type": "code",
     "collapsed": false,
     "input": [
      "np.asarray(ijk)"
     ],
     "language": "python",
     "metadata": {},
     "outputs": [
      {
       "metadata": {},
       "output_type": "pyout",
       "prompt_number": 111,
       "text": [
        "array([[60, 60, 60, ..., 75, 75, 75],\n",
        "       [78, 78, 78, ..., 75, 76, 76],\n",
        "       [35, 36, 37, ..., 47, 42, 43]])"
       ]
      }
     ],
     "prompt_number": 111
    },
    {
     "cell_type": "code",
     "collapsed": false,
     "input": [
      "coords = np.vstack((i_, j_, k_, np.ones(len(i_))))"
     ],
     "language": "python",
     "metadata": {},
     "outputs": [],
     "prompt_number": 58
    },
    {
     "cell_type": "code",
     "collapsed": false,
     "input": [
      "coords.shape"
     ],
     "language": "python",
     "metadata": {},
     "outputs": [
      {
       "metadata": {},
       "output_type": "pyout",
       "prompt_number": 60,
       "text": [
        "(4, 2529)"
       ]
      }
     ],
     "prompt_number": 60
    },
    {
     "cell_type": "code",
     "collapsed": false,
     "input": [
      "img_ijk = roi2img.dot(coords)\n",
      "img_ijk.max(axis=1)"
     ],
     "language": "python",
     "metadata": {},
     "outputs": [
      {
       "metadata": {},
       "output_type": "pyout",
       "prompt_number": 78,
       "text": [
        "array([ 69.,  80.,  40.,   1.])"
       ]
      }
     ],
     "prompt_number": 78
    },
    {
     "cell_type": "code",
     "collapsed": false,
     "input": [
      "np.asarray(img.shape[:3]+(2,)).reshape(4,1) - img_ijk.max(axis=1).reshape(4,1)"
     ],
     "language": "python",
     "metadata": {},
     "outputs": [
      {
       "metadata": {},
       "output_type": "pyout",
       "prompt_number": 88,
       "text": [
        "array([[ 10.],\n",
        "       [ 15.],\n",
        "       [ 28.],\n",
        "       [  1.]])"
       ]
      }
     ],
     "prompt_number": 88
    },
    {
     "cell_type": "code",
     "collapsed": false,
     "input": [
      "assert np.all(np.logical_and(img_ijk > 0,\n",
      "              (np.asarray(img.shape[:3]+(2,)).reshape(4,1) - img_ijk.max(axis=1).reshape(4,1) > 0)))"
     ],
     "language": "python",
     "metadata": {},
     "outputs": [],
     "prompt_number": 92
    },
    {
     "cell_type": "code",
     "collapsed": false,
     "input": [
      "import importlib\n",
      "import utils.utils_corr as ucr\n",
      "ucr = reload(ucr)"
     ],
     "language": "python",
     "metadata": {},
     "outputs": [],
     "prompt_number": 94
    },
    {
     "cell_type": "code",
     "collapsed": false,
     "input": [
      "def extract_signals(rois_dir, roi_prefix, fn_img4d, mask=None):\n",
      "    \"\"\"\n",
      "    Extract signals from list of 4d nifti\n",
      "    \n",
      "    inputs\n",
      "    ------\n",
      "    rois_dir: str\n",
      "    roi_prefix: str\n",
      "    fn_img4d: str\n",
      "    mask: str or nibabel image\n",
      "    \"\"\"\n",
      "    \n",
      "    IMGDIM = 3\n",
      "    TINY = np.finfo('float').eps * 1000\n",
      "    \n",
      "    img4d = nib.load(fn_img4d)\n",
      "    aff_img = ucr.xyz_affine(img4d.get_affine(), xyz=[0,1,2])\n",
      "    \n",
      "    # 1- Check roi affine are all the same\n",
      "    aal_files = gb.glob(osp.join(rois_dir, roi_prefix))\n",
      "    roi_imgs = {}\n",
      "    for fn in aal_files:\n",
      "        roi_imgs[fn] = nib.load(fn)\n",
      "    roi_affs = np.asarray([img.get_affine()[:IMGDIM,:IMGDIM] for img in roi_imgs.values()])\n",
      "    aff_roi = roi_affs[0].copy()\n",
      "    roi_affs -= aff_roi\n",
      "    norms_affs = [lin.norm(roi_affs[i], 'fro') for i in range(len(roi_affs))]\n",
      "    assert lin.norm(np.asarray(norms_affs))  < TINY \n",
      "        \n",
      "    # 2- check that rois in roi_dir are compatible with img4d\n",
      "    # print(aff_roi[:IMGDIM,:IMGDIM], aff_img[:IMGDIM,:IMGDIM])\n",
      "    assert lin.norm(aff_roi[:IMGDIM,:IMGDIM] - aff_img[:IMGDIM,:IMGDIM], 'fro')  < TINY\n",
      "    # print(aff_roi, aff_img))\n",
      "    \n",
      "    # translate ?\n",
      "    translate = False\n",
      "    print(aff_img)\n",
      "    full_aff_roi = roi_imgs[roi_imgs.keys()[0]].get_affine()\n",
      "    print(full_aff_roi)\n",
      "    roi2img = lin.inv(aff_img).dot(full_aff_roi)\n",
      "    translation = (roi2img[:IMGDIM, -1]).reshape(IMGDIM, 1)\n",
      "    print(\"translation: \",translation)\n",
      "    if lin.norm(translation, 'fro') > TINY:\n",
      "        translate = True\n",
      "    \n",
      "    # need to mask? get the mask - can be filename, nibabel image or array\n",
      "    if mask != None:\n",
      "        if isinstance(mask, string_types):\n",
      "            data_mask = nib.load(mask).get_data()\n",
      "        elif hasattr(mask, get_data):\n",
      "            data_mask = img_mask.get_data()\n",
      "        else:\n",
      "            data_mask = np.asarray(mask)\n",
      "        data_mask = data_mask.astype('bool')\n",
      "    \n",
      "    \n",
      "    # 3- extract and return signals\n",
      "    signals = {}\n",
      "    issues = {}\n",
      "    for roi_name, roi in roi_imgs.iteritems():\n",
      "        print(roi_name)\n",
      "        ijk_roi = np.asarray(np.where(roi.get_data().astype('bool')))\n",
      "    \n",
      "        if translate:\n",
      "            ijk_roi += translation\n",
      "        \n",
      "        print(ijk_roi.min(axis=1), ijk_roi.max(axis=1))\n",
      "        ## is this translation ok with the shape of the image to sample from?\n",
      "        img3dshape = np.asarray(img4d.shape)[:IMGDIM].reshape(IMGDIM,1)\n",
      "        print(img3dshape)\n",
      "        \n",
      "        if not (np.all(ijk_roi >= 0) and np.all((img3dshape - ijk_roi) > 0)):\n",
      "            print(\"could not sample roi :\", roi_name)\n",
      "            signals[roi_name] = None\n",
      "            issues[roi_name] = 'ijk_roi out of image shape'\n",
      "            continue\n",
      "            \n",
      "        # see if all ijk are within the mask?\n",
      "        if mask != None:\n",
      "            # not all voxels in the mask ? \n",
      "            vox_in_mask = np.all(data_mask[ijk_roi], axis=0)\n",
      "            if not np.all(data_mask[ijk_roi]):\n",
      "                issues[roi_name] = ('not all voxels in mask', len(vox_in_mask==True))\n",
      "                print(\"some voxels not in mask\")\n",
      "        else:\n",
      "            vox_in_mask = np.ones(ijk_roi.shape[1]).astype('bool')\n",
      "        \n",
      "        signals[roi_name] = (img4d.get_data()[ijk_roi[0][vox_in_mask], \n",
      "                                              ijk_roi[1][vox_in_mask], \n",
      "                                              ijk_roi[2][vox_in_mask], :]).mean(axis=0)\n",
      "        \n",
      "    return signals"
     ],
     "language": "python",
     "metadata": {},
     "outputs": [],
     "prompt_number": 235
    },
    {
     "cell_type": "code",
     "collapsed": false,
     "input": [
      "HOME = osp.expanduser('~')\n",
      "atlas_rois = osp.join(HOME,'code', 'regions', 'regions','tmp')\n",
      "DDIR = osp.join(HOME,'data','simpace','data','sub001','res_analysis_03')\n",
      "img_filename = osp.join(DDIR,'waepi_noton.nii' )\n",
      "aal_files = gb.glob(osp.join(atlas_rois, \"aal_*\"))\n",
      "aal_file = aal_files[0]"
     ],
     "language": "python",
     "metadata": {},
     "outputs": [],
     "prompt_number": 236
    },
    {
     "cell_type": "code",
     "collapsed": false,
     "input": [
      "sig = extract_signals(atlas_rois, \"aal_*\", img_filename, mask=None)"
     ],
     "language": "python",
     "metadata": {},
     "outputs": [
      {
       "output_type": "stream",
       "stream": "stdout",
       "text": [
        "[[  -2.    0.    0.   78.]\n",
        " [   0.    2.    0. -112.]\n",
        " [   0.    0.    2.  -50.]\n",
        " [   0.    0.    0.    1.]]\n",
        "[[  -2.    0.    0.   90.]\n",
        " [   0.    2.    0. -126.]\n",
        " [   0.    0.    2.  -72.]\n",
        " [   0.    0.    0.    1.]]\n",
        "translation:  [[ -6.]\n",
        " [ -7.]\n",
        " [-11.]]\n",
        "/home/jb/code/regions/regions/tmp/aal_Cerebelum_8_L_______.nii\n",
        "[40 19 -5] [61 39 10]\n",
        "[[79]\n",
        " [95]\n",
        " [68]]\n",
        "could not sample roi : /home/jb/code/regions/regions/tmp/aal_Cerebelum_8_L_______.nii\n",
        "/home/jb/code/regions/regions/tmp/aal_Postcentral_L_______.nii\n",
        "[45 30 32] [72 58 66]\n",
        "[[79]\n",
        " [95]\n",
        " [68]]\n",
        "/home/jb/code/regions/regions/tmp/aal_Temporal_Sup_L______.nii"
       ]
      },
      {
       "output_type": "stream",
       "stream": "stdout",
       "text": [
        "\n",
        "[57 29 17] [73 59 36]\n",
        "[[79]\n",
        " [95]\n",
        " [68]]\n",
        "/home/jb/code/regions/regions/tmp/aal_Cerebelum_10_R______.nii\n",
        "[20 35  1] [30 42  6]\n",
        "[[79]\n",
        " [95]\n",
        " [68]]\n",
        "/home/jb/code/regions/regions/tmp/aal_Vermis_9____________.nii\n",
        "[35 25  3]"
       ]
      },
      {
       "output_type": "stream",
       "stream": "stdout",
       "text": [
        " [41 32 10]\n",
        "[[79]\n",
        " [95]\n",
        " [68]]\n",
        "/home/jb/code/regions/regions/tmp/aal_Paracentral_Lobule_R.nii\n",
        "[31 34 49] [39 47 65]\n",
        "[[79]\n",
        " [95]\n",
        " [68]]\n",
        "/home/jb/code/regions/regions/tmp/aal_Cerebelum_10_L______.nii\n",
        "[46 34  1] [54 42  5]\n",
        "[[79]\n",
        " [95]\n",
        " [68]]\n",
        "/home/jb/code/regions/regions/tmp/aal_Supp_Motor_Area_L___.nii\n",
        "[38 45 47] [48 71 64]\n",
        "[[79]\n",
        " [95]\n",
        " [68]]\n",
        "/home/jb/code/regions/regions/tmp/aal_Temporal_Pole_Sup_R_.nii"
       ]
      },
      {
       "output_type": "stream",
       "stream": "stdout",
       "text": [
        "\n",
        "[ 4 56  7] [28 70 26]\n",
        "[[79]\n",
        " [95]\n",
        " [68]]\n",
        "/home/jb/code/regions/regions/tmp/aal_Cerebelum_Crus2_R___.nii\n",
        "[10 10 -1] [38 39 12]\n",
        "[[79]\n",
        " [95]\n",
        " [68]]\n",
        "could not sample roi : /home/jb/code/regions/regions/tmp/aal_Cerebelum_Crus2_R___.nii\n",
        "/home/jb/code/regions/regions/tmp/aal_Frontal_Sup_Orb_L___.nii\n",
        "[42 61 12] [56 91 24]\n",
        "[[79]\n",
        " [95]\n",
        " [68]]\n",
        "/home/jb/code/regions/regions/tmp/aal_Frontal_Sup_Medial_L.nii\n",
        "[38 64 24]"
       ]
      },
      {
       "output_type": "stream",
       "stream": "stdout",
       "text": [
        " [47 92 57]\n",
        "[[79]\n",
        " [95]\n",
        " [68]]\n",
        "/home/jb/code/regions/regions/tmp/aal_Temporal_Pole_Mid_L_.nii\n",
        "[47 55  3] [69 69 13]\n",
        "[[79]\n",
        " [95]\n",
        " [68]]\n",
        "/home/jb/code/regions/regions/tmp/aal_Vermis_8____________.nii"
       ]
      },
      {
       "output_type": "stream",
       "stream": "stdout",
       "text": [
        "\n",
        "[35 19  3] [41 27 12]\n",
        "[[79]\n",
        " [95]\n",
        " [68]]\n",
        "/home/jb/code/regions/regions/tmp/aal_Precuneus_L_________.nii\n",
        "[38 15 25] [52 38 66]\n",
        "[[79]\n",
        " [95]\n",
        " [68]]\n",
        "/home/jb/code/regions/regions/tmp/aal_Frontal_Sup_R_______.nii"
       ]
      },
      {
       "output_type": "stream",
       "stream": "stdout",
       "text": [
        "\n",
        "[20 47 24] [34 92 63]\n",
        "[[79]\n",
        " [95]\n",
        " [68]]\n",
        "/home/jb/code/regions/regions/tmp/aal_Vermis_7____________.nii"
       ]
      },
      {
       "output_type": "stream",
       "stream": "stdout",
       "text": [
        "\n",
        "[35 15  7] [41 25 16]\n",
        "[[79]\n",
        " [95]\n",
        " [68]]\n",
        "/home/jb/code/regions/regions/tmp/aal_Temporal_Inf_R______.nii\n",
        "[ 3 19  2] [26 61 23]\n",
        "[[79]\n",
        " [95]\n",
        " [68]]\n",
        "/home/jb/code/regions/regions/tmp/aal_Frontal_Sup_Medial_R.nii"
       ]
      },
      {
       "output_type": "stream",
       "stream": "stdout",
       "text": [
        "\n",
        "[29 66 24] [38 92 57]\n",
        "[[79]\n",
        " [95]\n",
        " [68]]\n",
        "/home/jb/code/regions/regions/tmp/aal_Parietal_Inf_R______.nii\n",
        "[ 8 21 44] [26 42 54]\n",
        "[[79]\n",
        " [95]\n",
        " [68]]\n",
        "/home/jb/code/regions/regions/tmp/aal_Lingual_L___________.nii\n",
        "[38  5 16]"
       ]
      },
      {
       "output_type": "stream",
       "stream": "stdout",
       "text": [
        " [57 40 29]\n",
        "[[79]\n",
        " [95]\n",
        " [68]]\n",
        "/home/jb/code/regions/regions/tmp/aal_Cerebelum_9_L_______.nii\n",
        "[39 25 -4] [50 37  9]\n",
        "[[79]\n",
        " [95]\n",
        " [68]]\n",
        "could not sample roi : /home/jb/code/regions/regions/tmp/aal_Cerebelum_9_L_______.nii\n",
        "/home/jb/code/regions/regions/tmp/aal_Cerebelum_Crus1_L___.nii\n",
        "[40 10  4] [68 38 17]\n",
        "[[79]\n",
        " [95]\n",
        " [68]]\n",
        "/home/jb/code/regions/regions/tmp/aal_Thalamus_L__________.nii"
       ]
      },
      {
       "output_type": "stream",
       "stream": "stdout",
       "text": [
        "\n",
        "[39 39 24] [50 53 34]\n",
        "[[79]\n",
        " [95]\n",
        " [68]]\n",
        "/home/jb/code/regions/regions/tmp/aal_Cingulum_Ant_R______.nii\n",
        "[30 57 20] [39 83 39]\n",
        "[[79]\n",
        " [95]\n",
        " [68]]\n",
        "/home/jb/code/regions/regions/tmp/aal_Occipital_Sup_R_____.nii\n",
        "[20  4 26] [34 26 49]\n",
        "[[79]\n",
        " [95]\n",
        " [68]]\n",
        "/home/jb/code/regions/regions/tmp/aal_SupraMarginal_L_____.nii"
       ]
      },
      {
       "output_type": "stream",
       "stream": "stdout",
       "text": [
        "\n",
        "[60 28 32] [72 47 47]\n",
        "[[79]\n",
        " [95]\n",
        " [68]]\n",
        "/home/jb/code/regions/regions/tmp/aal_Vermis_6____________.nii\n",
        "[35 15 13] [41 28 22]\n",
        "[[79]\n",
        " [95]\n",
        " [68]]\n",
        "/home/jb/code/regions/regions/tmp/aal_Vermis_10___________.nii\n",
        "[35 30  5] [41 35 12]\n",
        "[[79]\n",
        " [95]\n",
        " [68]]\n",
        "/home/jb/code/regions/regions/tmp/aal_Cerebelum_3_L_______.nii\n",
        "[41 32 11] [46 41 21]\n",
        "[[79]\n",
        " [95]\n",
        " [68]]\n",
        "/home/jb/code/regions/regions/tmp/aal_Cerebelum_6_R_______.nii\n",
        "[16 13  5]"
       ]
      },
      {
       "output_type": "stream",
       "stream": "stdout",
       "text": [
        " [35 42 20]\n",
        "[[79]\n",
        " [95]\n",
        " [68]]\n",
        "/home/jb/code/regions/regions/tmp/aal_Temporal_Sup_R______.nii\n",
        "[ 3 26 17] [21 58 36]\n",
        "[[79]\n",
        " [95]\n",
        " [68]]\n",
        "/home/jb/code/regions/regions/tmp/aal_Rectus_R____________.nii"
       ]
      },
      {
       "output_type": "stream",
       "stream": "stdout",
       "text": [
        "\n",
        "[28 62 12] [39 88 19]\n",
        "[[79]\n",
        " [95]\n",
        " [68]]\n",
        "/home/jb/code/regions/regions/tmp/aal_Supp_Motor_Area_R___.nii\n",
        "[30 41 48] [39 69 64]\n",
        "[[79]\n",
        " [95]\n",
        " [68]]\n",
        "/home/jb/code/regions/regions/tmp/aal_Cingulum_Post_L_____.nii\n",
        "[38 29 28]"
       ]
      },
      {
       "output_type": "stream",
       "stream": "stdout",
       "text": [
        " [47 40 41]\n",
        "[[79]\n",
        " [95]\n",
        " [68]]\n",
        "/home/jb/code/regions/regions/tmp/aal_Parietal_Sup_R______.nii\n",
        "[11 14 49] [36 41 64]\n",
        "[[79]\n",
        " [95]\n",
        " [68]]\n",
        "/home/jb/code/regions/regions/tmp/aal_Fusiform_R__________.nii\n",
        "[13 12  2] [29 66 24]\n",
        "[[79]\n",
        " [95]\n",
        " [68]]\n",
        "/home/jb/code/regions/regions/tmp/aal_Cerebelum_Crus1_R___.nii"
       ]
      },
      {
       "output_type": "stream",
       "stream": "stdout",
       "text": [
        "\n",
        "[ 8 10  4] [36 38 16]\n",
        "[[79]\n",
        " [95]\n",
        " [68]]\n",
        "/home/jb/code/regions/regions/tmp/aal_Angular_L___________.nii\n",
        "[52 17 36] [69 32 51]\n",
        "[[79]\n",
        " [95]\n",
        " [68]]\n",
        "/home/jb/code/regions/regions/tmp/aal_Rolandic_Oper_L_____.nii\n",
        "[55 37 25]"
       ]
      },
      {
       "output_type": "stream",
       "stream": "stdout",
       "text": [
        " [72 61 36]\n",
        "[[79]\n",
        " [95]\n",
        " [68]]\n",
        "/home/jb/code/regions/regions/tmp/aal_Fusiform_L__________.nii\n",
        "[46  9  2] [63 63 23]\n",
        "[[79]\n",
        " [95]\n",
        " [68]]\n",
        "/home/jb/code/regions/regions/tmp/aal_Cerebelum_Crus2_L___.nii\n",
        "[38 10 -1] [67 36 14]\n",
        "[[79]\n",
        " [95]\n",
        " [68]]\n",
        "could not sample roi : /home/jb/code/regions/regions/tmp/aal_Cerebelum_Crus2_L___.nii\n",
        "/home/jb/code/regions/regions/tmp/aal_Amygdala_R__________.nii\n",
        "[21 52 10]"
       ]
      },
      {
       "output_type": "stream",
       "stream": "stdout",
       "text": [
        " [30 59 19]\n",
        "[[79]\n",
        " [95]\n",
        " [68]]\n",
        "/home/jb/code/regions/regions/tmp/aal_Calcarine_R_________.nii\n",
        "[23  4 22] [38 34 34]\n",
        "[[79]\n",
        " [95]\n",
        " [68]]\n",
        "/home/jb/code/regions/regions/tmp/aal_Cerebelum_6_L_______.nii\n",
        "[41 14  5] [60 41 21]\n",
        "[[79]\n",
        " [95]\n",
        " [68]]\n",
        "/home/jb/code/regions/regions/tmp/aal_Temporal_Mid_R______.nii\n",
        "[ 3 17  9]"
       ]
      },
      {
       "output_type": "stream",
       "stream": "stdout",
       "text": [
        " [20 60 36]\n",
        "[[79]\n",
        " [95]\n",
        " [68]]\n",
        "/home/jb/code/regions/regions/tmp/aal_Frontal_Mid_Orb_R___.nii\n",
        "[12 70 14]"
       ]
      },
      {
       "output_type": "stream",
       "stream": "stdout",
       "text": [
        " [31 90 24]\n",
        "[[79]\n",
        " [95]\n",
        " [68]]\n",
        "/home/jb/code/regions/regions/tmp/aal_Rectus_L____________.nii\n",
        "[38 62 12] [49 89 19]\n",
        "[[79]\n",
        " [95]\n",
        " [68]]\n",
        "/home/jb/code/regions/regions/tmp/aal_Frontal_Inf_Tri_L___.nii\n",
        "[54 61 24] [69 80 40]\n",
        "[[79]\n",
        " [95]\n",
        " [68]]\n",
        "/home/jb/code/regions/regions/tmp/aal_Precentral_L________.nii"
       ]
      },
      {
       "output_type": "stream",
       "stream": "stdout",
       "text": [
        "\n",
        "[46 40 32] [70 63 65]\n",
        "[[79]\n",
        " [95]\n",
        " [68]]\n",
        "/home/jb/code/regions/regions/tmp/aal_Parietal_Inf_L______.nii\n",
        "[50 14 43] [69 46 55]\n",
        "[[79]\n",
        " [95]\n",
        " [68]]\n",
        "/home/jb/code/regions/regions/tmp/aal_Cerebelum_4_5_R_____.nii"
       ]
      },
      {
       "output_type": "stream",
       "stream": "stdout",
       "text": [
        "\n",
        "[21 24  7] [35 44 25]\n",
        "[[79]\n",
        " [95]\n",
        " [68]]\n",
        "/home/jb/code/regions/regions/tmp/aal_Temporal_Inf_L______.nii\n",
        "[52 22  3] [74 63 22]\n",
        "[[79]\n",
        " [95]\n",
        " [68]]\n",
        "/home/jb/code/regions/regions/tmp/aal_Cerebelum_7b_L______.nii"
       ]
      },
      {
       "output_type": "stream",
       "stream": "stdout",
       "text": [
        "\n",
        "[40 17 -3] [64 39  8]\n",
        "[[79]\n",
        " [95]\n",
        " [68]]\n",
        "could not sample roi : /home/jb/code/regions/regions/tmp/aal_Cerebelum_7b_L______.nii\n",
        "/home/jb/code/regions/regions/tmp/aal_Frontal_Sup_Orb_R___.nii\n",
        "[22 63 12] [36 91 24]\n",
        "[[79]\n",
        " [95]\n",
        " [68]]\n",
        "/home/jb/code/regions/regions/tmp/aal_Precentral_R________.nii\n",
        "[ 5 39 32] [33 63 65]\n",
        "[[79]\n",
        " [95]\n",
        " [68]]\n",
        "/home/jb/code/regions/regions/tmp/aal_Frontal_Med_Orb_L___.nii"
       ]
      },
      {
       "output_type": "stream",
       "stream": "stdout",
       "text": [
        "\n",
        "[38 67 17] [46 91 24]\n",
        "[[79]\n",
        " [95]\n",
        " [68]]\n",
        "/home/jb/code/regions/regions/tmp/aal_Insula_L____________.nii\n",
        "[51 40 15] [63 72 36]\n",
        "[[79]\n",
        " [95]\n",
        " [68]]\n",
        "/home/jb/code/regions/regions/tmp/aal_Rolandic_Oper_R_____.nii\n",
        "[ 4 39 24] [21 63 36]\n",
        "[[79]\n",
        " [95]\n",
        " [68]]\n",
        "/home/jb/code/regions/regions/tmp/aal_Cuneus_L____________.nii"
       ]
      },
      {
       "output_type": "stream",
       "stream": "stdout",
       "text": [
        "\n",
        "[37  4 28] [49 29 45]\n",
        "[[79]\n",
        " [95]\n",
        " [68]]\n",
        "/home/jb/code/regions/regions/tmp/aal_Cingulum_Mid_L______.nii\n",
        "[38 29 41] [47 71 52]\n",
        "[[79]\n",
        " [95]\n",
        " [68]]\n",
        "/home/jb/code/regions/regions/tmp/aal_Putamen_R___________.nii\n",
        "[21 46 20]"
       ]
      },
      {
       "output_type": "stream",
       "stream": "stdout",
       "text": [
        " [32 67 32]\n",
        "[[79]\n",
        " [95]\n",
        " [68]]\n",
        "/home/jb/code/regions/regions/tmp/aal_Putamen_L___________.nii\n",
        "[43 45 20] [56 66 32]\n",
        "[[79]\n",
        " [95]\n",
        " [68]]\n",
        "/home/jb/code/regions/regions/tmp/aal_Caudate_L___________.nii\n",
        "[40 43 19] [49 69 37]\n",
        "[[79]\n",
        " [95]\n",
        " [68]]\n",
        "/home/jb/code/regions/regions/tmp/aal_Insula_R____________.nii\n",
        "[14 41 15]"
       ]
      },
      {
       "output_type": "stream",
       "stream": "stdout",
       "text": [
        " [26 72 36]\n",
        "[[79]\n",
        " [95]\n",
        " [68]]\n",
        "/home/jb/code/regions/regions/tmp/aal_ParaHippocampal_R___.nii\n",
        "[20 34  7] [32 65 23]\n",
        "[[79]\n",
        " [95]\n",
        " [68]]\n",
        "/home/jb/code/regions/regions/tmp/aal_Amygdala_L__________.nii\n",
        "[45 52 11] [54 58 19]\n",
        "[[79]\n",
        " [95]\n",
        " [68]]\n",
        "/home/jb/code/regions/regions/tmp/aal_Hippocampus_L_______.nii\n",
        "[44 36 11]"
       ]
      },
      {
       "output_type": "stream",
       "stream": "stdout",
       "text": [
        " [58 55 30]\n",
        "[[79]\n",
        " [95]\n",
        " [68]]\n",
        "/home/jb/code/regions/regions/tmp/aal_Frontal_Med_Orb_R___.nii\n",
        "[31 67 17] [39 91 24]\n",
        "[[79]\n",
        " [95]\n",
        " [68]]\n",
        "/home/jb/code/regions/regions/tmp/aal_Olfactory_L_________.nii\n",
        "[39 58 15] [52 71 24]\n",
        "[[79]\n",
        " [95]\n",
        " [68]]\n",
        "/home/jb/code/regions/regions/tmp/aal_Caudate_R___________.nii\n",
        "[28 44 19] [37 69 37]\n",
        "[[79]\n",
        " [95]\n",
        " [68]]\n",
        "/home/jb/code/regions/regions/tmp/aal_Cerebelum_9_R_______.nii\n",
        "[28 25 -5]"
       ]
      },
      {
       "output_type": "stream",
       "stream": "stdout",
       "text": [
        " [38 37  9]\n",
        "[[79]\n",
        " [95]\n",
        " [68]]\n",
        "could not sample roi : /home/jb/code/regions/regions/tmp/aal_Cerebelum_9_R_______.nii\n",
        "/home/jb/code/regions/regions/tmp/aal_Temporal_Pole_Sup_L_.nii\n",
        "[48 55  7] [69 70 25]\n",
        "[[79]\n",
        " [95]\n",
        " [68]]\n",
        "/home/jb/code/regions/regions/tmp/aal_Cingulum_Post_R_____.nii\n",
        "[31 27 28] [38 38 40]\n",
        "[[79]\n",
        " [95]\n",
        " [68]]\n",
        "/home/jb/code/regions/regions/tmp/aal_Vermis_4_5__________.nii\n",
        "[35 23 13] [41 35 28]\n",
        "[[79]\n",
        " [95]\n",
        " [68]]\n",
        "/home/jb/code/regions/regions/tmp/aal_Occipital_Mid_L_____.nii\n",
        "[42  3 21] [66 28 46]\n",
        "[[79]\n",
        " [95]\n",
        " [68]]\n",
        "/home/jb/code/regions/regions/tmp/aal_Angular_R___________.nii"
       ]
      },
      {
       "output_type": "stream",
       "stream": "stdout",
       "text": [
        "\n",
        "[ 7 15 36] [27 34 53]\n",
        "[[79]\n",
        " [95]\n",
        " [68]]\n",
        "/home/jb/code/regions/regions/tmp/aal_Frontal_Mid_R_______.nii\n",
        "[10 50 24] [29 88 57]\n",
        "[[79]\n",
        " [95]\n",
        " [68]]\n",
        "/home/jb/code/regions/regions/tmp/aal_Parietal_Sup_L______.nii"
       ]
      },
      {
       "output_type": "stream",
       "stream": "stdout",
       "text": [
        "\n",
        "[42 14 45] [60 37 65]\n",
        "[[79]\n",
        " [95]\n",
        " [68]]\n",
        "/home/jb/code/regions/regions/tmp/aal_Calcarine_L_________.nii\n",
        "[36  3 18] [52 34 36]\n",
        "[[79]\n",
        " [95]\n",
        " [68]]\n",
        "/home/jb/code/regions/regions/tmp/aal_Pallidum_L__________.nii"
       ]
      },
      {
       "output_type": "stream",
       "stream": "stdout",
       "text": [
        "\n",
        "[43 49 22] [52 60 28]\n",
        "[[79]\n",
        " [95]\n",
        " [68]]\n",
        "/home/jb/code/regions/regions/tmp/aal_Temporal_Pole_Mid_R_.nii\n",
        "[ 5 56  3] [29 69 17]\n",
        "[[79]\n",
        " [95]\n",
        " [68]]\n",
        "/home/jb/code/regions/regions/tmp/aal_Vermis_3____________.nii\n",
        "[36 32 14] [40 38 24]\n",
        "[[79]\n",
        " [95]\n",
        " [68]]\n",
        "/home/jb/code/regions/regions/tmp/aal_Olfactory_R_________.nii\n",
        "[24 60 15] [38 70 24]\n",
        "[[79]\n",
        " [95]\n",
        " [68]]\n",
        "/home/jb/code/regions/regions/tmp/aal_Cingulum_Mid_R______.nii\n",
        "[30 29 40]"
       ]
      },
      {
       "output_type": "stream",
       "stream": "stdout",
       "text": [
        " [39 78 51]\n",
        "[[79]\n",
        " [95]\n",
        " [68]]\n",
        "/home/jb/code/regions/regions/tmp/aal_Cerebelum_4_5_L_____.nii\n",
        "[41 24  7] [56 44 25]\n",
        "[[79]\n",
        " [95]\n",
        " [68]]\n",
        "/home/jb/code/regions/regions/tmp/aal_Frontal_Mid_Orb_L___.nii\n",
        "[46 70 14] [64 89 24]\n",
        "[[79]\n",
        " [95]\n",
        " [68]]\n",
        "/home/jb/code/regions/regions/tmp/aal_Lingual_R___________.nii"
       ]
      },
      {
       "output_type": "stream",
       "stream": "stdout",
       "text": [
        "\n",
        "[17  4 16] [38 42 29]\n",
        "[[79]\n",
        " [95]\n",
        " [68]]\n",
        "/home/jb/code/regions/regions/tmp/aal_Occipital_Inf_L_____.nii\n",
        "[44  5 16] [68 27 24]\n",
        "[[79]\n",
        " [95]\n",
        " [68]]\n",
        "/home/jb/code/regions/regions/tmp/aal_Frontal_Mid_L_______.nii\n",
        "[48 49 24]"
       ]
      },
      {
       "output_type": "stream",
       "stream": "stdout",
       "text": [
        " [66 89 57]\n",
        "[[79]\n",
        " [95]\n",
        " [68]]\n",
        "/home/jb/code/regions/regions/tmp/aal_ParaHippocampal_L___.nii"
       ]
      },
      {
       "output_type": "stream",
       "stream": "stdout",
       "text": [
        "\n",
        "[44 33  7] [56 60 23]\n",
        "[[79]\n",
        " [95]\n",
        " [68]]\n",
        "/home/jb/code/regions/regions/tmp/aal_Heschl_L____________.nii\n",
        "[55 40 26] [71 52 32]\n",
        "[[79]\n",
        " [95]\n",
        " [68]]\n",
        "/home/jb/code/regions/regions/tmp/aal_Paracentral_Lobule_L.nii\n",
        "[39 34 50] [48 51 66]\n",
        "[[79]\n",
        " [95]\n",
        " [68]]\n",
        "/home/jb/code/regions/regions/tmp/aal_Vermis_1_2__________.nii"
       ]
      },
      {
       "output_type": "stream",
       "stream": "stdout",
       "text": [
        "\n",
        "[36 33 13] [41 38 17]\n",
        "[[79]\n",
        " [95]\n",
        " [68]]\n",
        "/home/jb/code/regions/regions/tmp/aal_SupraMarginal_R_____.nii\n",
        "[ 4 31 34] [25 50 51]\n",
        "[[79]\n",
        " [95]\n",
        " [68]]\n",
        "/home/jb/code/regions/regions/tmp/aal_Cingulum_Ant_L______.nii\n",
        "[38 54 20] [47 83 40]\n",
        "[[79]\n",
        " [95]\n",
        " [68]]\n",
        "/home/jb/code/regions/regions/tmp/aal_Cuneus_R____________.nii"
       ]
      },
      {
       "output_type": "stream",
       "stream": "stdout",
       "text": [
        "\n",
        "[26  5 28] [37 29 48]\n",
        "[[79]\n",
        " [95]\n",
        " [68]]\n",
        "/home/jb/code/regions/regions/tmp/aal_Temporal_Mid_L______.nii\n",
        "[57 18  8] [75 61 36]\n",
        "[[79]\n",
        " [95]\n",
        " [68]]\n",
        "/home/jb/code/regions/regions/tmp/aal_Occipital_Inf_R_____.nii"
       ]
      },
      {
       "output_type": "stream",
       "stream": "stdout",
       "text": [
        "\n",
        "[11  5 17] [29 26 24]\n",
        "[[79]\n",
        " [95]\n",
        " [68]]\n",
        "/home/jb/code/regions/regions/tmp/aal_Frontal_Sup_L_______.nii\n",
        "[41 50 24] [57 92 65]\n",
        "[[79]\n",
        " [95]\n",
        " [68]]\n",
        "/home/jb/code/regions/regions/tmp/aal_Cerebelum_7b_R______.nii"
       ]
      },
      {
       "output_type": "stream",
       "stream": "stdout",
       "text": [
        "\n",
        "[13 15 -4] [37 39  5]\n",
        "[[79]\n",
        " [95]\n",
        " [68]]\n",
        "could not sample roi : /home/jb/code/regions/regions/tmp/aal_Cerebelum_7b_R______.nii\n",
        "/home/jb/code/regions/regions/tmp/aal_Thalamus_R__________.nii\n",
        "[27 39 24] [38 53 34]\n",
        "[[79]\n",
        " [95]\n",
        " [68]]\n",
        "/home/jb/code/regions/regions/tmp/aal_Heschl_R____________.nii\n",
        "[ 5 40 27] [22 58 33]\n",
        "[[79]\n",
        " [95]\n",
        " [68]]\n",
        "/home/jb/code/regions/regions/tmp/aal_Occipital_Mid_R_____.nii\n",
        "[10  5 24] [27 25 45]\n",
        "[[79]\n",
        " [95]\n",
        " [68]]\n",
        "/home/jb/code/regions/regions/tmp/aal_Cerebelum_3_R_______.nii"
       ]
      },
      {
       "output_type": "stream",
       "stream": "stdout",
       "text": [
        "\n",
        "[28 32 11] [35 44 21]\n",
        "[[79]\n",
        " [95]\n",
        " [68]]\n",
        "/home/jb/code/regions/regions/tmp/aal_Frontal_Inf_Oper_L__.nii\n",
        "[55 56 25] [71 69 42]\n",
        "[[79]\n",
        " [95]\n",
        " [68]]\n",
        "/home/jb/code/regions/regions/tmp/aal_Occipital_Sup_L_____.nii\n",
        "[40  4 26] [53 25 49]\n",
        "[[79]\n",
        " [95]\n",
        " [68]]\n",
        "/home/jb/code/regions/regions/tmp/aal_Frontal_Inf_Orb_L___.nii\n",
        "[46 60 12] [66 83 24]\n",
        "[[79]\n",
        " [95]\n",
        " [68]]"
       ]
      },
      {
       "output_type": "stream",
       "stream": "stdout",
       "text": [
        "\n",
        "/home/jb/code/regions/regions/tmp/aal_Frontal_Inf_Tri_R___.nii\n",
        "[ 6 62 24] [24 81 40]\n",
        "[[79]\n",
        " [95]\n",
        " [68]]\n",
        "/home/jb/code/regions/regions/tmp/aal_Cerebelum_8_R_______.nii\n",
        "[16 18 -6] [36 39 10]\n",
        "[[79]\n",
        " [95]\n",
        " [68]]\n",
        "could not sample roi : /home/jb/code/regions/regions/tmp/aal_Cerebelum_8_R_______.nii\n",
        "/home/jb/code/regions/regions/tmp/aal_Hippocampus_R_______.nii\n",
        "[18 35 11]"
       ]
      },
      {
       "output_type": "stream",
       "stream": "stdout",
       "text": [
        " [33 55 30]\n",
        "[[79]\n",
        " [95]\n",
        " [68]]\n",
        "/home/jb/code/regions/regions/tmp/aal_Postcentral_R_______.nii\n",
        "[ 4 28 32] [34 57 66]\n",
        "[[79]\n",
        " [95]\n",
        " [68]]\n",
        "/home/jb/code/regions/regions/tmp/aal_Pallidum_R__________.nii"
       ]
      },
      {
       "output_type": "stream",
       "stream": "stdout",
       "text": [
        "\n",
        "[24 49 22] [33 61 28]\n",
        "[[79]\n",
        " [95]\n",
        " [68]]\n",
        "/home/jb/code/regions/regions/tmp/aal_Frontal_Inf_Oper_R__.nii\n",
        "[ 6 57 24] [24 68 44]\n",
        "[[79]\n",
        " [95]\n",
        " [68]]\n",
        "/home/jb/code/regions/regions/tmp/aal_Precuneus_R_________.nii\n",
        "[24 15 25] [39 38 64]\n",
        "[[79]\n",
        " [95]\n",
        " [68]]\n",
        "/home/jb/code/regions/regions/tmp/aal_Frontal_Inf_Orb_R___.nii"
       ]
      },
      {
       "output_type": "stream",
       "stream": "stdout",
       "text": [
        "\n",
        "[ 8 62 12] [31 81 24]\n",
        "[[79]\n",
        " [95]\n",
        " [68]]\n"
       ]
      }
     ],
     "prompt_number": 237
    },
    {
     "cell_type": "code",
     "collapsed": false,
     "input": [
      "for roi in sig:\n",
      "    if sig[roi] != None:\n",
      "        print(sig[roi].shape)"
     ],
     "language": "python",
     "metadata": {},
     "outputs": [
      {
       "output_type": "stream",
       "stream": "stdout",
       "text": [
        "(196,)\n",
        "(196,)\n",
        "(196,)\n",
        "(196,)\n",
        "(196,)\n",
        "(196,)\n",
        "(196,)\n",
        "(196,)\n",
        "(196,)\n",
        "(196,)\n",
        "(196,)\n",
        "(196,)\n",
        "(196,)\n",
        "(196,)\n",
        "(196,)\n",
        "(196,)\n",
        "(196,)\n",
        "(196,)\n",
        "(196,)\n",
        "(196,)\n",
        "(196,)\n",
        "(196,)\n",
        "(196,)\n",
        "(196,)\n",
        "(196,)\n",
        "(196,)\n",
        "(196,)\n",
        "(196,)\n",
        "(196,)\n",
        "(196,)\n",
        "(196,)\n",
        "(196,)\n",
        "(196,)\n",
        "(196,)\n",
        "(196,)\n",
        "(196,)\n",
        "(196,)\n",
        "(196,)\n",
        "(196,)\n",
        "(196,)\n",
        "(196,)\n",
        "(196,)\n",
        "(196,)\n",
        "(196,)\n",
        "(196,)\n",
        "(196,)\n",
        "(196,)\n",
        "(196,)\n",
        "(196,)\n",
        "(196,)\n",
        "(196,)\n",
        "(196,)\n",
        "(196,)\n",
        "(196,)\n",
        "(196,)\n",
        "(196,)\n",
        "(196,)\n",
        "(196,)\n",
        "(196,)\n",
        "(196,)\n",
        "(196,)\n",
        "(196,)\n",
        "(196,)\n",
        "(196,)\n",
        "(196,)\n",
        "(196,)\n",
        "(196,)\n",
        "(196,)\n",
        "(196,)\n",
        "(196,)\n",
        "(196,)\n",
        "(196,)\n",
        "(196,)\n",
        "(196,)\n",
        "(196,)\n",
        "(196,)\n",
        "(196,)\n",
        "(196,)\n",
        "(196,)\n",
        "(196,)\n",
        "(196,)\n",
        "(196,)\n",
        "(196,)\n",
        "(196,)\n",
        "(196,)\n",
        "(196,)\n",
        "(196,)\n",
        "(196,)\n",
        "(196,)\n",
        "(196,)\n",
        "(196,)\n",
        "(196,)\n",
        "(196,)\n",
        "(196,)\n",
        "(196,)\n",
        "(196,)\n",
        "(196,)\n",
        "(196,)\n",
        "(196,)\n",
        "(196,)\n",
        "(196,)\n",
        "(196,)\n",
        "(196,)\n",
        "(196,)\n",
        "(196,)\n",
        "(196,)\n",
        "(196,)\n",
        "(196,)\n"
       ]
      }
     ],
     "prompt_number": 238
    },
    {
     "cell_type": "code",
     "collapsed": false,
     "input": [
      "plt.plot(sig.mean(axis=0))"
     ],
     "language": "python",
     "metadata": {},
     "outputs": [
      {
       "metadata": {},
       "output_type": "pyout",
       "prompt_number": 134,
       "text": [
        "[<matplotlib.lines.Line2D at 0x5d62990>]"
       ]
      },
      {
       "metadata": {},
       "output_type": "display_data",
       "png": "[encoded data removed]",
       "text": [
        "<matplotlib.figure.Figure at 0x5d6dbd0>"
       ]
      }
     ],
     "prompt_number": 134
    },
    {
     "cell_type": "code",
     "collapsed": false,
     "input": [
      "i = [1,2]\n",
      "j = [0,1]\n",
      "\n",
      "d = np.arange(3*3).reshape(3,3)\n"
     ],
     "language": "python",
     "metadata": {},
     "outputs": [],
     "prompt_number": 226
    },
    {
     "cell_type": "code",
     "collapsed": false,
     "input": [
      "d[0][[True, False, True]]"
     ],
     "language": "python",
     "metadata": {},
     "outputs": [
      {
       "metadata": {},
       "output_type": "pyout",
       "prompt_number": 230,
       "text": [
        "array([1, 0, 1])"
       ]
      }
     ],
     "prompt_number": 230
    },
    {
     "cell_type": "code",
     "collapsed": false,
     "input": [
      "d"
     ],
     "language": "python",
     "metadata": {},
     "outputs": [
      {
       "metadata": {},
       "output_type": "pyout",
       "prompt_number": 228,
       "text": [
        "array([[0, 1, 2],\n",
        "       [3, 4, 5],\n",
        "       [6, 7, 8]])"
       ]
      }
     ],
     "prompt_number": 228
    },
    {
     "cell_type": "code",
     "collapsed": false,
     "input": [],
     "language": "python",
     "metadata": {},
     "outputs": []
    }
   ],
   "metadata": {}
  }
 ]
}