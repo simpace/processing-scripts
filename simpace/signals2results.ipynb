{
 "cells": [
  {
   "cell_type": "code",
   "execution_count": 1,
   "metadata": {
    "collapsed": false
   },
   "outputs": [
    {
     "name": "stdout",
     "output_type": "stream",
     "text": [
      "Populating the interactive namespace from numpy and matplotlib\n"
     ]
    }
   ],
   "source": [
    "%pylab inline\n",
    "from __future__ import print_function, division\n",
    "\n",
    "import os\n",
    "import os.path as osp\n",
    "import matplotlib.pyplot as plt\n",
    "\n",
    "from warnings import warn\n",
    "import datetime, time\n",
    "import glob as gb\n",
    "from six import string_types\n",
    "import argparse\n",
    "import json\n",
    "import time\n",
    "import re\n",
    "\n",
    "import numpy as np\n",
    "import scipy.linalg as lin\n",
    "import scipy.stats as sst"
   ]
  },
  {
   "cell_type": "code",
   "execution_count": 2,
   "metadata": {
    "collapsed": true
   },
   "outputs": [],
   "source": [
    "import smpce_data_to_corr as smp\n",
    "import layout as lo\n",
    "import utils._utils as ucr\n",
    "import correlation2results as c2r\n",
    "import signals2results as s2r"
   ]
  },
  {
   "cell_type": "code",
   "execution_count": 3,
   "metadata": {
    "collapsed": false
   },
   "outputs": [],
   "source": [
    "np.set_printoptions(precision=3)\n",
    "lo = reload(lo)\n",
    "ucr = reload(ucr)\n",
    "smp = reload(smp)\n",
    "c2r = reload(c2r)\n",
    "s2r = reload(s2r)"
   ]
  },
  {
   "cell_type": "markdown",
   "metadata": {},
   "source": [
    "## Read the signals, form a correlation matrix"
   ]
  },
  {
   "cell_type": "code",
   "execution_count": 4,
   "metadata": {
    "collapsed": false
   },
   "outputs": [
    {
     "name": "stdout",
     "output_type": "stream",
     "text": [
      "signal_\n",
      "True\n",
      "NR_0_signal_\n",
      "False\n",
      "NR_1_signal_\n",
      "False\n",
      "/home/jb/data/simpace/rename_files/sub*/sess*/preproc/extracted_signals\n",
      "NR_1_signal_sub*_sess*_run*\n"
     ]
    }
   ],
   "source": [
    "# get the list of npz corresponding to a specific analysis\n",
    "# use directory layout for this \n",
    "dbase = '/home/jb/data/simpace/rename_files'\n",
    "\n",
    "params = smp.get_params(dbase, addjson=None)\n",
    "print(params['layout']['signals']['pre'])\n",
    "print(params['analysis']['compute_sess_mask'])\n",
    "\n",
    "params = smp.get_params(dbase, addjson='NR_0')\n",
    "print(params['layout']['signals']['pre'])\n",
    "print(params['analysis']['compute_sess_mask'])\n",
    "\n",
    "params = smp.get_params(dbase, addjson='NR_1')\n",
    "print(params['layout']['signals']['pre'])\n",
    "print(params['analysis']['compute_sess_mask'])\n",
    "\n",
    "dstate = {'sub':1}\n",
    "pth = lo._get_pth(params['layout'], 'signals', glob=True)\n",
    "glb = lo._get_glb(params['layout'], 'signals', glob=True)\n",
    "print(pth)\n",
    "print(glb)"
   ]
  },
  {
   "cell_type": "code",
   "execution_count": 6,
   "metadata": {
    "collapsed": false
   },
   "outputs": [],
   "source": [
    "# print(\"\\n\".join(s2r.get_signals_filenames(dbase, addjson=None, condpat='low')))"
   ]
  },
  {
   "cell_type": "code",
   "execution_count": 37,
   "metadata": {
    "collapsed": false
   },
   "outputs": [
    {
     "name": "stdout",
     "output_type": "stream",
     "text": [
      "(13, 83, 83) default\n",
      "--------------------------------------------\n",
      "pipeline: default\n",
      "none :  0.0 16.4082524969\n",
      "low :  5.66429098386 16.7973596548\n",
      "med :  7.54057764968 16.7760130458\n",
      "high :  12.5599158083 16.8677703119\n",
      "(13, 83, 83) NR_0\n",
      "--------------------------------------------\n",
      "pipeline: NR_0\n",
      "none :  0.0 15.3210419706\n",
      "low :  6.83820175663 15.594097373\n",
      "med :  9.07285155841 15.3530755591\n",
      "high :  10.7590404359 15.9817801864\n",
      "(13, 83, 83) NR_1\n",
      "--------------------------------------------\n",
      "pipeline: NR_1\n",
      "none :  0.0 19.1283069601\n",
      "low :  8.41461733039 19.4408732755\n",
      "med :  9.92434971129 18.4756784278\n",
      "high :  12.0534477753 16.3518554032\n",
      "(13, 83, 83) NR_2\n",
      "--------------------------------------------\n",
      "pipeline: NR_2\n",
      "none :  0.0 13.1825609744\n",
      "low :  7.20426773952 13.4546543322\n",
      "med :  8.54426951152 13.6474534808\n",
      "high :  11.317503089 14.4856434053\n",
      "(13, 83, 83) NR_3\n",
      "--------------------------------------------\n",
      "pipeline: NR_3\n",
      "none :  0.0 19.1175573057\n",
      "low :  7.5930486167 19.171816736\n",
      "med :  8.52947471 18.1656820045\n",
      "high :  10.935462336 16.1315422398\n",
      "(13, 83, 83) NR_4\n",
      "--------------------------------------------\n",
      "pipeline: NR_4\n",
      "none :  0.0 16.346119911\n",
      "low :  5.35618581714 16.7461583831\n",
      "med :  7.16529510558 16.3485582756\n",
      "high :  11.3629371602 16.780052792\n"
     ]
    }
   ],
   "source": [
    "pipelines = [None, 'NR_0', 'NR_1', 'NR_2', 'NR_3', 'NR_4']\n",
    "\n",
    "ordered_conds = s2r.ordered_conds()\n",
    "\n",
    "for pipe in pipelines:\n",
    "    conds, pipeline = s2r.create_conds_filenames(dbase, addjson=pipe)\n",
    "    common_labels = s2r._get_common_labels(conds, idx0=1)\n",
    "    conds_arr, stored_params = s2r.compute_corr_mtx(conds, common_labels)\n",
    "    print(conds_arr['none'].shape, pipeline)\n",
    "    #conds_arr.keys()\n",
    "\n",
    "    bias = s2r.smpce_bias(conds_arr, ordered_conds) #, s2r.smpce_var(conds_arr, ordered_conds))\n",
    "    vari = s2r.smpce_var(conds_arr, ordered_conds) #, s2r.smpce_var(conds_arr, ordered_conds))\n",
    "\n",
    "    print('-'*44)\n",
    "    print('pipeline:', pipeline)\n",
    "    for k in ordered_conds:\n",
    "        print(k, \": \", lin.norm(bias[k]), lin.norm(vari[k]))"
   ]
  },
  {
   "cell_type": "code",
   "execution_count": 34,
   "metadata": {
    "collapsed": true
   },
   "outputs": [],
   "source": [
    "for k in ordered_conds:\n",
    "    pass\n",
    "    # print(k, \"\\n\", bias[k])\n",
    "for k in ordered_conds:\n",
    "    pass\n",
    "    # print(k, \"\\n\", vari[k])\n"
   ]
  },
  {
   "cell_type": "code",
   "execution_count": null,
   "metadata": {
    "collapsed": true
   },
   "outputs": [],
   "source": []
  }
 ],
 "metadata": {
  "kernelspec": {
   "display_name": "Python 2",
   "language": "python",
   "name": "python2"
  },
  "language_info": {
   "codemirror_mode": {
    "name": "ipython",
    "version": 2
   },
   "file_extension": ".py",
   "mimetype": "text/x-python",
   "name": "python",
   "nbconvert_exporter": "python",
   "pygments_lexer": "ipython2",
   "version": "2.7.6"
  }
 },
 "nbformat": 4,
 "nbformat_minor": 0
}
