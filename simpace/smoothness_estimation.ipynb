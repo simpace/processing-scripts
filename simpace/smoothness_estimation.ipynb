{
 "cells": [
  {
   "cell_type": "markdown",
   "metadata": {},
   "source": [
    "## A quick function for the estimation of the smoothness"
   ]
  },
  {
   "cell_type": "code",
   "execution_count": 1,
   "metadata": {
    "collapsed": false
   },
   "outputs": [
    {
     "name": "stdout",
     "output_type": "stream",
     "text": [
      "Populating the interactive namespace from numpy and matplotlib\n"
     ]
    }
   ],
   "source": [
    "\n",
    "from __future__ import print_function, division\n",
    "import numpy as np\n",
    "import scipy.signal as signal\n",
    "import scipy.ndimage.filters as filters\n",
    "import matplotlib.pyplot as plt\n",
    "\n",
    "%pylab inline\n"
   ]
  },
  {
   "cell_type": "code",
   "execution_count": 2,
   "metadata": {
    "collapsed": true
   },
   "outputs": [],
   "source": [
    "def smoothness(data, dimension=1):\n",
    "    \"\"\"\n",
    "    Estimate smoothness of data\n",
    "    \n",
    "    returns: fwhm as defined by Chp 18, Random Field Theory, Keith Worsley, SPM book\n",
    "    \"\"\"\n",
    "    # normalize data\n",
    "    data = data / np.linalg.norm(data)\n",
    "    deriv = np.gradient(data)\n",
    "    \n",
    "    return np.sqrt(4*np.log(2)) * (np.linalg.norm(deriv)**(-1./dimension))\n",
    "    \n",
    "def fwhm2sigma(fwhm):\n",
    "    return fwhm/np.sqrt(8*np.log(2))"
   ]
  },
  {
   "cell_type": "code",
   "execution_count": 3,
   "metadata": {
    "collapsed": true
   },
   "outputs": [],
   "source": [
    "ndata = 2000\n",
    "estimated = []\n",
    "for fwhm in np.arange(2, 20):\n",
    "    a = np.random.normal(0,1,size=(ndata,))\n",
    "    sigma = fwhm2sigma(fwhm)\n",
    "    gaussian = signal.gaussian(100, sigma)\n",
    "    convolved_data = filters.convolve1d(a, gaussian, mode='wrap')\n",
    "    estimated.append(smoothness(convolved_data))\n",
    "    "
   ]
  },
  {
   "cell_type": "code",
   "execution_count": 4,
   "metadata": {
    "collapsed": false
   },
   "outputs": [
    {
     "data": {
      "text/plain": [
       "[<matplotlib.lines.Line2D at 0x7f62a240df90>]"
      ]
     },
     "execution_count": 4,
     "metadata": {},
     "output_type": "execute_result"
    },
    {
     "data": {
      "image/png": "[encoded data removed]",
      "text/plain": [
       "<matplotlib.figure.Figure at 0x7f62c4539f90>"
      ]
     },
     "metadata": {},
     "output_type": "display_data"
    }
   ],
   "source": [
    "plt.plot(np.arange(2, 20), estimated)"
   ]
  },
  {
   "cell_type": "code",
   "execution_count": null,
   "metadata": {
    "collapsed": true
   },
   "outputs": [],
   "source": []
  }
 ],
 "metadata": {
  "kernelspec": {
   "display_name": "Python 2",
   "language": "python",
   "name": "python2"
  },
  "language_info": {
   "codemirror_mode": {
    "name": "ipython",
    "version": 2
   },
   "file_extension": ".py",
   "mimetype": "text/x-python",
   "name": "python",
   "nbconvert_exporter": "python",
   "pygments_lexer": "ipython2",
   "version": "2.7.6"
  }
 },
 "nbformat": 4,
 "nbformat_minor": 0
}
