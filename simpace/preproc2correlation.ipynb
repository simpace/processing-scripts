{
 "cells": [
  {
   "cell_type": "code",
   "execution_count": 1,
   "metadata": {
    "collapsed": false
   },
   "outputs": [
    {
     "name": "stdout",
     "output_type": "stream",
     "text": [
      "Populating the interactive namespace from numpy and matplotlib\n"
     ]
    }
   ],
   "source": [
    "%pylab inline\n",
    "from __future__ import print_function, division"
   ]
  },
  {
   "cell_type": "code",
   "execution_count": 2,
   "metadata": {
    "collapsed": false
   },
   "outputs": [],
   "source": [
    "import nibabel as nib\n",
    "import numpy as np\n",
    "import os\n",
    "import stat\n",
    "import os.path as osp\n",
    "import matplotlib.pyplot as plt\n",
    "import nipy\n",
    "import json\n",
    "import scipy.linalg as lin\n",
    "import scipy.stats as sst\n",
    "from warnings import warn\n",
    "import datetime, time\n",
    "import glob as gb\n",
    "from six import string_types\n",
    "import argparse"
   ]
  },
  {
   "cell_type": "code",
   "execution_count": 3,
   "metadata": {
    "collapsed": false
   },
   "outputs": [
    {
     "name": "stdout",
     "output_type": "stream",
     "text": [
      "[196, 196, 196, 196]\n",
      "/home/jb/data/simpace/data/rename_files/sub01/sess01/preproc/smooth/srasub01_sess01_run01-0005.nii\n",
      "/home/jb/data/simpace/data/rename_files/sub01/sess01/preproc/smooth/srasub01_sess01_run01-0006.nii\n",
      "/home/jb/data/simpace/data/rename_files/sub01/sess01/preproc/smooth/srasub01_sess01_run01-0007.nii\n",
      "/home/jb/data/simpace/data/rename_files/sub01/sess01/preproc/smooth/srasub01_sess01_run01-0008.nii\n"
     ]
    }
   ],
   "source": [
    "HOME = osp.expanduser('~')\n",
    "atlas_rois = osp.join(HOME,'code', 'regions', 'regions','tmp')\n",
    "DDIR = osp.join(HOME,'data','simpace','data','rename_files','sub01','sess01','preproc')\n",
    "DSRA = osp.join(DDIR, 'smooth')\n",
    "\n",
    "runs_pat = ['*sess01_run{:02d}-0*'.format(i) for i in [1,2,3,4]]\n",
    "\n",
    "runs = [gb.glob(osp.join(DSRA, pat)) for pat in runs_pat]\n",
    "for run in runs: run.sort()\n",
    "print([len(run) for run in runs])\n",
    "print('\\n'.join(runs[0][:4]))"
   ]
  },
  {
   "cell_type": "code",
   "execution_count": 4,
   "metadata": {
    "collapsed": false
   },
   "outputs": [],
   "source": [
    "_img = nib.load(runs[0][10])\n",
    "# print(_img.header)\n"
   ]
  },
  {
   "cell_type": "markdown",
   "metadata": {},
   "source": [
    "## Step 0: compute fmri mask for this session"
   ]
  },
  {
   "cell_type": "code",
   "execution_count": 5,
   "metadata": {
    "collapsed": false
   },
   "outputs": [],
   "source": [
    "# import nilearn\n",
    "import nilearn as nil\n",
    "from nilearn import masking as msk\n",
    "from nilearn.image.image import _compute_mean\n",
    "\n",
    "mask = msk.compute_epi_mask(runs[0], opening=1, connected=True)\n",
    "mean0, aff0 = _compute_mean(runs[0])\n",
    "EXPECTEDSHAPE = (64,64,30,196)\n",
    "assert mean0.shape == EXPECTEDSHAPE[:3]\n",
    "# setup the directories"
   ]
  },
  {
   "cell_type": "code",
   "execution_count": 6,
   "metadata": {
    "collapsed": false
   },
   "outputs": [],
   "source": [
    "mask_sess = msk.compute_multi_epi_mask(runs, lower_cutoff=0.2, upper_cutoff=0.85,\n",
    "                           connected=True, opening=2, threshold=0.5)\n"
   ]
  },
  {
   "cell_type": "code",
   "execution_count": 7,
   "metadata": {
    "collapsed": false
   },
   "outputs": [
    {
     "name": "stdout",
     "output_type": "stream",
     "text": [
      "(64, 64, 30)\n",
      "(64, 64, 30)\n",
      "(64, 64, 30)\n",
      "int8\n"
     ]
    }
   ],
   "source": [
    "print(mean0.shape)\n",
    "print(mask.shape)\n",
    "print(mask.get_data().shape)\n",
    "print(mask.get_data().dtype)"
   ]
  },
  {
   "cell_type": "code",
   "execution_count": 8,
   "metadata": {
    "collapsed": false
   },
   "outputs": [
    {
     "data": {
      "text/plain": [
       "<matplotlib.image.AxesImage at 0x7fda51ad1350>"
      ]
     },
     "execution_count": 8,
     "metadata": {},
     "output_type": "execute_result"
    },
    {
     "data": {
      "image/png": "[encoded data removed]",
      "text/plain": [
       "<matplotlib.figure.Figure at 0x7fda343e4f90>"
      ]
     },
     "metadata": {},
     "output_type": "display_data"
    }
   ],
   "source": [
    "fig, ax = plt.subplots(1,4)\n",
    "sli = 15\n",
    "r = 142\n",
    "\n",
    "ax[0].imshow(mask.get_data()[:,:,sli],interpolation='nearest')\n",
    "ax[1].imshow(mask_sess.get_data()[:,:,sli],interpolation='nearest')\n",
    "ax[2].imshow(mean0[:,:,sli],interpolation='nearest')\n",
    "ax[3].imshow(nib.load(runs[0][r]).get_data()[:,:,sli],interpolation='nearest',cmap='gray')\n",
    "\n"
   ]
  },
  {
   "cell_type": "markdown",
   "metadata": {},
   "source": [
    "## Step 2: extract roi signals"
   ]
  },
  {
   "cell_type": "code",
   "execution_count": 9,
   "metadata": {
    "collapsed": false
   },
   "outputs": [],
   "source": [
    "import importlib\n",
    "import utils._utils as ucr\n",
    "ucr = reload(ucr)\n",
    "from nilearn._utils import concat_niimgs"
   ]
  },
  {
   "cell_type": "code",
   "execution_count": 10,
   "metadata": {
    "collapsed": false
   },
   "outputs": [
    {
     "name": "stdout",
     "output_type": "stream",
     "text": [
      "float32\n",
      "[[ -3.50000000e+00   3.49980461e-16  -1.31730564e-16   1.10184021e+02]\n",
      " [  3.50001478e-16   3.28892422e+00  -1.31677759e+00  -7.62047806e+01]\n",
      " [  0.00000000e+00   1.19707048e+00   3.61781669e+00  -6.83810883e+01]\n",
      " [  0.00000000e+00   0.00000000e+00   0.00000000e+00   1.00000000e+00]]\n",
      "(64, 64, 30, 196)\n",
      "163.977\n"
     ]
    }
   ],
   "source": [
    "run0_4d = concat_niimgs(runs[0], ensure_ndim=4)\n",
    "print(run0_4d.get_data().dtype)\n",
    "assert run0_4d.get_data().shape == EXPECTEDSHAPE\n",
    "print(run0_4d.get_affine())\n",
    "np.allclose(run0_4d.get_affine(), mask.get_affine())\n",
    "print(run0_4d.shape)\n",
    "\n",
    "print(run0_4d.get_data().mean())"
   ]
  },
  {
   "cell_type": "code",
   "execution_count": 11,
   "metadata": {
    "collapsed": false
   },
   "outputs": [
    {
     "name": "stderr",
     "output_type": "stream",
     "text": [
      "utils/_utils.py:261: RuntimeWarning: invalid value encountered in greater\n",
      "  roi_mask = np.asarray(img.get_data().astype(float) > roi_threshold)\n"
     ]
    }
   ],
   "source": [
    "DROI = osp.join(DDIR, 'registered_files')\n",
    "roi_prefix = 'rraal_*.nii'\n",
    "\n",
    "#rois = gb.glob(osp.join(DROI, roi_prefix))\n",
    "\n",
    "signals, issues, info = ucr.extract_signals(DROI, roi_prefix, run0_4d, \n",
    "                                                    mask=mask, minvox=1)"
   ]
  },
  {
   "cell_type": "code",
   "execution_count": 12,
   "metadata": {
    "collapsed": false
   },
   "outputs": [
    {
     "name": "stdout",
     "output_type": "stream",
     "text": [
      "193\n"
     ]
    },
    {
     "data": {
      "image/png": "[encoded data removed]",
      "text/plain": [
       "<matplotlib.figure.Figure at 0x7fda3d45a850>"
      ]
     },
     "metadata": {},
     "output_type": "display_data"
    }
   ],
   "source": [
    "plt.plot(signals['rraal_Thalamus_R__________'])\n",
    "print(info['rraal_Thalamus_L__________'])"
   ]
  },
  {
   "cell_type": "code",
   "execution_count": 13,
   "metadata": {
    "collapsed": false
   },
   "outputs": [],
   "source": [
    "sig_keys = set(signals.keys())\n",
    "iss_keys = set(issues.keys())\n",
    "assert not sig_keys.intersection(iss_keys)"
   ]
  },
  {
   "cell_type": "code",
   "execution_count": 14,
   "metadata": {
    "collapsed": false
   },
   "outputs": [
    {
     "data": {
      "text/plain": [
       "array([ 353.25      ,  354.28570557,  352.82144165,  352.67855835,\n",
       "        352.10714722,  352.10714722,  352.39285278,  351.96429443,\n",
       "        350.64285278,  351.53570557], dtype=float32)"
      ]
     },
     "execution_count": 14,
     "metadata": {},
     "output_type": "execute_result"
    }
   ],
   "source": [
    "signals['rraal_Amygdala_L__________'][:10]"
   ]
  },
  {
   "cell_type": "code",
   "execution_count": 15,
   "metadata": {
    "collapsed": false
   },
   "outputs": [
    {
     "name": "stdout",
     "output_type": "stream",
     "text": [
      "(196, 102) 102\n",
      "47\n"
     ]
    }
   ],
   "source": [
    "arr_sig, labs = ucr._dict_signals_to_arr(signals)\n",
    "\n",
    "print(arr_sig.shape, len(labs))\n",
    "assert (len(signals) == len(labs))\n",
    "\n",
    "roi_label = 'rraal_Thalamus_R__________'\n",
    "idx_roi = labs.index(roi_label)\n",
    "print(info.values()[idx_roi])\n",
    "assert np.allclose(signals[roi_label], arr_sig[:,idx_roi])"
   ]
  },
  {
   "cell_type": "code",
   "execution_count": 16,
   "metadata": {
    "collapsed": false
   },
   "outputs": [
    {
     "data": {
      "text/plain": [
       "[<matplotlib.lines.Line2D at 0x7fda2d363210>]"
      ]
     },
     "execution_count": 16,
     "metadata": {},
     "output_type": "execute_result"
    },
    {
     "data": {
      "image/png": "[encoded data removed]",
      "text/plain": [
       "<matplotlib.figure.Figure at 0x7fda343f3510>"
      ]
     },
     "metadata": {},
     "output_type": "display_data"
    }
   ],
   "source": [
    "labs.index('rraal_Cerebelum_3_R_______')\n",
    "plt.plot(arr_sig[:,42])"
   ]
  },
  {
   "cell_type": "code",
   "execution_count": 17,
   "metadata": {
    "collapsed": false
   },
   "outputs": [],
   "source": [
    "DTMP = osp.join(HOME,'data','simpace','data','tmp')\n",
    "fn_mask = osp.join(DTMP, 'mask.nii')\n",
    "mask.to_filename(fn_mask)"
   ]
  },
  {
   "cell_type": "code",
   "execution_count": 18,
   "metadata": {
    "collapsed": false
   },
   "outputs": [
    {
     "name": "stdout",
     "output_type": "stream",
     "text": [
      "87440\n",
      "122880\n"
     ]
    },
    {
     "data": {
      "text/plain": [
       "True"
      ]
     },
     "execution_count": 18,
     "metadata": {},
     "output_type": "execute_result"
    }
   ],
   "source": [
    "# why so many nan in the roi? \n",
    "\n",
    "fname = '/home/jb/data/simpace/data/rename_files/sub01/sess01/'+ \\\n",
    "'preproc/registered_files/rraal_Frontal_Sup_Orb_L___.nii'\n",
    "\n",
    "roi = nib.load(fname)\n",
    "roi_arr = roi.get_data()\n",
    "print((np.logical_not(np.isnan(roi_arr)).sum()))\n",
    "print(np.asarray(roi_arr.shape).prod())\n",
    "(np.arange(3) > 1).dtype == np.dtype('bool')"
   ]
  },
  {
   "cell_type": "code",
   "execution_count": 19,
   "metadata": {
    "collapsed": false
   },
   "outputs": [
    {
     "name": "stdout",
     "output_type": "stream",
     "text": [
      "float64\n"
     ]
    },
    {
     "name": "stderr",
     "output_type": "stream",
     "text": [
      "/home/jb/.virtualenvs/simpace/lib/python2.7/site-packages/IPython/kernel/__main__.py:7: RuntimeWarning: invalid value encountered in greater\n"
     ]
    },
    {
     "data": {
      "image/png": "[encoded data removed]",
      "text/plain": [
       "<matplotlib.figure.Figure at 0x7fda2be83290>"
      ]
     },
     "metadata": {},
     "output_type": "display_data"
    }
   ],
   "source": [
    "roi = nib.load(fname)\n",
    "roi_arr = np.asarray(roi.get_data())\n",
    "print(roi_arr.dtype)\n",
    "roi_arr_not_nan = np.nan_to_num(roi_arr)\n",
    "roi_arr_not_nan.sum()\n",
    "#h = plt.hist(roi_arr.flatten())\n",
    "h =plt.hist(roi_arr[roi_arr >0],bins=50)"
   ]
  },
  {
   "cell_type": "code",
   "execution_count": 20,
   "metadata": {
    "collapsed": false
   },
   "outputs": [],
   "source": [
    "DSIG = osp.join(DDIR, 'extracted_signals')"
   ]
  },
  {
   "cell_type": "code",
   "execution_count": 21,
   "metadata": {
    "collapsed": true
   },
   "outputs": [],
   "source": [
    "import utils.setup_filenames as suf\n",
    "suf = reload(suf)\n",
    "suf.rm_and_create(DSIG)"
   ]
  },
  {
   "cell_type": "code",
   "execution_count": 22,
   "metadata": {
    "collapsed": false
   },
   "outputs": [
    {
     "name": "stdout",
     "output_type": "stream",
     "text": [
      "/home/jb/data/simpace/data/rename_files/sub01/sess01/preproc/extracted_signals\n",
      "128 128\n"
     ]
    },
    {
     "data": {
      "text/plain": [
       "u'/home/jb/code/simpace/simpace'"
      ]
     },
     "execution_count": 22,
     "metadata": {},
     "output_type": "execute_result"
    }
   ],
   "source": [
    "print(DSIG)\n",
    "stat.S_IWGRP | stat.S_IWUSR | stat.S_IWOTH\n",
    "stat.S_IWUSR\n",
    "stat.S_IWGRP\n",
    "print(stat.S_IWRITE, stat.S_IWUSR)\n",
    "type(0o770)\n",
    "%pwd"
   ]
  },
  {
   "cell_type": "markdown",
   "metadata": {},
   "source": [
    "## Step 3: load confounds "
   ]
  },
  {
   "cell_type": "code",
   "execution_count": 23,
   "metadata": {
    "collapsed": false
   },
   "outputs": [
    {
     "name": "stdout",
     "output_type": "stream",
     "text": [
      "/home/jb/data/simpace/data/rename_files/sub01/sess01/preproc\n"
     ]
    }
   ],
   "source": [
    "print(DDIR)"
   ]
  },
  {
   "cell_type": "code",
   "execution_count": 24,
   "metadata": {
    "collapsed": false
   },
   "outputs": [
    {
     "name": "stdout",
     "output_type": "stream",
     "text": [
      "(64, 64, 30) 20\n",
      "int8\n",
      "20\n"
     ]
    },
    {
     "data": {
      "image/png": "[encoded data removed]",
      "text/plain": [
       "<matplotlib.figure.Figure at 0x7fda2cdb0c90>"
      ]
     },
     "metadata": {},
     "output_type": "display_data"
    }
   ],
   "source": [
    "\n",
    "# extract csf time series\n",
    "# dir temporary\n",
    "DCSF = osp.join(DDIR, 'csf_mask')\n",
    "csf_file = osp.join(DCSF, 'csf_map_final.nii.gz')\n",
    "csf_img = nib.load(csf_file)\n",
    "print(csf_img.shape, csf_img.get_data().sum())\n",
    "\n",
    "print(csf_img.get_data().dtype)\n",
    "h = plt.hist(csf_img.get_data().flatten())\n",
    "print((csf_img.get_data().astype('bool') > 0.5).sum())\n"
   ]
  },
  {
   "cell_type": "code",
   "execution_count": 25,
   "metadata": {
    "collapsed": false
   },
   "outputs": [
    {
     "name": "stdout",
     "output_type": "stream",
     "text": [
      "(196,)\n",
      "/home/jb/data/simpace/data/rename_files/sub01/sess01/preproc/csf_mask\n"
     ]
    },
    {
     "data": {
      "image/png": "[encoded data removed]",
      "text/plain": [
       "<matplotlib.figure.Figure at 0x7fda2cc56c10>"
      ]
     },
     "metadata": {},
     "output_type": "display_data"
    }
   ],
   "source": [
    "csf_sig, csf_iss, csf_inf = ucr.extract_signals(DCSF, 'csf_map_final.nii.gz', run0_4d)\n",
    "plt.plot(csf_sig['csf_map_final.nii'])\n",
    "print(csf_sig['csf_map_final.nii'].shape)\n",
    "print(DCSF)"
   ]
  },
  {
   "cell_type": "code",
   "execution_count": 26,
   "metadata": {
    "collapsed": false
   },
   "outputs": [
    {
     "name": "stdout",
     "output_type": "stream",
     "text": [
      "/home/jb/data/simpace/data/rename_files/sub01/sess01/preproc/realign/rp_asub01_sess01_run01-0006.txt\n"
     ]
    }
   ],
   "source": [
    "# load mvt parameters\n",
    "DREALIGN = osp.join(DDIR, 'realign')\n",
    "mvtfile = osp.join(DREALIGN,'rp_asub01_sess01_run01-0006.txt')\n",
    "print(mvtfile)\n",
    "run_len = 196"
   ]
  },
  {
   "cell_type": "code",
   "execution_count": 27,
   "metadata": {
    "collapsed": false
   },
   "outputs": [],
   "source": [
    "pat = 'rp_asub??_' + '*-0*.txt'\n",
    "mvfile = gb.glob(osp.join(DREALIGN,pat))"
   ]
  },
  {
   "cell_type": "code",
   "execution_count": 28,
   "metadata": {
    "collapsed": false
   },
   "outputs": [
    {
     "data": {
      "text/plain": [
       "'/home/jb/data/simpace/data/rename_files/sub01/sess01/preproc/realign/rp_asub01_sess01_run01-0006.txt'"
      ]
     },
     "execution_count": 28,
     "metadata": {},
     "output_type": "execute_result"
    }
   ],
   "source": [
    "mvtfile"
   ]
  },
  {
   "cell_type": "code",
   "execution_count": 29,
   "metadata": {
    "collapsed": false
   },
   "outputs": [
    {
     "name": "stdout",
     "output_type": "stream",
     "text": [
      "(196, 6)\n"
     ]
    }
   ],
   "source": [
    "mvt0, _ = ucr.extract_mvt(mvtfile, 0, run_len)\n",
    "print(mvt0.shape)"
   ]
  },
  {
   "cell_type": "markdown",
   "metadata": {},
   "source": [
    "## Step 4: filter"
   ]
  },
  {
   "cell_type": "code",
   "execution_count": 30,
   "metadata": {
    "collapsed": false
   },
   "outputs": [
    {
     "data": {
      "text/plain": [
       "'/home/jb/data/simpace/data/rename_files/sub01'"
      ]
     },
     "execution_count": 30,
     "metadata": {},
     "output_type": "execute_result"
    }
   ],
   "source": [
    "osp.dirname(osp.dirname(DDIR))"
   ]
  },
  {
   "cell_type": "code",
   "execution_count": 31,
   "metadata": {
    "collapsed": false
   },
   "outputs": [
    {
     "data": {
      "text/plain": [
       "'/home/jb/data/simpace/data/rename_files/sub01/sess01/preproc'"
      ]
     },
     "execution_count": 31,
     "metadata": {},
     "output_type": "execute_result"
    }
   ],
   "source": [
    "DDIR"
   ]
  },
  {
   "cell_type": "code",
   "execution_count": 32,
   "metadata": {
    "collapsed": false
   },
   "outputs": [],
   "source": [
    "dsess = osp.dirname(DDIR) # session directory is one up"
   ]
  },
  {
   "cell_type": "code",
   "execution_count": 33,
   "metadata": {
    "collapsed": false
   },
   "outputs": [
    {
     "name": "stdout",
     "output_type": "stream",
     "text": [
      "/home/jb/data/simpace/data/rename_files/sub01/sess01/su*params\n",
      "['/home/jb/data/simpace/data/rename_files/sub01/sess01/sub01_sess01_params']\n"
     ]
    }
   ],
   "source": [
    "import json\n",
    "from pprint import pprint\n",
    "fname = gb.glob(osp.join(dsess,\"su*params\"))\n",
    "print(osp.join(dsess,\"su*params\"))\n",
    "print(fname)\n",
    "assert osp.isfile(fname[0])"
   ]
  },
  {
   "cell_type": "code",
   "execution_count": 34,
   "metadata": {
    "collapsed": false
   },
   "outputs": [],
   "source": [
    "with open(fname[0]) as param:\n",
    "    data = json.load(param)"
   ]
  },
  {
   "cell_type": "code",
   "execution_count": 35,
   "metadata": {
    "collapsed": false
   },
   "outputs": [],
   "source": [
    "import utils._utils as ucr\n",
    "ucr = reload(ucr)"
   ]
  },
  {
   "cell_type": "code",
   "execution_count": 36,
   "metadata": {
    "collapsed": false
   },
   "outputs": [],
   "source": [
    "nt = 196\n",
    "dt = 2.\n",
    "frametimes = np.linspace(0, (nt-1)*dt, nt)\n",
    "bf_h = ucr._cosine_high_freq(10.05, frametimes)\n",
    "bf_l = ucr._cosine_low_freq(128, frametimes)\n",
    "\n",
    "bf = np.hstack((bf_l, bf_h))"
   ]
  },
  {
   "cell_type": "code",
   "execution_count": 94,
   "metadata": {
    "collapsed": false
   },
   "outputs": [
    {
     "name": "stdout",
     "output_type": "stream",
     "text": [
      "True\n"
     ]
    },
    {
     "data": {
      "text/plain": [
       "[<matplotlib.lines.Line2D at 0x7fda2be345d0>]"
      ]
     },
     "execution_count": 94,
     "metadata": {},
     "output_type": "execute_result"
    },
    {
     "data": {
      "image/png": "[encoded data removed]",
      "text/plain": [
       "<matplotlib.figure.Figure at 0x7fda2bf5b990>"
      ]
     },
     "metadata": {},
     "output_type": "display_data"
    }
   ],
   "source": [
    "#_ = plt.imshow(bf, interpolation='nearest',aspect='auto')\n",
    "print(np.any(bf.std(axis=0) < np.finfo(float).eps))\n",
    "# bf.std(axis=0)\n",
    "plt.plot(bf[:,-1])"
   ]
  },
  {
   "cell_type": "code",
   "execution_count": 100,
   "metadata": {
    "collapsed": false
   },
   "outputs": [
    {
     "data": {
      "text/plain": [
       "array([[ 2.        ,  1.99992385],\n",
       "       [ 2.        ,  1.99931465],\n",
       "       [ 2.        ,  1.99809644],\n",
       "       [ 2.        ,  1.9962696 ],\n",
       "       [ 2.        ,  1.99383467]])"
      ]
     },
     "execution_count": 100,
     "metadata": {},
     "output_type": "execute_result"
    },
    {
     "data": {
      "image/png": "[encoded data removed]",
      "text/plain": [
       "<matplotlib.figure.Figure at 0x7fda2ba7d1d0>"
      ]
     },
     "metadata": {},
     "output_type": "display_data"
    }
   ],
   "source": [
    "import scipy.fftpack as fft\n",
    "bfsc = fft.dct(eye(180))\n",
    "#plt.imshow(bfsc)\n",
    "#plt.plot(bfsc[:,-1])\n",
    "#plt.imshow(bf.T.dot(bf), interpolation='nearest')\n",
    "plt.imshow(bfsc.T.dot(bfsc)[:10,:10], interpolation='nearest')\n",
    "bfsc[:5,:2]"
   ]
  },
  {
   "cell_type": "code",
   "execution_count": 39,
   "metadata": {
    "collapsed": false
   },
   "outputs": [],
   "source": [
    "import utils._utils as ucr\n",
    "ucr = reload(ucr)\n",
    "import utils.setup_filenames as suf\n",
    "suf = reload(suf)\n",
    "from nilearn._utils import concat_niimgs"
   ]
  },
  {
   "cell_type": "code",
   "execution_count": 40,
   "metadata": {
    "collapsed": false
   },
   "outputs": [],
   "source": [
    "file_names = runs[0]\n",
    "idx_run = 0\n",
    "mask = mask_sess\n",
    "TR = 2.0\n",
    "VOLNB = 196"
   ]
  },
  {
   "cell_type": "code",
   "execution_count": 41,
   "metadata": {
    "collapsed": false
   },
   "outputs": [
    {
     "name": "stdout",
     "output_type": "stream",
     "text": [
      "/home/jb/data/simpace/data/rename_files/sub01/sess01\n",
      "/home/jb/data/simpace/data/rename_files/sub01/sess01/preproc\n",
      "/home/jb/data/simpace/data/rename_files/sub01/sess01/sub01_sess01_params\n",
      "/home/jb/data/simpace/data/rename_files/sub01/sess01/preproc/realign/rp_asub01_sess01_run01-0006.txt\n"
     ]
    }
   ],
   "source": [
    "ddir = osp.dirname(osp.dirname(file_names[0])) # preproc dir\n",
    "dsess = osp.dirname(ddir) # session directory is one up\n",
    "droi = osp.join(ddir, 'registered_files')\n",
    "dsig = osp.join(ddir, 'extracted_signals')\n",
    "dreal = osp.join(ddir, 'realign')\n",
    "# - parameter (condition name)\n",
    "paramfile = gb.glob(osp.join(dsess,\"sub??_sess??_params\"))\n",
    "paramfile = suf._check_glob_res(paramfile, ensure=1, files_only=True)\n",
    "with open(paramfile) as fparam:\n",
    "     param = json.load(fparam)\n",
    "     mvt_cond = str(param['motion'][idx_run])\n",
    "# - signal files\n",
    "fn_sig = osp.join(dsig, 'signal_run{:02d}_'.format(idx_run) + mvt_cond)\n",
    "fn_fsig = osp.join(dsig, 'filtered_signal_run{:02d}_'.format(idx_run)+mvt_cond)\n",
    "# - csf file\n",
    "dcsf = osp.join(ddir, 'csf_mask')\n",
    "csf_filename =  'csf_map_final.nii.gz'\n",
    "# - mvt file\n",
    "# example : mvtfile = osp.join(dreal,'rp_asub01_sess01_run01-0006.txt')\n",
    "mvtpat = 'rp_asub??_' + '*-0*.txt'\n",
    "mvtfile = gb.glob(osp.join(dreal, mvtpat))\n",
    "mvtfile = suf._check_glob_res(mvtfile, ensure=1, files_only=True)\n",
    "# - atlas roi files\n",
    "roi_prefix = 'rraal_*.nii'\n",
    "                                                                                \n",
    "#- other parameters:\n",
    "low_freq = 0.01\n",
    "high_freq = 0.15\n",
    "dt = TR\n",
    "\n",
    "mvtpat = ('rp_asub??_sess??_run{:02d}' + '*-00*.txt').format(idx_run+1)\n",
    "mvtfile = gb.glob(osp.join(dreal, mvtpat))\n",
    "mvtfile = suf._check_glob_res(mvtfile, ensure=1, files_only=True)\n",
    "print(\"\\n\".join([dsess,ddir,paramfile,mvtfile]))"
   ]
  },
  {
   "cell_type": "code",
   "execution_count": 42,
   "metadata": {
    "collapsed": false
   },
   "outputs": [
    {
     "name": "stdout",
     "output_type": "stream",
     "text": [
      "(196, 102)\n"
     ]
    }
   ],
   "source": [
    "run_4d = concat_niimgs(file_names, ensure_ndim=4)\n",
    "signals, _issues, _info = ucr.extract_signals(droi, roi_prefix, run_4d, \n",
    "                                                    mask=mask, minvox=1)   \n",
    "arr_sig, labels_sig = ucr._dict_signals_to_arr(signals)\n",
    "print(arr_sig.shape)"
   ]
  },
  {
   "cell_type": "code",
   "execution_count": 43,
   "metadata": {
    "collapsed": false
   },
   "outputs": [
    {
     "name": "stdout",
     "output_type": "stream",
     "text": [
      "(196, 105)\n",
      "rraal_Vermis_4_5__________ 112\n",
      "rraal_Thalamus_L__________ 193\n",
      "rraal_Rolandic_Oper_L_____ 162\n",
      "rraal_Frontal_Sup_Orb_R___ 164\n",
      "rraal_Cerebelum_6_L_______ 201\n"
     ]
    }
   ],
   "source": [
    "signals, _issues, _info = ucr.extract_signals(droi, roi_prefix, run_4d, \n",
    "                                                    mask=None, minvox=1)   \n",
    "\n",
    "arr_sig, labels_sig = ucr._dict_signals_to_arr(signals)\n",
    "print(arr_sig.shape)\n",
    "\n",
    "for k in _info.keys()[:5]:\n",
    "    print(k, _info[k])"
   ]
  },
  {
   "cell_type": "code",
   "execution_count": 44,
   "metadata": {
    "collapsed": false
   },
   "outputs": [],
   "source": [
    "suf.rm_and_create(dsig)\n",
    "np.savez(fn_sig, arr_sig, labels_sig)"
   ]
  },
  {
   "cell_type": "code",
   "execution_count": 45,
   "metadata": {
    "collapsed": false
   },
   "outputs": [],
   "source": [
    "csf_arr, csf_labs = ucr.extract_roi_run(dcsf, csf_filename, run_4d, \n",
    "                    check_lengh=VOLNB, standardize=True)"
   ]
  },
  {
   "cell_type": "code",
   "execution_count": 46,
   "metadata": {
    "collapsed": false
   },
   "outputs": [
    {
     "name": "stdout",
     "output_type": "stream",
     "text": [
      "(196, 1) 1.0 5.36685e-06\n"
     ]
    },
    {
     "data": {
      "image/png": "[encoded data removed]",
      "text/plain": [
       "<matplotlib.figure.Figure at 0x7fda342f0490>"
      ]
     },
     "metadata": {},
     "output_type": "display_data"
    }
   ],
   "source": [
    "plt.plot(csf_arr)\n",
    "print(csf_arr.shape, csf_arr.std(), csf_arr.mean())"
   ]
  },
  {
   "cell_type": "code",
   "execution_count": 47,
   "metadata": {
    "collapsed": false
   },
   "outputs": [],
   "source": [
    "bf_arr, bf_labs = ucr.extract_bf(low_freq, high_freq, VOLNB, dt, \n",
    "                                                            verbose=False)\n"
   ]
  },
  {
   "cell_type": "code",
   "execution_count": 48,
   "metadata": {
    "collapsed": false
   },
   "outputs": [
    {
     "name": "stdout",
     "output_type": "stream",
     "text": [
      "not to demean nb of col:  0\n",
      "signals.mean()  1.03847391759e-17\n",
      "(std < TINY).sum() =  0\n"
     ]
    }
   ],
   "source": [
    "mvt_arr, mvt_labs = ucr.extract_mvt(mvtfile, idx_run, VOLNB, verbose=1)"
   ]
  },
  {
   "cell_type": "code",
   "execution_count": 49,
   "metadata": {
    "collapsed": false
   },
   "outputs": [],
   "source": [
    "counfounds = np.hstack((csf_arr, mvt_arr, bf_arr))\n",
    "counfounds_labs = csf_labs + mvt_labs + bf_labs\n"
   ]
  },
  {
   "cell_type": "code",
   "execution_count": 50,
   "metadata": {
    "collapsed": false
   },
   "outputs": [
    {
     "data": {
      "text/plain": [
       "(196, 93)"
      ]
     },
     "execution_count": 50,
     "metadata": {},
     "output_type": "execute_result"
    }
   ],
   "source": [
    "counfounds.shape"
   ]
  },
  {
   "cell_type": "code",
   "execution_count": 51,
   "metadata": {
    "collapsed": false
   },
   "outputs": [
    {
     "data": {
      "text/plain": [
       "['csf', 'tx', 'ty', 'tz', 'rx', 'ry', 'rz', 'lf000', 'lf001', 'lf002']"
      ]
     },
     "execution_count": 51,
     "metadata": {},
     "output_type": "execute_result"
    }
   ],
   "source": [
    "counfounds_labs[:10]"
   ]
  },
  {
   "cell_type": "code",
   "execution_count": 52,
   "metadata": {
    "collapsed": false
   },
   "outputs": [
    {
     "data": {
      "text/plain": [
       "[<matplotlib.lines.Line2D at 0x7fda2cfd5990>]"
      ]
     },
     "execution_count": 52,
     "metadata": {},
     "output_type": "execute_result"
    },
    {
     "data": {
      "image/png": "[encoded data removed]",
      "text/plain": [
       "<matplotlib.figure.Figure at 0x7fda2ca2c090>"
      ]
     },
     "metadata": {},
     "output_type": "display_data"
    }
   ],
   "source": [
    "plt.plot(counfounds.std(axis=0))"
   ]
  },
  {
   "cell_type": "code",
   "execution_count": 53,
   "metadata": {
    "collapsed": false
   },
   "outputs": [
    {
     "data": {
      "text/plain": [
       "(196, 105)"
      ]
     },
     "execution_count": 53,
     "metadata": {},
     "output_type": "execute_result"
    }
   ],
   "source": [
    "arr_sig.shape"
   ]
  },
  {
   "cell_type": "code",
   "execution_count": 54,
   "metadata": {
    "collapsed": false
   },
   "outputs": [],
   "source": [
    "f_arr_sig = ucr.R_proj(counfounds, arr_sig)"
   ]
  },
  {
   "cell_type": "code",
   "execution_count": 55,
   "metadata": {
    "collapsed": false
   },
   "outputs": [
    {
     "data": {
      "text/plain": [
       "[<matplotlib.lines.Line2D at 0x7fda2d07a890>,\n",
       " <matplotlib.lines.Line2D at 0x7fda2d07a450>]"
      ]
     },
     "execution_count": 55,
     "metadata": {},
     "output_type": "execute_result"
    },
    {
     "data": {
      "image/png": "[encoded data removed]",
      "text/plain": [
       "<matplotlib.figure.Figure at 0x7fda2d210690>"
      ]
     },
     "metadata": {},
     "output_type": "display_data"
    }
   ],
   "source": [
    "t = np.arange(arr_sig.shape[0])\n",
    "idx = 0\n",
    "plt.plot(t, arr_sig[:,idx]-arr_sig[:,idx].mean(), t, f_arr_sig[:,idx])\n",
    "#plt.plot(t, arr_sig[:,44])"
   ]
  },
  {
   "cell_type": "code",
   "execution_count": 56,
   "metadata": {
    "collapsed": false
   },
   "outputs": [],
   "source": [
    "dsess = osp.dirname(ddir)\n",
    "dbase = osp.dirname(osp.dirname(dsess))\n",
    "layout = 'directory_layout.json'\n",
    "dlo = osp.join(dbase, layout)\n",
    "analy_param = 'analysis_parameters.json'\n",
    "apr = osp.join(dbase, analy_param)\n",
    "data_param = 'data_parameters.json'\n",
    "dpr = osp.join(dbase, data_param)"
   ]
  },
  {
   "cell_type": "code",
   "execution_count": 57,
   "metadata": {
    "collapsed": false
   },
   "outputs": [],
   "source": [
    "import json\n"
   ]
  },
  {
   "cell_type": "code",
   "execution_count": 58,
   "metadata": {
    "collapsed": false
   },
   "outputs": [
    {
     "name": "stdout",
     "output_type": "stream",
     "text": [
      "/home/jb/data/simpace/data/rename_files/analysis_parameters.json\n"
     ]
    }
   ],
   "source": [
    "print(apr)\n",
    "a = json.load(open(dlo))\n",
    "b = json.load(open(apr))\n",
    "c = json.load(open(dpr))"
   ]
  },
  {
   "cell_type": "code",
   "execution_count": 59,
   "metadata": {
    "collapsed": false
   },
   "outputs": [
    {
     "name": "stdout",
     "output_type": "stream",
     "text": [
      "{u'pat': {u'sub+sess+': u'*sub{:02d}_sess{:02d}_', u'sub+sess+run+': u'*sub{:02d}_sess{:02d}_run{:02d}-', u'run+': u'*run{:02d}-', u'sess+': u'*sess{:02d}_', u'sub+': u'*sub{:02d}_', u'sess+run+': u'*sess{:02d}_run{:02d}-'}, u'wm': {u'@dir': u'@dir@runs@wm', u'roi_mask': u'wm_map_final.nii*', u'dir': u'wm_mask'}, u'csf': {u'@dir': u'@dir@runs@csf', u'roi_mask': u'csf_map_final.nii*', u'dir': u'csf_mask'}, u'atlas': {u'prepat': u'rraal_*.nii', u'dir': u'registered_files'}, u'spm_mvt': {u'mvtpost': u'00?.txt', u'mvtprm': u'rp_asub??_sess??_run*-00*.txt', u'mvtrun1+': u'rp_asub{:02d}_sess{:02d}_run01-0*.txt', u'mvtpref': u'rp_'}, u'dir': {u'runs': u'preproc', u'smooth': u'smooth', u'signals': u'extracted_signals', u'realign': u'realign', u'base': u'./', u'run+': u'run{:02d}', u'sess+': u'sess{:02d}', u'sub+': u'sub{:02d}'}, u'out': {u'signals': {u'signals+': u'signal_run{:02d}_', u'dir': u'extracted_signals', u'f_signals+': u'filtered_signal_run{:02d}_'}, u'sess_mask': {u'roi_mask': u'sess_mask.nii', u'dir': u'sess_mask'}}}\n",
      "{u'filter': {u'high_freq': 0.1, u'low_freq': 0.01}, u'csf': {u'type': u'mean'}, u'mvt': {u'type': u'6'}, u'apply_wm': True, u'wm': {u'type': u'mean'}, u'apply_mvt': True, u'apply_filter': True, u'apply_sess_mask': True, u'apply_csf': True, u'write_signals': True}\n",
      "{u'nb_run': 4, u'nb_sub': 1, u'TR': 2.0, u'nb_vol': 196, u'nb_sess': 1}\n"
     ]
    }
   ],
   "source": [
    "print(a)\n",
    "print(b)\n",
    "print(c)"
   ]
  },
  {
   "cell_type": "code",
   "execution_count": 60,
   "metadata": {
    "collapsed": false
   },
   "outputs": [
    {
     "data": {
      "text/plain": [
       "u'rraal_*.nii'"
      ]
     },
     "execution_count": 60,
     "metadata": {},
     "output_type": "execute_result"
    }
   ],
   "source": [
    "a['atlas']['prepat']"
   ]
  },
  {
   "cell_type": "code",
   "execution_count": 61,
   "metadata": {
    "collapsed": false
   },
   "outputs": [
    {
     "data": {
      "text/plain": [
       "{u'apply_csf': True,\n",
       " u'apply_filter': True,\n",
       " u'apply_mvt': True,\n",
       " u'apply_sess_mask': True,\n",
       " u'apply_wm': True,\n",
       " u'csf': {u'type': u'mean'},\n",
       " u'filter': {u'high_freq': 0.1, u'low_freq': 0.01},\n",
       " u'mvt': {u'type': u'6'},\n",
       " u'wm': {u'type': u'mean'},\n",
       " u'write_signals': True}"
      ]
     },
     "execution_count": 61,
     "metadata": {},
     "output_type": "execute_result"
    }
   ],
   "source": [
    "b"
   ]
  },
  {
   "cell_type": "code",
   "execution_count": 62,
   "metadata": {
    "collapsed": false
   },
   "outputs": [],
   "source": [
    "assert isinstance(b['apply_csf'],bool)\n",
    "assert isinstance(b['filter'],dict)"
   ]
  },
  {
   "cell_type": "code",
   "execution_count": 63,
   "metadata": {
    "collapsed": false
   },
   "outputs": [
    {
     "name": "stdout",
     "output_type": "stream",
     "text": [
      "/home/jb/data/simpace/data/rename_files\n"
     ]
    }
   ],
   "source": [
    "print(dbase)\n",
    "DIRLAYOUT = 'directory_layout.json'\n",
    "DATAPARAM = 'data_parameters.json'\n",
    "ANALPARAM = 'analysis_parameters.json'"
   ]
  },
  {
   "cell_type": "code",
   "execution_count": 64,
   "metadata": {
    "collapsed": false
   },
   "outputs": [],
   "source": [
    "fn_layo = osp.join(dbase, DIRLAYOUT)\n",
    "fn_data = osp.join(dbase, DATAPARAM)\n",
    "fn_anal = osp.join(dbase, ANALPARAM)\n",
    "                                     \n",
    "with open(fn_layo) as flayo:\n",
    "    dlayo = json.load(flayo)\n",
    "with open(fn_data) as fdata:\n",
    "    ddata = json.load(fdata)\n",
    "with open(fn_anal) as fanal:\n",
    "    danal = json.load(fanal)\n"
   ]
  },
  {
   "cell_type": "code",
   "execution_count": 65,
   "metadata": {
    "collapsed": false
   },
   "outputs": [],
   "source": [
    "params = {'layout': dlayo, 'data': ddata, 'analysis': danal}"
   ]
  },
  {
   "cell_type": "code",
   "execution_count": 66,
   "metadata": {
    "collapsed": false
   },
   "outputs": [
    {
     "data": {
      "text/plain": [
       "{'analysis': {u'apply_csf': True,\n",
       "  u'apply_filter': True,\n",
       "  u'apply_mvt': True,\n",
       "  u'apply_sess_mask': True,\n",
       "  u'apply_wm': True,\n",
       "  u'csf': {u'type': u'mean'},\n",
       "  u'filter': {u'high_freq': 0.1, u'low_freq': 0.01},\n",
       "  u'mvt': {u'type': u'6'},\n",
       "  u'wm': {u'type': u'mean'},\n",
       "  u'write_signals': True},\n",
       " 'data': {u'TR': 2.0,\n",
       "  u'nb_run': 4,\n",
       "  u'nb_sess': 1,\n",
       "  u'nb_sub': 1,\n",
       "  u'nb_vol': 196},\n",
       " 'layout': {u'atlas': {u'dir': u'registered_files', u'prepat': u'rraal_*.nii'},\n",
       "  u'csf': {u'@dir': u'@dir@runs@csf',\n",
       "   u'dir': u'csf_mask',\n",
       "   u'roi_mask': u'csf_map_final.nii*'},\n",
       "  u'dir': {u'base': u'./',\n",
       "   u'realign': u'realign',\n",
       "   u'run+': u'run{:02d}',\n",
       "   u'runs': u'preproc',\n",
       "   u'sess+': u'sess{:02d}',\n",
       "   u'signals': u'extracted_signals',\n",
       "   u'smooth': u'smooth',\n",
       "   u'sub+': u'sub{:02d}'},\n",
       "  u'out': {u'sess_mask': {u'dir': u'sess_mask', u'roi_mask': u'sess_mask.nii'},\n",
       "   u'signals': {u'dir': u'extracted_signals',\n",
       "    u'f_signals+': u'filtered_signal_run{:02d}_',\n",
       "    u'signals+': u'signal_run{:02d}_'}},\n",
       "  u'pat': {u'run+': u'*run{:02d}-',\n",
       "   u'sess+': u'*sess{:02d}_',\n",
       "   u'sess+run+': u'*sess{:02d}_run{:02d}-',\n",
       "   u'sub+': u'*sub{:02d}_',\n",
       "   u'sub+sess+': u'*sub{:02d}_sess{:02d}_',\n",
       "   u'sub+sess+run+': u'*sub{:02d}_sess{:02d}_run{:02d}-'},\n",
       "  u'spm_mvt': {u'mvtpost': u'00?.txt',\n",
       "   u'mvtpref': u'rp_',\n",
       "   u'mvtprm': u'rp_asub??_sess??_run*-00*.txt',\n",
       "   u'mvtrun1+': u'rp_asub{:02d}_sess{:02d}_run01-0*.txt'},\n",
       "  u'wm': {u'@dir': u'@dir@runs@wm',\n",
       "   u'dir': u'wm_mask',\n",
       "   u'roi_mask': u'wm_map_final.nii*'}}}"
      ]
     },
     "execution_count": 66,
     "metadata": {},
     "output_type": "execute_result"
    }
   ],
   "source": [
    "params"
   ]
  },
  {
   "cell_type": "code",
   "execution_count": 67,
   "metadata": {
    "collapsed": true
   },
   "outputs": [],
   "source": [
    "DIRLAYOUT = 'directory_layout.json'\n",
    "DATAPARAM = 'data_parameters.json'\n",
    "ANALPARAM = 'analysis_parameters.json'\n",
    "\n",
    "def get_params(dbase, verbose=False):\n",
    "    \"\"\"\n",
    "    parameters:\n",
    "    -----------\n",
    "    dbase:  string\n",
    "            base directory containing subjects directory\n",
    "            and jason files\n",
    "    \"\"\"\n",
    "\n",
    "    # Read json files at the base directory\n",
    "    fn_layo = osp.join(dbase, DIRLAYOUT)\n",
    "    fn_data = osp.join(dbase, DATAPARAM)\n",
    "    fn_anal = osp.join(dbase, ANALPARAM)\n",
    "\n",
    "    with open(fn_layo) as flayo:\n",
    "        dlayo = json.load(flayo)\n",
    "    with open(fn_data) as fdata:\n",
    "        ddata = json.load(fdata)\n",
    "    with open(fn_anal) as fanal:\n",
    "        danal = json.load(fanal)\n",
    "\n",
    "    params = {'layout': dlayo, 'data': ddata, 'analysis': danal}\n",
    "    return params\n",
    "\n",
    "def process_all(dbase, params=None, verbose=False):\n",
    "    \"\"\"\n",
    "    parameters:\n",
    "    -----------\n",
    "    dbase:  string\n",
    "            base directory containing subjects directory\n",
    "            and jason files\n",
    "    \"\"\"\n",
    "    if not params:\n",
    "        params = get_params(dbase, verbose=verbose)\n",
    "    \n",
    "    dlayo = params['layout']\n",
    "    ddata = params['data']\n",
    "\n",
    "    # loop over subjects\n",
    "    subj_idx = range(1,ddata['nb_sub']+1) # starts at 1, hence + 1\n",
    "    subj_dirs = [osp.join(dbase, (dlayo['dir']['sub+']).format(idx)) for idx in subj_idx]\n",
    "    # check all subj_dirs exists\n",
    "    for sub_dir in subj_dirs:\n",
    "        assert osp.isdir(sub_dir), \"sub_dir\"\n",
    "\n",
    "    subjs_info = {}\n",
    "    sub_curr = {}\n",
    "    for sub_idx, sub_dir in enumerate(subj_dirs, 1): # start idx at 1\n",
    "        sub_curr['sub_idx'] = sub_idx\n",
    "        sub_curr['sub_dir'] = sub_dir\n",
    "        sub_str = (dlayo['dir']['sub+']).format(sub_idx)\n",
    "        subjs_info[sub_str] =  do_one_subject(sub_curr, params, verbose=verbose) \n",
    "\n",
    "    return subjs_info\n",
    "\n",
    "def do_one_subject(sub_curr, params, verbose=False):\n",
    "    \"\"\"\n",
    "    launch sessions processing for sub_curr \n",
    "\n",
    "    parameters:\n",
    "    -----------\n",
    "    sub_curr: dict \n",
    "            contains subject base directory\n",
    "            contains subject index \n",
    "    params: dict\n",
    "            parameters for layout, data and analysis\n",
    "            \n",
    "    \"\"\"\n",
    "    sub_idx, sub_dir = sub_curr['sub_idx'], sub_curr['sub_dir']\n",
    "    nb_sess = params['data']['nb_sess']\n",
    "    dlayo = params['layout']\n",
    "    sess_idx = range(1, nb_sess+1)\n",
    "    sess_dirs = [osp.join(sub_dir, (dlayo['dir']['sess+']).format(idx)) for idx in sess_idx]\n",
    "\n",
    "    sesss_info = {} \n",
    "    sess_curr = {}\n",
    "    for sess_idx, sess_dir in enumerate(sess_dirs, 1): # start idx at 1\n",
    "        sess_curr['sess_idx'] = sess_idx\n",
    "        sess_curr['sess_dir'] = sess_dir\n",
    "        sess_str = (dlayo['dir']['sess+']).format(sub_idx)\n",
    "        sesss_info[sess_str] = do_one_sess(sess_curr, sub_curr, params, verbose=verbose) \n",
    "\n",
    "    return sesss_info\n",
    "    \n",
    "def do_one_sess(sess_curr, sub_curr, params, verbose=False):\n",
    "    \"\"\"\n",
    "    launch runs processing for sess_curr \n",
    "\n",
    "    parameters:\n",
    "    -----------\n",
    "    sess_curr: dict \n",
    "            contains sess base directory\n",
    "            contains sess index \n",
    "    params: dict\n",
    "            parameters for layout, data and analysis\n",
    "    \"\"\"            \n",
    "\n",
    "    sess_idx = sess_curr['sess_idx']\n",
    "    sess_dir = sess_curr['sess_dir']\n",
    "    sub_idx = sub_curr['sub_idx']\n",
    "    nb_runs = params['data']['nb_run'] \n",
    "    assert nb_runs == 4 # 4debug\n",
    "\n",
    "    dlayo = params['layout']\n",
    "\n",
    "    runs_dir = osp.join(sess_dir, dlayo['dir']['runs']) # should be preproc\n",
    "    sess_curr['dir_runs'] = runs_dir\n",
    "\n",
    "    dir_smooth_imgs = osp.join(runs_dir, dlayo['dir']['smooth'])\n",
    "    sess_curr['dir_smooth_imgs'] = dir_smooth_imgs\n",
    "\n",
    "    sess_curr['droi'] = osp.join(runs_dir, dlayo['atlas']['dir']) # 'registered_files'\n",
    "    sess_curr['roi_prefix'] = dlayo['atlas']['prepat']            # 'rraal_*.nii'     \n",
    "    sess_curr['dsig'] = osp.join(runs_dir, dlayo['out']['signals']['dir']) \n",
    "\n",
    "    save_is_true = params['analysis']['write_signals']\n",
    "    if save_is_true: \n",
    "        # rm existing and recreate signal directory\n",
    "        suf.rm_and_create(sess_curr['dsig'])\n",
    "\n",
    "    sess_curr['dreal'] = osp.join(runs_dir, dlayo['dir']['realign'])\n",
    "\n",
    "    #- csf dir and file\n",
    "    sess_curr['csf_dir'] = osp.join(runs_dir, dlayo['csf']['dir'])\n",
    "    csf_file = gb.glob(osp.join(sess_curr['csf_dir'], dlayo['csf']['roi_mask']))\n",
    "    csf_file = suf._check_glob_res(csf_file, ensure=1, files_only=True)\n",
    "    sess_curr['csf_filename'] =  csf_file\n",
    "\n",
    "    #- csf dir and file\n",
    "    sess_curr['wm_dir'] = osp.join(runs_dir, dlayo['wm']['dir'])\n",
    "    wm_file = gb.glob(osp.join(sess_curr['wm_dir'], dlayo['wm']['roi_mask']))\n",
    "    wm_file = suf._check_glob_res(wm_file, ensure=1, files_only=True)\n",
    "    sess_curr['wm_filename'] =  wm_file\n",
    "\n",
    "    #- Get runs' filenames\n",
    "    #------------------------\n",
    "    pat_imgs_files = dlayo['pat']['sub+sess+run+']+\"*.nii*\"\n",
    "                                # requires idx for sub, sess and run\n",
    "    runs_pat = [pat_imgs_files.format(sub_idx, sess_idx, run_idx) \\\n",
    "                                        for run_idx in range(1, nb_runs+1)]\n",
    "                                # /!\\  start idx at 1 requires nb_runs+1  /!\\\n",
    "    runs = [gb.glob(osp.join(dir_smooth_imgs, pat)) for pat in runs_pat]\n",
    "    # /!\\ATTENTION:/!\\ must sort the files with filename, should sort in time\n",
    "    for run in runs: run.sort()\n",
    "    sess_curr['runs'] = runs\n",
    "    \n",
    "    # compute session wide mask\n",
    "    #-----------------------------------------------------\n",
    "    # compute_epi_mask(runs[0], opening=1, connected=True)\n",
    "    if params['analysis']['apply_sess_mask']:\n",
    "        sess_mask = msk.compute_multi_epi_mask(runs, lower_cutoff=0.2, \n",
    "                    upper_cutoff=0.85, connected=True, opening=2, threshold=0.5)\n",
    "        # store sess mask\n",
    "        dir_mask = osp.join(runs_dir, dlayo['out']['sess_mask']['dir'])\n",
    "        suf.rm_and_create(dir_mask)\n",
    "        sess_mask.to_filename(osp.join(dir_mask, dlayo['out']['sess_mask']['roi_mask']))\n",
    "    else:\n",
    "        sess_mask = None\n",
    "    sess_curr['mask'] = sess_mask\n",
    "\n",
    "    # TODO\n",
    "    # check mask is reasonable - how ???\n",
    "\n",
    "    # - mvt file\n",
    "    # example : mvtfile = osp.join(dreal,'rp_asub01_sess01_run01-0006.txt')\n",
    "    # /!\\ will always be run01 for spm /!\\\n",
    "    mvtpat = dlayo['spm_mvt']['mvtrun1+'].format(sub_idx, sess_idx) \n",
    "    mvtfile = gb.glob(osp.join(sess_curr['dreal'], mvtpat))\n",
    "    mvtfile = suf._check_glob_res(mvtfile, ensure=1, files_only=True)\n",
    "    sess_curr['mvtfile'] = mvtfile\n",
    "\n",
    "    # - parameter file for condition names\n",
    "    param_pattern = (dlayo['pat']['sub+sess+']).format(sub_idx, sess_idx)\n",
    "    paramfile = gb.glob(osp.join(sess_dir, param_pattern + \"params\"))\n",
    "    paramfile = suf._check_glob_res(paramfile, ensure=1, files_only=True)\n",
    "    with open(paramfile) as fparam:\n",
    "         sess_param = json.load(fparam)\n",
    "\n",
    "    runs_info = {}\n",
    "    run_curr = {}\n",
    "    for idx_run, run in enumerate(runs, 1): # /!\\ starts at 1 /!\\\n",
    "        run_curr['run_idx'] = idx_run\n",
    "        run_curr['file_names'] = run\n",
    "        # TODO : fix this to have sess_param return motion['run1']='HIGH' etc\n",
    "        run_curr['motion'] = sess_param['motion'][idx_run-1] # sess_param['motion'] is 0 based\n",
    "\n",
    "        runs_info[\"run{:02d}\".format(idx_run)] = \\\n",
    "                    do_one_run(run_curr, sess_curr, sub_curr, params, verbose=verbose)\n",
    "\n",
    "    return runs_info\n",
    "\n",
    "def do_one_run(run_curr, sess_curr, sub_curr, params, verbose=False):\n",
    "    \"\"\"\n",
    "    \"\"\"\n",
    "    run_info = {}\n",
    "    nvol = params['data']['nb_vol']\n",
    "    dt = params['data']['TR']\n",
    "    nb_run = params['data']['nb_run']\n",
    "\n",
    "    file_names = run_curr['file_names']\n",
    "    run_idx = run_curr['run_idx']\n",
    "    run_idx0 = run_idx - 1\n",
    "    assert run_idx0 >= 0\n",
    "    assert run_idx0 < nb_run\n",
    "\n",
    "    #sub_idx = sub_curr['sub_idx']\n",
    "    #sess_idx = sess_curr['sess_idx']\n",
    "    mvt_cond = run_curr['motion']\n",
    "    dsig = sess_curr['dsig']\n",
    "    mask = sess_curr['mask']\n",
    "\n",
    "    low_freq = params['analysis']['filter']['low_freq']\n",
    "    high_freq = params['analysis']['filter']['high_freq']\n",
    "    \n",
    "    # signal file names\n",
    "    #-------------------\n",
    "    _fn_sig = params['layout']['out']['signals']['signals+'] \n",
    "    _fn_fsig = params['layout']['out']['signals']['f_signals+'] \n",
    "    fn_sig = osp.join(dsig, _fn_sig.format(run_idx) + mvt_cond)\n",
    "    fn_fsig = osp.join(dsig, _fn_fsig.format(run_idx)+mvt_cond)\n",
    "\n",
    "    # extract signals and save them in preproc/roi_signals\n",
    "    #-----------------------------------------------------\n",
    "    run_4d = concat_niimgs(file_names, ensure_ndim=4)\n",
    "    signals, _issues, _info = ucr.extract_signals(sess_curr['droi'], \n",
    "                                                  sess_curr['roi_prefix'], run_4d, \n",
    "                                                  mask=mask, minvox=1)   \n",
    "    # construct matrix of counfounds\n",
    "    #-----------------------------------------------------\n",
    "    #--- get WM \n",
    "\n",
    "    #--- get CSF\n",
    "    csf_arr, csf_labs = ucr.extract_roi_run(\n",
    "                            sess_curr['csf_dir'], sess_curr['csf_filename'], \n",
    "                            run_4d, check_lengh=nvol, verbose=verbose)\n",
    "    #--- get MVT\n",
    "    mvt_arr, mvt_labs = ucr.extract_mvt(sess_curr['mvtfile'], run_idx0, nvol, \n",
    "                                                                verbose=verbose)\n",
    "    #--- get cosine functions;\n",
    "    bf_arr, bf_labs = ucr.extract_bf(low_freq, high_freq, nvol, dt, \n",
    "                                                                verbose=verbose)\n",
    "    #--- put it together  \n",
    "    arr_counf = np.hstack((csf_arr, mvt_arr, bf_arr))\n",
    "    labs_counf = csf_labs + mvt_labs + bf_labs\n",
    "    if verbose:\n",
    "       print(\"csf.shape {}, mvt.shape {}, bf.shape {}\".format(\n",
    "                     csf_arr.shape, mvt_arr.shape, bf_arr.shape))\n",
    "    run_info['shapes'] = (csf_arr.shape, mvt_arr.shape, bf_arr.shape)\n",
    "    run_info['mean_csf'] = csf_arr.mean(axis=0)\n",
    "    run_info['mean_mvt'] = mvt_arr.mean(axis=0)\n",
    "\n",
    "    # filter and compute correlation\n",
    "    #-----------------------------------------------------\n",
    "    arr_sig, labels_sig = ucr._dict_signals_to_arr(signals)\n",
    "    arr_sig_f = ucr.R_proj(arr_counf, arr_sig)\n",
    "\n",
    "    # save filtered signals \n",
    "    save_is_true = params['analysis']['write_signals']\n",
    "    if save_is_true:\n",
    "        np.savez(fn_sig, arr_sig=arr_sig, labels_sig=labels_sig) \n",
    "        np.savez(fn_fsig, arr_sig_f=arr_sig_f, labels_sig=labels_sig, \n",
    "                      arr_counf=arr_counf, labs_counf=labs_counf)\n",
    "    else:\n",
    "        run_info['signals'] = dict(arr_sig=arr_sig, labels_sig=labels_sig, \n",
    "                                    issues=_issues, info=_info)\n",
    "        run_info['f_signals'] = dict(arr_sig_f=arr_sig_f, labels_sig=labels_sig,\n",
    "                                     arr_counf=arr_counf, labs_counf=labs_counf)\n",
    "\n",
    "    return run_info\n"
   ]
  },
  {
   "cell_type": "code",
   "execution_count": 68,
   "metadata": {
    "collapsed": false
   },
   "outputs": [],
   "source": [
    "dbase = '/home/jb/data/simpace/data/rename_files'\n",
    "get_params(dbase, verbose=False)\n",
    "params['analysis']['write_signals'] = False\n",
    "params['analysis']['apply_sess_mask'] = False\n"
   ]
  },
  {
   "cell_type": "code",
   "execution_count": 69,
   "metadata": {
    "collapsed": false
   },
   "outputs": [
    {
     "name": "stdout",
     "output_type": "stream",
     "text": [
      "['data', 'layout', 'analysis']\n",
      "{u'pat': {u'sub+sess+': u'*sub{:02d}_sess{:02d}_', u'sub+sess+run+': u'*sub{:02d}_sess{:02d}_run{:02d}-', u'run+': u'*run{:02d}-', u'sess+': u'*sess{:02d}_', u'sub+': u'*sub{:02d}_', u'sess+run+': u'*sess{:02d}_run{:02d}-'}, u'wm': {u'@dir': u'@dir@runs@wm', u'roi_mask': u'wm_map_final.nii*', u'dir': u'wm_mask'}, u'csf': {u'@dir': u'@dir@runs@csf', u'roi_mask': u'csf_map_final.nii*', u'dir': u'csf_mask'}, u'atlas': {u'prepat': u'rraal_*.nii', u'dir': u'registered_files'}, u'spm_mvt': {u'mvtpost': u'00?.txt', u'mvtprm': u'rp_asub??_sess??_run*-00*.txt', u'mvtrun1+': u'rp_asub{:02d}_sess{:02d}_run01-0*.txt', u'mvtpref': u'rp_'}, u'dir': {u'runs': u'preproc', u'smooth': u'smooth', u'signals': u'extracted_signals', u'realign': u'realign', u'base': u'./', u'run+': u'run{:02d}', u'sess+': u'sess{:02d}', u'sub+': u'sub{:02d}'}, u'out': {u'signals': {u'signals+': u'signal_run{:02d}_', u'dir': u'extracted_signals', u'f_signals+': u'filtered_signal_run{:02d}_'}, u'sess_mask': {u'roi_mask': u'sess_mask.nii', u'dir': u'sess_mask'}}}\n",
      "{u'filter': {u'high_freq': 0.1, u'low_freq': 0.01}, u'csf': {u'type': u'mean'}, u'mvt': {u'type': u'6'}, u'apply_wm': True, u'wm': {u'type': u'mean'}, u'apply_mvt': True, u'apply_filter': True, u'apply_sess_mask': False, u'apply_csf': True, u'write_signals': False}\n"
     ]
    }
   ],
   "source": [
    "print(params.keys())\n",
    "print(params['layout'])\n",
    "print(params['analysis'])"
   ]
  },
  {
   "cell_type": "code",
   "execution_count": 70,
   "metadata": {
    "collapsed": false
   },
   "outputs": [],
   "source": [
    "params['analysis']['write_signals'] = False\n",
    "subjs_info = process_all(dbase, params=params, verbose=False)"
   ]
  },
  {
   "cell_type": "code",
   "execution_count": 71,
   "metadata": {
    "collapsed": false
   },
   "outputs": [
    {
     "name": "stdout",
     "output_type": "stream",
     "text": [
      "['info', 'arr_sig', 'labels_sig', 'issues']\n",
      "<type 'list'>\n",
      "<type 'numpy.ndarray'>\n"
     ]
    }
   ],
   "source": [
    "print(subjs_info['sub01']['sess01']['run01']['signals'].keys())\n",
    "signals_dict = subjs_info['sub01']['sess01']['run01']['signals']\n",
    "print(type(signals_dict['labels_sig']))\n",
    "print(type(signals_dict['arr_sig']))"
   ]
  },
  {
   "cell_type": "code",
   "execution_count": 72,
   "metadata": {
    "collapsed": false
   },
   "outputs": [],
   "source": [
    "labs_sig = subjs_info['sub01']['sess01']['run01']['f_signals']['labels_sig']\n",
    "info_sig = subjs_info['sub01']['sess01']['run01']['signals']['info']\n",
    "arr_sig = subjs_info['sub01']['sess01']['run01']['signals']['arr_sig']"
   ]
  },
  {
   "cell_type": "code",
   "execution_count": 73,
   "metadata": {
    "collapsed": false
   },
   "outputs": [],
   "source": [
    "dtest = '/home/jb/code/simpace/simpace/tests'\n",
    "mat_file = osp.join(dtest, \"sub01_session_1_raw_ROI_timeseries.mat\")"
   ]
  },
  {
   "cell_type": "code",
   "execution_count": 74,
   "metadata": {
    "collapsed": false
   },
   "outputs": [],
   "source": [
    "import scipy.io as sio\n",
    "from numpy.testing import assert_allclose, assert_array_equal\n",
    "\n",
    "to_check = sio.loadmat(mat_file)"
   ]
  },
  {
   "cell_type": "code",
   "execution_count": 75,
   "metadata": {
    "collapsed": false
   },
   "outputs": [
    {
     "data": {
      "text/plain": [
       "['all_rois', 'time_series', '__globals__', 'Nvox', '__header__', '__version__']"
      ]
     },
     "execution_count": 75,
     "metadata": {},
     "output_type": "execute_result"
    }
   ],
   "source": [
    "to_check.keys()"
   ]
  },
  {
   "cell_type": "code",
   "execution_count": 76,
   "metadata": {
    "collapsed": false
   },
   "outputs": [
    {
     "data": {
      "text/plain": [
       "array([ 335.36842105,  352.89473684,  359.47368421,  356.44736842])"
      ]
     },
     "execution_count": 76,
     "metadata": {},
     "output_type": "execute_result"
    }
   ],
   "source": [
    "to_check['all_rois'][1][0][0]\n",
    "to_check['time_series'][0][0]\n"
   ]
  },
  {
   "cell_type": "code",
   "execution_count": 77,
   "metadata": {
    "collapsed": false
   },
   "outputs": [
    {
     "data": {
      "text/plain": [
       "array([ 38,  38, 192, 287, 361, 304, 161, 163,   0,   0,  22,  31, 155,\n",
       "       107, 201, 229,   0,   0,   0,   0,   0,   0, 122, 176,  16,   7,\n",
       "       234, 208, 315, 388,  75,  49, 238, 260, 181, 220, 270, 285, 416,\n",
       "       365,  99, 124, 818, 157, 169, 845, 593, 499, 377, 150, 164, 674,\n",
       "       285, 329,  35,  43, 148, 153, 317, 298, 368, 366, 149, 170, 543,\n",
       "       339, 223, 235,  34,  50,  50,  49,  99, 136, 222, 133, 391, 235,\n",
       "       338, 365, 636, 633, 590, 558, 584, 552, 165, 176, 147, 126, 162,\n",
       "       217, 373, 379, 224, 313, 272, 433, 794, 737,   0,  43, 128, 186,\n",
       "       379, 503, 193, 193,   2,   7,  37, 112,  66,  24,   0,   0, 202,  20], dtype=uint16)"
      ]
     },
     "execution_count": 77,
     "metadata": {},
     "output_type": "execute_result"
    }
   ],
   "source": [
    "to_check['Nvox'][0]"
   ]
  },
  {
   "cell_type": "code",
   "execution_count": 78,
   "metadata": {
    "collapsed": false
   },
   "outputs": [
    {
     "name": "stdout",
     "output_type": "stream",
     "text": [
      "rraal_Amygdala_L__________ True\n",
      "38 38\n",
      "rraal_Amygdala_R__________ True\n",
      "38 38\n",
      "rraal_Angular_L___________ True\n",
      "192 192\n",
      "rraal_Angular_R___________ True\n",
      "287 287\n",
      "rraal_Calcarine_L_________ True\n",
      "361 361\n",
      "rraal_Calcarine_R_________ True\n",
      "304 304\n",
      "rraal_Caudate_L___________ True\n",
      "161 161\n",
      "rraal_Caudate_R___________ True\n",
      "163 163\n",
      "rraal_Cerebelum_10_L______ False\n",
      "rraal_Cerebelum_10_R______ False\n"
     ]
    }
   ],
   "source": [
    "nvox = to_check['Nvox'][0]\n",
    "for idx, roi in enumerate(to_check['all_rois'][:10]):\n",
    "    k, _ = osp.splitext(osp.basename(roi[0][0]))\n",
    "    in_sig = k in labs_sig\n",
    "    print(k, in_sig)\n",
    "    if in_sig: print(nvox[idx], info_sig[k])"
   ]
  },
  {
   "cell_type": "code",
   "execution_count": null,
   "metadata": {
    "collapsed": false
   },
   "outputs": [],
   "source": []
  },
  {
   "cell_type": "code",
   "execution_count": 79,
   "metadata": {
    "collapsed": false
   },
   "outputs": [
    {
     "data": {
      "text/plain": [
       "[(u'rraal_Vermis_1_2__________', 7),\n",
       " (u'rraal_Vermis_3____________', 37),\n",
       " (u'rraal_Vermis_4_5__________', 112),\n",
       " (u'rraal_Vermis_6____________', 66),\n",
       " (u'rraal_Vermis_7____________', 24)]"
      ]
     },
     "execution_count": 79,
     "metadata": {},
     "output_type": "execute_result"
    }
   ],
   "source": [
    "[(k,info_sig[k]) for k in sorted(info_sig.keys())][-5:]"
   ]
  },
  {
   "cell_type": "code",
   "execution_count": 80,
   "metadata": {
    "collapsed": false
   },
   "outputs": [
    {
     "data": {
      "text/plain": [
       "[u'rraal_Vermis_3____________',\n",
       " u'rraal_Vermis_4_5__________',\n",
       " u'rraal_Vermis_6____________',\n",
       " u'rraal_Vermis_7____________',\n",
       " u'rraal_Vermis_8____________',\n",
       " u'rraal_Vermis_9____________',\n",
       " u'wm_map_0.99_erode',\n",
       " u'csf_map_0.93_erode']"
      ]
     },
     "execution_count": 80,
     "metadata": {},
     "output_type": "execute_result"
    }
   ],
   "source": [
    "arielle_roi = []\n",
    "[osp.splitext(osp.basename(roi[0][0]))[0] for roi in to_check['all_rois']][-8:]"
   ]
  },
  {
   "cell_type": "code",
   "execution_count": 81,
   "metadata": {
    "collapsed": false
   },
   "outputs": [],
   "source": [
    "nvox = to_check['Nvox'][0]\n",
    "arrielle_nvox = [nvox[idx] for idx in range(len(nvox)) if nvox[idx] != 0]\n",
    "jb_nvox = np.asarray([info_sig[k] for k in sorted(info_sig.keys())])\n",
    "assert_array_equal(np.asarray(arrielle_nvox)[:-2], np.asarray(jb_nvox))\n"
   ]
  },
  {
   "cell_type": "code",
   "execution_count": null,
   "metadata": {
    "collapsed": true
   },
   "outputs": [],
   "source": []
  }
 ],
 "metadata": {
  "kernelspec": {
   "display_name": "Python 2",
   "language": "python",
   "name": "python2"
  },
  "language_info": {
   "codemirror_mode": {
    "name": "ipython",
    "version": 2
   },
   "file_extension": ".py",
   "mimetype": "text/x-python",
   "name": "python",
   "nbconvert_exporter": "python",
   "pygments_lexer": "ipython2",
   "version": "2.7.6"
  }
 },
 "nbformat": 4,
 "nbformat_minor": 0
}
