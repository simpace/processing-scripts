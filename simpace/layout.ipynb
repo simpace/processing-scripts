{
 "cells": [
  {
   "cell_type": "code",
   "execution_count": 81,
   "metadata": {
    "collapsed": false
   },
   "outputs": [
    {
     "name": "stdout",
     "output_type": "stream",
     "text": [
      "Populating the interactive namespace from numpy and matplotlib\n"
     ]
    },
    {
     "name": "stderr",
     "output_type": "stream",
     "text": [
      "WARNING: pylab import has clobbered these variables: ['f']\n",
      "`%matplotlib` prevents importing * from pylab and numpy\n"
     ]
    }
   ],
   "source": [
    "%pylab inline\n",
    "from __future__ import print_function, division\n",
    "import os\n",
    "import os.path as osp\n",
    "import glob as gb\n",
    "import json\n",
    "import numpy as np\n",
    "import argparse"
   ]
  },
  {
   "cell_type": "code",
   "execution_count": 91,
   "metadata": {
    "collapsed": false
   },
   "outputs": [
    {
     "name": "stdout",
     "output_type": "stream",
     "text": [
      "/home/jb/code/simpace/simpace\n"
     ]
    }
   ],
   "source": [
    "print(osp.abspath('.'))\n",
    "import layout as lo\n",
    "import smpce_data_to_corr as stc\n",
    "stc = reload(stc)\n",
    "lo  = reload(lo)\n",
    "f = \"./jsons/essai.json\""
   ]
  },
  {
   "cell_type": "code",
   "execution_count": 92,
   "metadata": {
    "collapsed": false
   },
   "outputs": [
    {
     "name": "stdout",
     "output_type": "stream",
     "text": [
      "{'runs': u'run', 'subjects': u'sub', 'sessions': u'sess'}\n",
      "[1, 2, 3, 4, 5, 6, 7, 8, 9, 10, 11, 12, 13] [u'/home/jb/data/simpace/rename_files/sub01/sess01', u'/home/jb/data/simpace/rename_files/sub01/sess02', u'/home/jb/data/simpace/rename_files/sub01/sess03', u'/home/jb/data/simpace/rename_files/sub01/sess04', u'/home/jb/data/simpace/rename_files/sub01/sess05', u'/home/jb/data/simpace/rename_files/sub01/sess06', u'/home/jb/data/simpace/rename_files/sub01/sess07', u'/home/jb/data/simpace/rename_files/sub01/sess08', u'/home/jb/data/simpace/rename_files/sub01/sess09', u'/home/jb/data/simpace/rename_files/sub01/sess10', u'/home/jb/data/simpace/rename_files/sub01/sess11', u'/home/jb/data/simpace/rename_files/sub01/sess12', u'/home/jb/data/simpace/rename_files/sub01/sess13']\n"
     ]
    }
   ],
   "source": [
    "dlayo = lo.get_layout(f, dbase = '/home/jb/data/simpace/rename_files')\n",
    "print(lo._get_key_dict(dlo, entities = [\"subjects\", \"sessions\", \"runs\"]))\n",
    "\n",
    "dstate = {}\n",
    "dstate['sub'],dstate['sess'],dstate['run'] = 1,2,3\n",
    "\n",
    "idxs, dirs = lo._get_alistof(dlayo, \"sessions\", dstate, return_idxs=True)\n",
    "print(idxs, dirs)"
   ]
  },
  {
   "cell_type": "code",
   "execution_count": 93,
   "metadata": {
    "collapsed": false
   },
   "outputs": [
    {
     "name": "stdout",
     "output_type": "stream",
     "text": [
      "/home/jb/data/simpace/rename_files/ {}\n",
      "/home/jb/data/simpace/rename_files/sub{sub:02d}/sess* {u'sub': None}\n",
      "aaa\n"
     ]
    }
   ],
   "source": [
    "pdir, ddir = lo._get_pth(dlayo, 'subjects')\n",
    "print(pdir,ddir)\n",
    "pdir, ddir = lo._get_pthglb(dlayo, 'sessions')\n",
    "print(pdir,ddir)\n",
    "print(\"aaa\".format(None))\n"
   ]
  },
  {
   "cell_type": "code",
   "execution_count": 94,
   "metadata": {
    "collapsed": false,
    "scrolled": true
   },
   "outputs": [
    {
     "name": "stdout",
     "output_type": "stream",
     "text": [
      "/home/jb/data/simpace/rename_files\n",
      "{u'/home/jb/data/simpace/rename_files/sub01': {u'/home/jb/data/simpace/rename_files/sub01/sess08': None, u'/home/jb/data/simpace/rename_files/sub01/sess09': None, u'/home/jb/data/simpace/rename_files/sub01/sess02': None, u'/home/jb/data/simpace/rename_files/sub01/sess03': None, u'/home/jb/data/simpace/rename_files/sub01/sess01': None, u'/home/jb/data/simpace/rename_files/sub01/sess06': None, u'/home/jb/data/simpace/rename_files/sub01/sess07': None, u'/home/jb/data/simpace/rename_files/sub01/sess04': None, u'/home/jb/data/simpace/rename_files/sub01/sess05': None, u'/home/jb/data/simpace/rename_files/sub01/sess13': None, u'/home/jb/data/simpace/rename_files/sub01/sess10': None, u'/home/jb/data/simpace/rename_files/sub01/sess11': None, u'/home/jb/data/simpace/rename_files/sub01/sess12': None}}\n",
      "/home/jb/data/simpace/rename_files/sub01/sess02/preproc\n",
      "/home/jb/data/simpace/rename_files/sub01/sess02/preproc/smooth\n",
      "/home/jb/data/simpace/rename_files/sub01/sess02/preproc/csf_in_func_res/csf_func_res.nii\n",
      "/home/jb/data/simpace/rename_files/sub01/sess02/preproc/coreg/rraal_*.nii\n",
      "/home/jb/data/simpace/rename_files/sub01/sess02/preproc/coreg/rraal_*.nii\n",
      "[u'/home/jb/data/simpace/rename_files/sub01/sess02/preproc/coreg/rraal_SupraMarginal_L_____.nii', u'/home/jb/data/simpace/rename_files/sub01/sess02/preproc/coreg/rraal_Cerebelum_6_L_______.nii', u'/home/jb/data/simpace/rename_files/sub01/sess02/preproc/coreg/rraal_Vermis_3____________.nii', u'/home/jb/data/simpace/rename_files/sub01/sess02/preproc/coreg/rraal_Rectus_R____________.nii', u'/home/jb/data/simpace/rename_files/sub01/sess02/preproc/coreg/rraal_Putamen_L___________.nii']\n",
      "/home/jb/data/simpace/rename_files/sub01/sess02/preproc/extracted_signals\n",
      "[u'/home/jb/data/simpace/rename_files/sub01/sess02/preproc/realign/rp_asub01_sess02_run01-0005.txt'] True\n",
      "/home/jb/data/simpace/rename_files/sub01/sess02/preproc/realign/rp_asub01_sess02_run01-0005.txt\n"
     ]
    }
   ],
   "source": [
    "dbase = osp.join(osp.expanduser('~'),'data/simpace/rename_files')\n",
    "print(dbase)\n",
    "p = stc.get_params(dbase, verbose=False)\n",
    "#p['layout']['subjects']\n",
    "aaa = stc.process_all(dbase)\n",
    "print(aaa)\n",
    "runs_dir = lo._get_apth(dlayo, \"runs\", dfil)\n",
    "print(runs_dir)\n",
    "dir_smooth_imgs = lo._get_apth(dlayo, \"smoothed\", dfil)\n",
    "print(dir_smooth_imgs)\n",
    "csf_file = lo._get_apthglb(dlayo, \"csf_mask\", dfil)\n",
    "print(csf_file)\n",
    "roi_files = lo._get_apthglb(dlayo, \"aal_roi\", dfil)\n",
    "print(roi_files)\n",
    "aal_dir = lo._get_apthglb(dlayo, \"aal_roi\", dfil)\n",
    "print(aal_dir)\n",
    "aal_files = lo._get_alistof(dlayo, \"aal_roi\", dfil)\n",
    "print(aal_files[:5])\n",
    "signals_dir = lo._get_apth(dlayo, \"signals\", dstate)\n",
    "print(signals_dir)\n",
    "mvt = lo._get_alistof(dlayo, \"mvt6params\", dstate)\n",
    "print(mvt, osp.isfile(mvt[0]))\n",
    "mvt = lo._get_aunique(dlayo, \"mvt6params\", dstate, check_exists=True)\n",
    "print(mvt)"
   ]
  },
  {
   "cell_type": "code",
   "execution_count": 97,
   "metadata": {
    "collapsed": false
   },
   "outputs": [
    {
     "name": "stdout",
     "output_type": "stream",
     "text": [
      "{'runs': u'run', 'subjects': u'sub', 'sessions': u'sess'}\n",
      "{'sess': 2, 'run': 1, 'sub': 1}\n"
     ]
    }
   ],
   "source": [
    "dkeys = lo._get_key_dict(dlayo, entities = [\"subjects\", \"sessions\", \"runs\"])\n",
    "print(dkeys)\n",
    "dstate.update({dkeys[\"runs\"]:1})\n",
    "print(dstate)"
   ]
  },
  {
   "cell_type": "code",
   "execution_count": 141,
   "metadata": {
    "collapsed": false
   },
   "outputs": [
    {
     "name": "stdout",
     "output_type": "stream",
     "text": [
      "{'sess': 2, 'run': 2, 'sub': 1}\n",
      "{'sess': 2, 'run': 5, 'sub': 1}\n",
      "196\n",
      "[u'/home/jb/data/simpace/rename_files/sub01/sess02/preproc/smooth/srasub01_sess02_run02-0159.nii', u'/home/jb/data/simpace/rename_files/sub01/sess02/preproc/smooth/srasub01_sess02_run02-0088.nii', u'/home/jb/data/simpace/rename_files/sub01/sess02/preproc/smooth/srasub01_sess02_run02-0180.nii', u'/home/jb/data/simpace/rename_files/sub01/sess02/preproc/smooth/srasub01_sess02_run02-0164.nii', u'/home/jb/data/simpace/rename_files/sub01/sess02/preproc/smooth/srasub01_sess02_run02-0134.nii']\n",
      "[1, 2, 3, 4]\n",
      "{'sess': 2, 'run': 2, 'sub': 1}\n",
      "0\n"
     ]
    }
   ],
   "source": [
    "nb_runs = 4\n",
    "idx_run = 4\n",
    "print(dstate)\n",
    "ds2 = dstate.copy()\n",
    "ds2.update({dkeys[\"runs\"]:5})\n",
    "print(ds2)\n",
    "\n",
    "run1 = lo._get_alistof(dlayo, \"smoothed\", dstate)\n",
    "print(len(run1))\n",
    "print(run1[:5])\n",
    "print(range(1,nb_runs+1))\n",
    "\n",
    "runs_idx = range(1,nb_runs+1)\n",
    "\n",
    "print(dstate)\n",
    "\n",
    "dstates = [dstate.copy().update({'run':idx}) for idx in range(1,nb_runs+1)]\n",
    "\n",
    "allruns = [lo._get_alistof(dlayo, \"smoothed\", dstate)]\n",
    "\n",
    "#allruns = [lo._get_alistof(dlayo, \"smoothed\", dstate.update({dkeys[\"runs\"]:idx_run})) \n",
    "#                    for idx_run in range(1,nb_runs+1)]\n"
   ]
  },
  {
   "cell_type": "code",
   "execution_count": 167,
   "metadata": {
    "collapsed": false
   },
   "outputs": [
    {
     "name": "stdout",
     "output_type": "stream",
     "text": [
      "[u'/home/jb/data/simpace/rename_files/sub01/sess02/preproc/smooth/srasub01_sess02_run01-0005.nii', u'/home/jb/data/simpace/rename_files/sub01/sess02/preproc/smooth/srasub01_sess02_run01-0006.nii', u'/home/jb/data/simpace/rename_files/sub01/sess02/preproc/smooth/srasub01_sess02_run01-0007.nii', u'/home/jb/data/simpace/rename_files/sub01/sess02/preproc/smooth/srasub01_sess02_run01-0008.nii', u'/home/jb/data/simpace/rename_files/sub01/sess02/preproc/smooth/srasub01_sess02_run01-0009.nii']\n",
      "[u'/home/jb/data/simpace/rename_files/sub01/sess02/preproc/smooth/srasub01_sess02_run02-0005.nii', u'/home/jb/data/simpace/rename_files/sub01/sess02/preproc/smooth/srasub01_sess02_run02-0006.nii', u'/home/jb/data/simpace/rename_files/sub01/sess02/preproc/smooth/srasub01_sess02_run02-0007.nii', u'/home/jb/data/simpace/rename_files/sub01/sess02/preproc/smooth/srasub01_sess02_run02-0008.nii', u'/home/jb/data/simpace/rename_files/sub01/sess02/preproc/smooth/srasub01_sess02_run02-0009.nii']\n"
     ]
    }
   ],
   "source": [
    "runs = []\n",
    "for idx_run in range(1,nb_runs+1):\n",
    "    ds = dstate.copy()\n",
    "    ds.update({dkeys[\"runs\"]:idx_run})\n",
    "    runs += [sorted(lo._get_alistof(dlayo, \"smoothed\", ds))]\n",
    "len(runs[1])\n",
    "print(runs[0][:5])\n",
    "\n",
    "for run in runs: run.sort()\n",
    "print(runs[1][:5])\n"
   ]
  },
  {
   "cell_type": "code",
   "execution_count": 102,
   "metadata": {
    "collapsed": false
   },
   "outputs": [
    {
     "data": {
      "text/plain": [
       "(u'sub*', {})"
      ]
     },
     "execution_count": 102,
     "metadata": {},
     "output_type": "execute_result"
    }
   ],
   "source": [
    "dlayo = p['layout']\n",
    "lo._get_pth(dlayo, \"subjects\")\n",
    "lo._get_glb(dlayo, \"subjects\")"
   ]
  },
  {
   "cell_type": "code",
   "execution_count": 36,
   "metadata": {
    "collapsed": false
   },
   "outputs": [
    {
     "data": {
      "text/plain": [
       "{u'/home/jb/data/simpace/rename_files/sub01': {u'/home/jb/data/simpace/rename_files/sub01/sess01': None,\n",
       "  u'/home/jb/data/simpace/rename_files/sub01/sess02': None,\n",
       "  u'/home/jb/data/simpace/rename_files/sub01/sess03': None,\n",
       "  u'/home/jb/data/simpace/rename_files/sub01/sess04': None,\n",
       "  u'/home/jb/data/simpace/rename_files/sub01/sess05': None,\n",
       "  u'/home/jb/data/simpace/rename_files/sub01/sess06': None,\n",
       "  u'/home/jb/data/simpace/rename_files/sub01/sess07': None,\n",
       "  u'/home/jb/data/simpace/rename_files/sub01/sess08': None,\n",
       "  u'/home/jb/data/simpace/rename_files/sub01/sess09': None,\n",
       "  u'/home/jb/data/simpace/rename_files/sub01/sess10': None,\n",
       "  u'/home/jb/data/simpace/rename_files/sub01/sess11': None,\n",
       "  u'/home/jb/data/simpace/rename_files/sub01/sess12': None,\n",
       "  u'/home/jb/data/simpace/rename_files/sub01/sess13': None}}"
      ]
     },
     "execution_count": 36,
     "metadata": {},
     "output_type": "execute_result"
    }
   ],
   "source": [
    "stc.process_all(dbase)"
   ]
  },
  {
   "cell_type": "code",
   "execution_count": 38,
   "metadata": {
    "collapsed": false
   },
   "outputs": [
    {
     "name": "stdout",
     "output_type": "stream",
     "text": [
      "(u'/home/jb/data/simpace/rename_files/sub{sub:02d}/sess{sess:02d}/preproc/coreg', {u'sess': None, u'sub': None})\n",
      "/home/jb/data/simpace/rename_files/sub01/sess02/preproc/coreg\n"
     ]
    }
   ],
   "source": [
    "print(lo._get_pth(dlo, \"aal_roi\", verbose=False))\n",
    "print(lo._get_apth(dlo, \"aal_roi\", dstate, verbose=False))"
   ]
  },
  {
   "cell_type": "code",
   "execution_count": 40,
   "metadata": {
    "collapsed": false
   },
   "outputs": [
    {
     "data": {
      "text/plain": [
       "{u'base': u'',\n",
       " u'glb': u'sub*',\n",
       " u'hasdirs': True,\n",
       " u'key': u'sub',\n",
       " u'lnk': u'_',\n",
       " u'pre': u'',\n",
       " u'pth': u'',\n",
       " u'val': u'{sub:02d}'}"
      ]
     },
     "execution_count": 40,
     "metadata": {},
     "output_type": "execute_result"
    }
   ],
   "source": [
    "dlayo['subjects']"
   ]
  },
  {
   "cell_type": "code",
   "execution_count": null,
   "metadata": {
    "collapsed": true
   },
   "outputs": [],
   "source": []
  },
  {
   "cell_type": "code",
   "execution_count": null,
   "metadata": {
    "collapsed": true
   },
   "outputs": [],
   "source": []
  }
 ],
 "metadata": {
  "kernelspec": {
   "display_name": "Python 2",
   "language": "python",
   "name": "python2"
  },
  "language_info": {
   "codemirror_mode": {
    "name": "ipython",
    "version": 2
   },
   "file_extension": ".py",
   "mimetype": "text/x-python",
   "name": "python",
   "nbconvert_exporter": "python",
   "pygments_lexer": "ipython2",
   "version": "2.7.6"
  }
 },
 "nbformat": 4,
 "nbformat_minor": 0
}
