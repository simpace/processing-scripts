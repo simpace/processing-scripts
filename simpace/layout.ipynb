{
 "cells": [
  {
   "cell_type": "code",
   "execution_count": 1,
   "metadata": {
    "collapsed": false
   },
   "outputs": [
    {
     "name": "stdout",
     "output_type": "stream",
     "text": [
      "Populating the interactive namespace from numpy and matplotlib\n"
     ]
    }
   ],
   "source": [
    "%pylab inline\n",
    "from __future__ import print_function, division\n",
    "import os \n",
    "import os.path as osp\n",
    "import json\n",
    "import glob as gb"
   ]
  },
  {
   "cell_type": "code",
   "execution_count": 68,
   "metadata": {
    "collapsed": false
   },
   "outputs": [],
   "source": [
    "import layout as lo\n",
    "lo = reload(lo)\n",
    "f = \"./jsons/essai.json\""
   ]
  },
  {
   "cell_type": "code",
   "execution_count": 69,
   "metadata": {
    "collapsed": false
   },
   "outputs": [],
   "source": [
    "dlo = lo.get_layout(f, dbase = '/home/jb/data/simpace/rename_files')"
   ]
  },
  {
   "cell_type": "code",
   "execution_count": 70,
   "metadata": {
    "collapsed": false
   },
   "outputs": [
    {
     "name": "stdout",
     "output_type": "stream",
     "text": [
      "False\n",
      "/home/jb/data/simpace/rename_files/sub{sub:02d}/sess{sess:02d}/preproc/smooth \n",
      " srasub{sub:02d}_sess{sess:02d}_run{run:02d}-????.nii*\n",
      "{u'sess': 2, u'sub': 1}\n",
      "/home/jb/data/simpace/rename_files/sub01/sess02/preproc/smoothsrasub01_sess02_run03-????.nii*\n"
     ]
    }
   ],
   "source": [
    "pdir, ddir = lo._get_pth(dlo, 'smoothed')\n",
    "pfil, dfil = lo._get_glb(dlo, 'smoothed')\n",
    "print(lo._check_dict_full(dfil))\n",
    "dfil['sub'],dfil['sess'],dfil['run'] = 1,2,3\n",
    "\n",
    "print(pdir, \"\\n\", pfil)\n",
    "ddir['sub'],ddir['sess'] = 1,2\n",
    "print(ddir)\n",
    "\n",
    "print((pdir+pfil).format(**dfil))"
   ]
  },
  {
   "cell_type": "code",
   "execution_count": 71,
   "metadata": {
    "collapsed": false
   },
   "outputs": [
    {
     "data": {
      "text/plain": [
       "u'srasub{sub:02d}_sess{sess:02d}_run{run:02d}-????.nii*'"
      ]
     },
     "execution_count": 71,
     "metadata": {},
     "output_type": "execute_result"
    }
   ],
   "source": [
    "pdir, ddir = lo._get_glb(dlo, 'smoothed')\n",
    "pdir"
   ]
  },
  {
   "cell_type": "code",
   "execution_count": 75,
   "metadata": {
    "collapsed": false
   },
   "outputs": [
    {
     "name": "stdout",
     "output_type": "stream",
     "text": [
      "(u'/home/jb/data/simpace/rename_files/sub{sub:02d}/sess{sess:02d}/preproc/coreg', {u'sess': None, u'sub': None})\n",
      "(u'/home/jb/data/simpace/rename_files/sub{sub:02d}/sess{sess:02d}/preproc/coreg', {u'sess': None, u'sub': None})\n"
     ]
    }
   ],
   "source": [
    "print(lo._get_pth(dlo, \"aal_roi\", verbose=False))\n",
    "print(lo._get_pth(dlo, \"aal_roi\", verbose=False))"
   ]
  },
  {
   "cell_type": "code",
   "execution_count": 232,
   "metadata": {
    "collapsed": false
   },
   "outputs": [
    {
     "data": {
      "text/plain": [
       "True"
      ]
     },
     "execution_count": 232,
     "metadata": {},
     "output_type": "execute_result"
    }
   ],
   "source": [
    "'sessions' in (dlo['subjects'].keys())"
   ]
  },
  {
   "cell_type": "code",
   "execution_count": 196,
   "metadata": {
    "collapsed": false
   },
   "outputs": [
    {
     "data": {
      "text/plain": [
       "5"
      ]
     },
     "execution_count": 196,
     "metadata": {},
     "output_type": "execute_result"
    }
   ],
   "source": [
    "len(dlo.keys())"
   ]
  },
  {
   "cell_type": "code",
   "execution_count": 197,
   "metadata": {
    "collapsed": false
   },
   "outputs": [
    {
     "name": "stdout",
     "output_type": "stream",
     "text": [
      "--------------------------------------\n",
      "{u'res': {u'sig': u'signals', u'corr': u'corr_mtx', u'dir': u'results'}, u'base': u'./', u'subjects': {u'key': u'sub', u'sessions': {u'runs': {u'gm_mask': {u'pext': u'.nii*', u'glb': u'gm_func_res.nii', u'base': u'gm_in_func_res', u'link': u'../coreg/rgm_anatres.nii', u'key': u'', u'dir': u''}, u'base': u'preproc', u'wm_mask': {u'pext': u'.nii*', u'glb': u'wm_func_res.nii', u'base': u'wm_in_func_res', u'link': u'../coreg/rwm_anatres.nii', u'key': u'', u'dir': u''}, u'aal_roi': {u'glb': u'rraal_*.nii', u'base': u'coreg', u'key': u'', u'dir': u'', u'pext': u'.nii*'}, u'csf_mask': {u'pext': u'.nii*', u'glb': u'csf_func_res.nii', u'base': u'csf_in_func_res', u'link': u'../coreg/rcsf_anatres.nii', u'key': u'', u'dir': u''}, u'smoothed': {u'glb': u'srasub??_sess??_run??-????.nii*', u'base': u'smooth', u'key': u'run', u'dir': u'', u'pext': u'.nii*'}, u'dir': u''}, u'key': u'sess', u'glb': u'sess*', u'base': u'', u'lnk': u'_', u'dir': u'sess{:02d}'}, u'glb': u'sub*', u'base': u'', u'lnk': u'_', u'dir': u'sub{:02d}'}, u'csf': {u'@dir': u'@dir@runs@csf', u'roi_mask': u'csf_map_final.nii*', u'dir': u'csf_mask'}, u'out': {u'signals': {u'signals+': u'signal_sess{:02d}_run{:02d}_', u'dir': u'extracted_signals', u'f_signals+': u'filtered_signal_sess_{:02d}_run{:02d}_'}, u'sess_mask': {u'roi_mask': u'sess_mask.nii', u'dir': u'sess_mask'}}}\n",
      "[u'res', u'base', u'subjects', u'csf', u'out'] subjects\n",
      "<--- found\n"
     ]
    },
    {
     "data": {
      "text/plain": [
       "{u'base': u'',\n",
       " u'dir': u'sub{:02d}',\n",
       " u'glb': u'sub*',\n",
       " u'key': u'sub',\n",
       " u'lnk': u'_',\n",
       " u'sessions': {u'base': u'',\n",
       "  u'dir': u'sess{:02d}',\n",
       "  u'glb': u'sess*',\n",
       "  u'key': u'sess',\n",
       "  u'lnk': u'_',\n",
       "  u'runs': {u'aal_roi': {u'base': u'coreg',\n",
       "    u'dir': u'',\n",
       "    u'glb': u'rraal_*.nii',\n",
       "    u'key': u'',\n",
       "    u'pext': u'.nii*'},\n",
       "   u'base': u'preproc',\n",
       "   u'csf_mask': {u'base': u'csf_in_func_res',\n",
       "    u'dir': u'',\n",
       "    u'glb': u'csf_func_res.nii',\n",
       "    u'key': u'',\n",
       "    u'link': u'../coreg/rcsf_anatres.nii',\n",
       "    u'pext': u'.nii*'},\n",
       "   u'dir': u'',\n",
       "   u'gm_mask': {u'base': u'gm_in_func_res',\n",
       "    u'dir': u'',\n",
       "    u'glb': u'gm_func_res.nii',\n",
       "    u'key': u'',\n",
       "    u'link': u'../coreg/rgm_anatres.nii',\n",
       "    u'pext': u'.nii*'},\n",
       "   u'smoothed': {u'base': u'smooth',\n",
       "    u'dir': u'',\n",
       "    u'glb': u'srasub??_sess??_run??-????.nii*',\n",
       "    u'key': u'run',\n",
       "    u'pext': u'.nii*'},\n",
       "   u'wm_mask': {u'base': u'wm_in_func_res',\n",
       "    u'dir': u'',\n",
       "    u'glb': u'wm_func_res.nii',\n",
       "    u'key': u'',\n",
       "    u'link': u'../coreg/rwm_anatres.nii',\n",
       "    u'pext': u'.nii*'}}}}"
      ]
     },
     "execution_count": 197,
     "metadata": {},
     "output_type": "execute_result"
    }
   ],
   "source": [
    "lo.get_(dlo, 'subjects')"
   ]
  },
  {
   "cell_type": "code",
   "execution_count": null,
   "metadata": {
    "collapsed": true
   },
   "outputs": [],
   "source": []
  },
  {
   "cell_type": "code",
   "execution_count": null,
   "metadata": {
    "collapsed": true
   },
   "outputs": [],
   "source": []
  }
 ],
 "metadata": {
  "kernelspec": {
   "display_name": "Python 2",
   "language": "python",
   "name": "python2"
  },
  "language_info": {
   "codemirror_mode": {
    "name": "ipython",
    "version": 2
   },
   "file_extension": ".py",
   "mimetype": "text/x-python",
   "name": "python",
   "nbconvert_exporter": "python",
   "pygments_lexer": "ipython2",
   "version": "2.7.6"
  }
 },
 "nbformat": 4,
 "nbformat_minor": 0
}
