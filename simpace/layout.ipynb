{
 "cells": [
  {
   "cell_type": "code",
   "execution_count": 5,
   "metadata": {
    "collapsed": false
   },
   "outputs": [
    {
     "name": "stdout",
     "output_type": "stream",
     "text": [
      "Populating the interactive namespace from numpy and matplotlib\n"
     ]
    }
   ],
   "source": [
    "%pylab inline\n",
    "from __future__ import print_function, division\n",
    "import os\n",
    "import os.path as osp\n",
    "import glob as gb\n",
    "import json\n",
    "import numpy as np\n",
    "import argparse"
   ]
  },
  {
   "cell_type": "code",
   "execution_count": 22,
   "metadata": {
    "collapsed": false
   },
   "outputs": [
    {
     "name": "stdout",
     "output_type": "stream",
     "text": [
      "/home/jb/code/simpace/simpace\n"
     ]
    }
   ],
   "source": [
    "print(osp.abspath('.'))\n",
    "import layout as lo\n",
    "import smpce_data_to_corr as stc\n",
    "stc = reload(stc)\n",
    "lo  = reload(lo)\n",
    "\n",
    "dbase = '/home/jb/data/simpace/rename_files'\n",
    "params = stc.get_params(dbase)\n",
    "dlayo = params['layout']"
   ]
  },
  {
   "cell_type": "code",
   "execution_count": 30,
   "metadata": {
    "collapsed": false
   },
   "outputs": [
    {
     "name": "stdout",
     "output_type": "stream",
     "text": [
      "/home/jb/data/simpace/rename_files/sub01/sess01/preproc/localWMreg\n",
      "sess*_preproc_localWMreg_run*.nii.gz*\n",
      "[u'/home/jb/data/simpace/rename_files/sub01/sess01/preproc/localWMreg/sess01_preproc_localWMreg_run01.nii.gz']\n"
     ]
    },
    {
     "data": {
      "text/plain": [
       "[u'/home/jb/data/simpace/rename_files/sub01/sess01/preproc/localWMreg/sess01_preproc_localWMreg_run01.nii.gz']"
      ]
     },
     "execution_count": 30,
     "metadata": {},
     "output_type": "execute_result"
    }
   ],
   "source": [
    "params = stc.get_params(dbase, addjson='WMr')\n",
    "dlayo = params['layout']\n",
    "ds={'sub':1, 'sess':1, 'run':1}\n",
    "print(lo._get_apth(dlayo, \"smoothed\", ds))\n",
    "print(lo._get_glb(dlayo, \"smoothed\", glob=True))\n",
    "print(lo._get_alistof(dlayo, \"smoothed\", ds))\n",
    "gb.glob(lo._get_alistof(dlayo, \"smoothed\", ds)[0])"
   ]
  },
  {
   "cell_type": "markdown",
   "metadata": {},
   "source": [
    "### Test get_glb"
   ]
  },
  {
   "cell_type": "code",
   "execution_count": null,
   "metadata": {
    "collapsed": true
   },
   "outputs": [],
   "source": [
    "print(lo._get_key_dict(dlayo, entities = [\"subjects\", \"sessions\", \"runs\"]))\n",
    "\n",
    "# list of directory for sessions\n",
    "dstate = {}\n",
    "dstate['sub'],dstate['sess'],dstate['run'] = 1,None,None\n",
    "idxs, dirs = lo._get_alistof(dlayo, \"sessions\", dstate, return_idxs=True)\n",
    "print(idxs, \"\\n\".join(dirs))\n",
    "\n",
    "# list of directory for for first run\n",
    "glob=False\n",
    "pth, fdict = lo._get_glb(dlayo, 'subjects', glob=glob)\n",
    "print(\"\\n\", pth, fdict)\n",
    "pth, fdict = lo._get_glb(dlayo, 'sessions', glob=glob)\n",
    "print(\"\\n\", pth,fdict)\n",
    "pth, fdict = lo._get_glb(dlayo, 'smoothed', glob=glob)\n",
    "print(\"\\n\", pth, fdict)\n",
    "\n",
    "\n",
    "# get \n",
    "glob=True\n",
    "fdict = None\n",
    "pth = lo._get_glb(dlayo, 'subjects', glob=glob)\n",
    "print(\"\\n\", pth, fdict)\n",
    "pth = lo._get_glb(dlayo, 'sessions', glob=glob)\n",
    "print(\"\\n\", pth, fdict)\n",
    "pth = lo._get_glb(dlayo, 'smoothed', glob=glob)\n",
    "print(\"\\n\", pth, fdict)\n",
    "pth = lo._get_glb(dlayo, 'mvt6params', glob=glob)\n",
    "print(\"\\n\", pth, fdict)\n",
    "pth = lo._get_glb(dlayo, 'wm_mask', glob=glob)\n",
    "print(\"\\n\", pth, fdict)\n"
   ]
  },
  {
   "cell_type": "markdown",
   "metadata": {},
   "source": [
    "###  Test get_pthglb glob = False"
   ]
  },
  {
   "cell_type": "code",
   "execution_count": null,
   "metadata": {
    "collapsed": false
   },
   "outputs": [],
   "source": [
    "glob=False\n",
    "pth, fdict = lo._get_pthglb(dlayo, 'subjects', glob=glob)\n",
    "print(\"\\n\", pth, fdict)\n",
    "pth, fdict = lo._get_pthglb(dlayo, 'sessions', glob=glob)\n",
    "print(\"\\n\", pth,fdict)\n",
    "pth, fdict = lo._get_pthglb(dlayo, 'smoothed', glob=glob)\n",
    "print(\"\\n\", pth, fdict)\n",
    "pth, fdict = lo._get_pthglb(dlayo, 'mvt6params', glob=glob)\n",
    "print(\"\\n\", pth, fdict)\n",
    "pth, fdict = lo._get_pthglb(dlayo, 'wm_mask', glob=glob)\n",
    "print(\"\\n\", pth, fdict)"
   ]
  },
  {
   "cell_type": "code",
   "execution_count": null,
   "metadata": {
    "collapsed": false
   },
   "outputs": [],
   "source": [
    "glob=True\n",
    "fdict = None\n",
    "pth = lo._get_pthglb(dlayo, 'subjects', glob=glob)\n",
    "print(\"\\n\", pth, fdict)\n",
    "pth = lo._get_pthglb(dlayo, 'sessions', glob=glob)\n",
    "print(\"\\n\", pth, fdict)\n",
    "pth = lo._get_pthglb(dlayo, 'smoothed', glob=glob)\n",
    "print(\"\\n\", pth, fdict)\n",
    "pth = lo._get_pthglb(dlayo, 'mvt6params', glob=glob)\n",
    "print(\"\\n\", pth, fdict)\n",
    "pth = lo._get_pthglb(dlayo, 'wm_mask', glob=glob)\n",
    "print(\"\\n\", pth, fdict)"
   ]
  },
  {
   "cell_type": "markdown",
   "metadata": {},
   "source": [
    "###  Test get_pthglb glob = True"
   ]
  },
  {
   "cell_type": "code",
   "execution_count": null,
   "metadata": {
    "collapsed": false,
    "scrolled": true
   },
   "outputs": [],
   "source": [
    "pdir, ddir = lo._get_pth(dlayo, 'subjects')\n",
    "print(pdir,ddir)\n",
    "pdir, ddir = lo._get_pth(dlayo, 'sessions')\n",
    "print(pdir,ddir)\n",
    "pdir = lo._get_pth(dlayo, 'runs', glob=True)\n",
    "pdir = lo._get_pth(dlayo, 'sessions', glob=True)\n",
    "print(pdir)\n",
    "\n",
    "pdir, ddir = lo._get_pthglb(dlayo, 'sessions')\n",
    "print(pdir,ddir)\n",
    "# print(\"aaa\".format(None))\n"
   ]
  },
  {
   "cell_type": "markdown",
   "metadata": {},
   "source": [
    "### test get_apthglb"
   ]
  },
  {
   "cell_type": "code",
   "execution_count": null,
   "metadata": {
    "collapsed": false
   },
   "outputs": [],
   "source": [
    "dstate['sub'],dstate['sess'],dstate['run'] = 1,2,3\n",
    "print(dbase)\n",
    "\n",
    "print(dstate)\n",
    "runs_dir = lo._get_apth(dlayo, \"runs\", dstate)\n",
    "print(runs_dir)\n",
    "dir_smooth_imgs = lo._get_apth(dlayo, \"smoothed\", dstate)\n",
    "print(dir_smooth_imgs)\n",
    "csf_file = lo._get_apthglb(dlayo, \"csf_mask\", dstate)\n",
    "print(csf_file)\n",
    "roi_files = lo._get_apthglb(dlayo, \"aal_roi\", dstate)\n",
    "print(roi_files)\n",
    "aal_dir = lo._get_apth(dlayo, \"aal_roi\", dstate)\n",
    "print(aal_dir)\n"
   ]
  },
  {
   "cell_type": "markdown",
   "metadata": {},
   "source": [
    "### test get_alistof"
   ]
  },
  {
   "cell_type": "code",
   "execution_count": null,
   "metadata": {
    "collapsed": false,
    "scrolled": true
   },
   "outputs": [],
   "source": [
    "print(dstate)\n",
    "\n",
    "aal_files = lo._get_alistof(dlayo, \"aal_roi\", dstate)\n",
    "aal_files.sort()\n",
    "print(\"aal_files\\n\",aal_files[:5])\n",
    "print(len(aal_files))\n",
    "\n",
    "signals_dir = lo._get_apth(dlayo, \"signals\", dstate)\n",
    "print(\"signals_dir\\n\",signals_dir)\n",
    "\n",
    "mvt = lo._get_alistof(dlayo, \"mvt6params\", dstate)\n",
    "print(\"mvt\\n\",mvt, osp.isfile(mvt[0]))\n",
    "\n",
    "mvt = lo._get_aunique(dlayo, \"mvt6params\", dstate, check_exists=True)\n",
    "print(mvt)\n",
    "\n",
    "csf_mask = lo._get_aunique(dlayo, \"csf_mask\", dstate)\n",
    "print(csf_mask)\n",
    "\n",
    "dir_mask = lo._get_apth(dlayo, \"sess_mask\", dstate)\n",
    "print(dir_mask)\n",
    "\n",
    "file_mask = lo._get_apthglb(dlayo, \"sess_mask\", dstate)\n",
    "print(file_mask)\n",
    "\n",
    "conditions = lo._get_aunique(dlayo, \"conditions\", dstate)\n",
    "print(conditions)\n",
    "\n",
    "conds = lo._get_apthglb(dlayo, \"conditions\", dstate, glob=True)\n",
    "print(conds)"
   ]
  },
  {
   "cell_type": "markdown",
   "metadata": {},
   "source": [
    "### test  _get_key_dict"
   ]
  },
  {
   "cell_type": "code",
   "execution_count": null,
   "metadata": {
    "collapsed": false
   },
   "outputs": [],
   "source": [
    "dkeys = lo._get_key_dict(dlayo, entities = [\"subjects\", \"sessions\", \"runs\"])\n",
    "print(dkeys)\n",
    "dstate.update({dkeys[\"runs\"]:1})\n",
    "print(dstate)"
   ]
  },
  {
   "cell_type": "markdown",
   "metadata": {},
   "source": [
    "## get list of scans"
   ]
  },
  {
   "cell_type": "code",
   "execution_count": null,
   "metadata": {
    "collapsed": false
   },
   "outputs": [],
   "source": [
    "nb_runs = 4\n",
    "idx_run = 4\n",
    "print(dstate)\n",
    "runs_idx = range(1,nb_runs+1)\n",
    "idx = 1\n",
    "tmp_state = lo.merge_two_dicts(dstate, {dkeys[\"runs\"]:idx})\n",
    "print(tmp_state)\n",
    "tmp =  lo._get_apth(dlayo, \"smoothed\", tmp_state,  verbose=True)\n",
    "print(tmp)\n",
    "\n",
    "tmp =  lo._get_apthglb(dlayo, \"smoothed\", tmp_state,  verbose=True)\n",
    "print(tmp)\n",
    "\n",
    "tmp =  lo._get_apthglb(dlayo, \"subjects\", tmp_state,  verbose=True)\n",
    "print(tmp)\n",
    "\n",
    "tmp =  lo._get_alistof(dlayo, \"sessions\", {'sub':1},  verbose=True)\n",
    "print(tmp)\n",
    "\n",
    "tmp =  lo._get_alistof(dlayo, \"subjects\", {},  verbose=True)\n",
    "print(tmp)\n",
    "\n",
    "run0 = lo._get_alistof(dlayo, \"smoothed\", tmp_state)\n",
    "apthglb = lo._get_apthglb(dlayo, \"smoothed\", tmp_state)\n",
    "\n",
    "#print('run0', run0, apthglb)\n",
    "# print(run0[:10])\n",
    "\n",
    "print(runs_idx)\n",
    "allruns = [lo._get_alistof(dlayo, \"smoothed\", \n",
    "                            lo.merge_two_dicts(dstate, {dkeys[\"runs\"]:idx})) \n",
    "                                                            for idx in runs_idx]\n",
    "\n",
    "print([len(allruns[i]) for i in range(nb_runs)])\n",
    "#print(allruns[0].sort()[:10])\n",
    "#allruns = [lo._get_alistof(dlayo, \"smoothed\", dstate.update({dkeys[\"runs\"]:idx_run})) \n",
    "#                    for idx_run in range(1,nb_runs+1)]\n"
   ]
  },
  {
   "cell_type": "markdown",
   "metadata": {},
   "source": [
    "### test  _get_alistof - get scans"
   ]
  },
  {
   "cell_type": "code",
   "execution_count": null,
   "metadata": {
    "collapsed": false
   },
   "outputs": [],
   "source": [
    "runs = []\n",
    "for idx_run in range(1,nb_runs+1):\n",
    "    ds = dstate.copy()\n",
    "    ds.update({dkeys[\"runs\"]:idx_run})\n",
    "    files = lo._get_alistof(dlayo, \"smoothed\", ds)\n",
    "    runs.append(sorted(files))\n",
    "print(len(runs), len(runs[1]))\n",
    "for run in runs: run.sort()\n",
    "\n",
    "print(runs[0][:5])\n",
    "print(runs[1][:5])\n"
   ]
  },
  {
   "cell_type": "code",
   "execution_count": null,
   "metadata": {
    "collapsed": false
   },
   "outputs": [],
   "source": [
    "# dlayo = p['layout']\n",
    "print(lo._get_pth(dlayo, \"subjects\"))\n",
    "print(lo._get_glb(dlayo, \"subjects\"))"
   ]
  },
  {
   "cell_type": "code",
   "execution_count": null,
   "metadata": {
    "collapsed": false
   },
   "outputs": [],
   "source": [
    "print(dbase)\n",
    "params = stc.get_params(dbase)\n",
    "dlayo = params['layout']\n",
    "print(dlayo)"
   ]
  },
  {
   "cell_type": "code",
   "execution_count": null,
   "metadata": {
    "collapsed": false
   },
   "outputs": [],
   "source": [
    "lo._get_alistof(dlayo, \"subjects\", dstate, return_idxs=True)"
   ]
  },
  {
   "cell_type": "markdown",
   "metadata": {},
   "source": [
    "# Launching processings"
   ]
  },
  {
   "cell_type": "code",
   "execution_count": null,
   "metadata": {
    "collapsed": false
   },
   "outputs": [],
   "source": [
    "stc = reload(stc)\n",
    "# stc.process_all(dbase, params=params, verbose=True)"
   ]
  },
  {
   "cell_type": "code",
   "execution_count": null,
   "metadata": {
    "collapsed": false
   },
   "outputs": [],
   "source": []
  },
  {
   "cell_type": "code",
   "execution_count": null,
   "metadata": {
    "collapsed": false
   },
   "outputs": [],
   "source": [
    "dlayo['base']"
   ]
  },
  {
   "cell_type": "code",
   "execution_count": null,
   "metadata": {
    "collapsed": false
   },
   "outputs": [],
   "source": [
    "p = u'/home/jb/data/simpace/rename_files/sub*/sess*/preproc/gm_in_func_res/gm_func_res.nii'\n",
    "q = gb.glob(p)\n",
    "q.sort()\n",
    "osp.dirname(q[0])\n",
    "osp.dirname(q[3])"
   ]
  },
  {
   "cell_type": "code",
   "execution_count": null,
   "metadata": {
    "collapsed": false
   },
   "outputs": [],
   "source": [
    "print(p,\"\\n\")\n",
    "print(q[0],\"\\n\")\n",
    "\n",
    "print(osp.relpath(q[0],p))\n",
    "print(osp.relpath(p,q[0]))"
   ]
  },
  {
   "cell_type": "code",
   "execution_count": null,
   "metadata": {
    "collapsed": false
   },
   "outputs": [],
   "source": [
    "\n",
    "p = lo._get_pth(dlayo, \"gm_mask\", glob=True)\n",
    "print(\"p= \", p, \"\\n\")\n",
    "# p = u'/home/jb/data/simpace/rename_files/sub*/sess*/preproc/gm_in_func_res/gm_func_res.nii'\n",
    "p = u'/home/jb/data/simpace/rename_files/sub*/sess*/preproc/wm_in_func_res/wm_func_res.nii'\n",
    "\n",
    "q = gb.glob(p)\n",
    "print(\"q= \", q, \"\\n\")\n",
    "\n",
    "\n",
    "for x in q:\n",
    "    src = osp.join(osp.dirname(osp.dirname(x)), 'coreg', 'rwm_anatres.nii')\n",
    "    #print(src, osp.isfile(src))\n",
    "    if osp.islink(x):\n",
    "        try:\n",
    "            os.unlink(x)\n",
    "        except OSError as e:\n",
    "            if e.errno != errno.ENOENT:\n",
    "                raise\n",
    "    x_ = osp.dirname(x)\n",
    "    rellink = osp.relpath(src, x_)\n",
    "    print(rellink)\n",
    "    print(x_)\n",
    "    os.symlink(rellink, x)\n",
    "    "
   ]
  },
  {
   "cell_type": "code",
   "execution_count": null,
   "metadata": {
    "collapsed": false
   },
   "outputs": [],
   "source": [
    "print(dbase)"
   ]
  },
  {
   "cell_type": "code",
   "execution_count": null,
   "metadata": {
    "collapsed": false
   },
   "outputs": [],
   "source": [
    "params = stc.get_params(dbase)"
   ]
  },
  {
   "cell_type": "code",
   "execution_count": null,
   "metadata": {
    "collapsed": false,
    "scrolled": true
   },
   "outputs": [],
   "source": [
    "stc.do_one_sess(dstate, dkeys, params)"
   ]
  },
  {
   "cell_type": "code",
   "execution_count": null,
   "metadata": {
    "collapsed": false
   },
   "outputs": [],
   "source": [
    "to_glb = lo._get_pthglb(dlayo, 'csf_mask', glob=True, verbose=True)\n",
    "print(to_glb)\n",
    "to_glb = to_glb.replace('csf_func_res', '*')\n",
    "print('glob:', to_glb)\n",
    "a = gb.glob(to_glb)\n",
    "for f in a: print(f)\n",
    "    \n",
    "#to do : make these file links to the target contained in these links but + gz"
   ]
  },
  {
   "cell_type": "code",
   "execution_count": null,
   "metadata": {
    "collapsed": false
   },
   "outputs": [],
   "source": [
    "a = u'/home/jb/data/simpace/rename_files/sub*/sess*/preproc/csf_in_func_res/csf_func_res.nii'\n",
    "print(type(a))\n",
    "a.replace('csf_func_res.nii','*')\n",
    "print(a)"
   ]
  },
  {
   "cell_type": "code",
   "execution_count": null,
   "metadata": {
    "collapsed": true
   },
   "outputs": [],
   "source": []
  },
  {
   "cell_type": "code",
   "execution_count": null,
   "metadata": {
    "collapsed": false
   },
   "outputs": [],
   "source": [
    "p = lo._get_pth(dlayo, \"csf_mask\", glob=True)\n",
    "print(p)\n",
    "p = lo._get_glb(dlayo, \"csf_mask\", glob=True)\n",
    "print(p)\n",
    "p = lo._get_pthglb(dlayo, \"csf_mask\", glob=True)\n",
    "print(p)\n",
    "\n",
    "p = u'/home/jb/data/simpace/rename_files/sub*/sess*/preproc/gm_in_func_res/gm_func_res.nii'\n",
    "q = gb.glob(p)\n"
   ]
  },
  {
   "cell_type": "code",
   "execution_count": null,
   "metadata": {
    "collapsed": false
   },
   "outputs": [],
   "source": [
    "def redo_links(entity, reldest, verbose=True, dryrun=True):\n",
    "    \"\"\"\n",
    "    entity should have glb be the broken simlink\n",
    "    reldest is where to find the target from this simlink\n",
    "    \n",
    "    example:\n",
    "        entity \n",
    "        reldest = '../../coreg/rwm_anatres.nii'\n",
    "\n",
    "    \"\"\"\n",
    "    def get_target(fromslink, reldest):\n",
    "        reldest = reldest.split('/')\n",
    "        print(reldest)\n",
    "        target = fromslink\n",
    "        for rel in reldest:\n",
    "            if rel == '..':\n",
    "                target = osp.dirname(target)\n",
    "            else: \n",
    "                target = osp.join(target, rel)\n",
    "        return target\n",
    "    \n",
    "    def try_unlink(slink, verbose=False):\n",
    "        if osp.islink(slink):\n",
    "            try:\n",
    "                os.unlink(slink)\n",
    "                if verbose: print('unlink: {}'.format(slink))\n",
    "            except OSError as e:\n",
    "                if e.errno != errno.ENOENT:\n",
    "                    raise\n",
    "    #- \n",
    "    for slink in gb.glob(lo._get_pthglb(dlayo, entity, glob=True)):\n",
    "        assert osp.islink(slink) == True\n",
    "        target = get_target(slink, reldest)\n",
    "        if verbose: print(\"target: {}\".format(target))\n",
    "        if dryrun:\n",
    "            print('attempt to unlink {}'.format(slink))\n",
    "        else:\n",
    "            try_unlink(slink)\n",
    "        # find how to go from slink to target\n",
    "        relpath = osp.relpath(target, slink)\n",
    "        if verbose: print(\"relpath is {}\".format(relpath))\n",
    "        try:\n",
    "            if dryrun:\n",
    "                print(\"simlink to pth {} the simlink {} \".format(relpath, slink))\n",
    "            else: \n",
    "                os.symlink(relpath, slink)\n",
    "        except:\n",
    "            print(relpath, slink)\n",
    "            raise\n",
    "            \n",
    "            \n",
    "def redo_links2(entity, reldest, verbose=True, dryrun=True):\n",
    "    \"\"\"\n",
    "    entity should have glb be the broken simlink\n",
    "    reldest is where to find the target from this simlink\n",
    "    \n",
    "    example:\n",
    "        entity \n",
    "        reldest = '../../coreg/rwm_anatres.nii'\n",
    "\n",
    "    \"\"\"\n",
    "    def try_unlink(slink, verbose=False):\n",
    "        if osp.islink(slink):\n",
    "            try:\n",
    "                os.unlink(slink)\n",
    "                if verbose: print('unlink: {}'.format(slink))\n",
    "            except OSError as e:\n",
    "                if e.errno != errno.ENOENT:\n",
    "                    raise\n",
    "    #- \n",
    "    for slink in gb.glob(lo._get_pthglb(dlayo, entity, glob=True)):\n",
    "        assert osp.islink(slink) == True\n",
    "        if dryrun:\n",
    "            print('attempt to unlink {}'.format(slink))\n",
    "        else:\n",
    "            try_unlink(slink)\n",
    "        try:\n",
    "            if dryrun:\n",
    "                print(\"simlink to pth {} the simlink {} \".format(reldest, slink))\n",
    "            else: \n",
    "                os.symlink(reldest, slink)\n",
    "        except:\n",
    "            print(\"error symlink :\", reldest, slink)\n",
    "            raise\n",
    "        \n",
    "        \n"
   ]
  },
  {
   "cell_type": "code",
   "execution_count": null,
   "metadata": {
    "collapsed": false
   },
   "outputs": [],
   "source": [
    "# redo_links2(\"csf_mask\", \"../coreg/rcsf_anatres.nii\", dryrun=False)"
   ]
  },
  {
   "cell_type": "code",
   "execution_count": null,
   "metadata": {
    "collapsed": false
   },
   "outputs": [],
   "source": [
    "gb.glob(lo._get_pthglb(dlayo, \"csf_mask\", glob=True))\n",
    "\n",
    "for x in gb.glob(lo._get_pthglb(dlayo, \"csf_mask\", glob=True)):\n",
    "    print(x, osp.islink(x))"
   ]
  },
  {
   "cell_type": "code",
   "execution_count": null,
   "metadata": {
    "collapsed": true
   },
   "outputs": [],
   "source": []
  }
 ],
 "metadata": {
  "kernelspec": {
   "display_name": "Python 2",
   "language": "python",
   "name": "python2"
  },
  "language_info": {
   "codemirror_mode": {
    "name": "ipython",
    "version": 2
   },
   "file_extension": ".py",
   "mimetype": "text/x-python",
   "name": "python",
   "nbconvert_exporter": "python",
   "pygments_lexer": "ipython2",
   "version": "2.7.6"
  }
 },
 "nbformat": 4,
 "nbformat_minor": 0
}
