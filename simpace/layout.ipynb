{
 "cells": [
  {
   "cell_type": "code",
   "execution_count": 1,
   "metadata": {
    "collapsed": false
   },
   "outputs": [
    {
     "name": "stdout",
     "output_type": "stream",
     "text": [
      "Populating the interactive namespace from numpy and matplotlib\n"
     ]
    }
   ],
   "source": [
    "%pylab inline\n",
    "from __future__ import print_function, division\n",
    "import os\n",
    "import os.path as osp\n",
    "import glob as gb\n",
    "import json\n",
    "import numpy as np\n",
    "import argparse"
   ]
  },
  {
   "cell_type": "code",
   "execution_count": 2,
   "metadata": {
    "collapsed": false
   },
   "outputs": [
    {
     "name": "stdout",
     "output_type": "stream",
     "text": [
      "/home/jb/code/simpace/simpace\n"
     ]
    }
   ],
   "source": [
    "print(osp.abspath('.'))\n",
    "import layout as lo\n",
    "import smpce_data_to_corr as stc\n",
    "stc = reload(stc)\n",
    "lo  = reload(lo)\n",
    "f = \"./jsons/essai.json\""
   ]
  },
  {
   "cell_type": "code",
   "execution_count": 3,
   "metadata": {
    "collapsed": false
   },
   "outputs": [
    {
     "name": "stdout",
     "output_type": "stream",
     "text": [
      "{'runs': u'run', 'subjects': u'sub', 'sessions': u'sess'}\n",
      "[1, 2, 3, 4, 5, 6, 7, 8, 9, 10, 11, 12, 13] [u'/home/jb/data/simpace/rename_files/sub01/sess01', u'/home/jb/data/simpace/rename_files/sub01/sess02', u'/home/jb/data/simpace/rename_files/sub01/sess03', u'/home/jb/data/simpace/rename_files/sub01/sess04', u'/home/jb/data/simpace/rename_files/sub01/sess05', u'/home/jb/data/simpace/rename_files/sub01/sess06', u'/home/jb/data/simpace/rename_files/sub01/sess07', u'/home/jb/data/simpace/rename_files/sub01/sess08', u'/home/jb/data/simpace/rename_files/sub01/sess09', u'/home/jb/data/simpace/rename_files/sub01/sess10', u'/home/jb/data/simpace/rename_files/sub01/sess11', u'/home/jb/data/simpace/rename_files/sub01/sess12', u'/home/jb/data/simpace/rename_files/sub01/sess13']\n"
     ]
    }
   ],
   "source": [
    "dlayo = lo.get_layout(f, dbase = '/home/jb/data/simpace/rename_files')\n",
    "print(lo._get_key_dict(dlayo, entities = [\"subjects\", \"sessions\", \"runs\"]))\n",
    "\n",
    "dstate = {}\n",
    "dstate['sub'],dstate['sess'],dstate['run'] = 1,2,3\n",
    "\n",
    "idxs, dirs = lo._get_alistof(dlayo, \"sessions\", dstate, return_idxs=True)\n",
    "print(idxs, dirs)"
   ]
  },
  {
   "cell_type": "code",
   "execution_count": 4,
   "metadata": {
    "collapsed": false
   },
   "outputs": [
    {
     "name": "stdout",
     "output_type": "stream",
     "text": [
      "/home/jb/data/simpace/rename_files/ {}\n",
      "/home/jb/data/simpace/rename_files/sub{sub:02d}/sess* {u'sub': None}\n",
      "aaa\n"
     ]
    }
   ],
   "source": [
    "pdir, ddir = lo._get_pth(dlayo, 'subjects')\n",
    "print(pdir,ddir)\n",
    "pdir, ddir = lo._get_pthglb(dlayo, 'sessions')\n",
    "print(pdir,ddir)\n",
    "print(\"aaa\".format(None))\n"
   ]
  },
  {
   "cell_type": "code",
   "execution_count": 5,
   "metadata": {
    "collapsed": false,
    "scrolled": true
   },
   "outputs": [
    {
     "name": "stdout",
     "output_type": "stream",
     "text": [
      "/home/jb/data/simpace/rename_files\n",
      "{'sess': 2, 'run': 3, 'sub': 1}\n",
      "/home/jb/data/simpace/rename_files/sub01/sess02/preproc\n",
      "/home/jb/data/simpace/rename_files/sub01/sess02/preproc/smooth\n",
      "/home/jb/data/simpace/rename_files/sub01/sess02/preproc/csf_in_func_res/csf_func_res_final.nii.gz\n",
      "/home/jb/data/simpace/rename_files/sub01/sess02/preproc/coreg/rraal_*.nii\n",
      "/home/jb/data/simpace/rename_files/sub01/sess02/preproc/coreg/rraal_*.nii\n",
      "[u'/home/jb/data/simpace/rename_files/sub01/sess02/preproc/coreg/rraal_SupraMarginal_L_____.nii', u'/home/jb/data/simpace/rename_files/sub01/sess02/preproc/coreg/rraal_Cerebelum_6_L_______.nii', u'/home/jb/data/simpace/rename_files/sub01/sess02/preproc/coreg/rraal_Vermis_3____________.nii', u'/home/jb/data/simpace/rename_files/sub01/sess02/preproc/coreg/rraal_Rectus_R____________.nii', u'/home/jb/data/simpace/rename_files/sub01/sess02/preproc/coreg/rraal_Putamen_L___________.nii']\n",
      "/home/jb/data/simpace/rename_files/sub01/sess02/preproc/extracted_signals\n",
      "[u'/home/jb/data/simpace/rename_files/sub01/sess02/preproc/realign/rp_asub01_sess02_run01-0005.txt'] True\n"
     ]
    },
    {
     "ename": "ValueError",
     "evalue": " key 'mvt6params' is suppose to yield exactly one file\n and is : [u'/home/jb/data/simpace/rename_files/sub01/sess07/preproc/realign/rp_asub01_sess07_run01-0005.txt', u'/home/jb/data/simpace/rename_files/sub01/sess01/preproc/realign/rp_asub01_sess01_run01-0005.txt', u'/home/jb/data/simpace/rename_files/sub01/sess08/preproc/realign/rp_asub01_sess08_run01-0005.txt', u'/home/jb/data/simpace/rename_files/sub01/sess11/preproc/realign/rp_asub01_sess11_run01-0005.txt', u'/home/jb/data/simpace/rename_files/sub01/sess02/preproc/realign/rp_asub01_sess02_run01-0005.txt', u'/home/jb/data/simpace/rename_files/sub01/sess12/preproc/realign/rp_asub01_sess12_run01-0005.txt', u'/home/jb/data/simpace/rename_files/sub01/sess06/preproc/realign/rp_asub01_sess06_run01-0005.txt', u'/home/jb/data/simpace/rename_files/sub01/sess10/preproc/realign/rp_asub01_sess10_run01-0005.txt', u'/home/jb/data/simpace/rename_files/sub01/sess13/preproc/realign/rp_asub01_sess13_run01-0005.txt', u'/home/jb/data/simpace/rename_files/sub01/sess05/preproc/realign/rp_asub01_sess05_run01-0005.txt', u'/home/jb/data/simpace/rename_files/sub01/sess09/preproc/realign/rp_asub01_sess09_run01-0005.txt', u'/home/jb/data/simpace/rename_files/sub01/sess04/preproc/realign/rp_asub01_sess04_run01-0005.txt', u'/home/jb/data/simpace/rename_files/sub01/sess03/preproc/realign/rp_asub01_sess03_run01-0005.txt']\n with apthglb on pattern /home/jb/data/simpace/rename_files/sub*/sess*/preproc/realign/rp_asub*_sess*_run01-000?.txt",
     "output_type": "error",
     "traceback": [
      "\u001b[1;31m---------------------------------------------------------------------------\u001b[0m",
      "\u001b[1;31mValueError\u001b[0m                                Traceback (most recent call last)",
      "\u001b[1;32m<ipython-input-5-ded9683cd310>\u001b[0m in \u001b[0;36m<module>\u001b[1;34m()\u001b[0m\n\u001b[0;32m     21\u001b[0m \u001b[0mmvt\u001b[0m \u001b[1;33m=\u001b[0m \u001b[0mlo\u001b[0m\u001b[1;33m.\u001b[0m\u001b[0m_get_alistof\u001b[0m\u001b[1;33m(\u001b[0m\u001b[0mdlayo\u001b[0m\u001b[1;33m,\u001b[0m \u001b[1;34m\"mvt6params\"\u001b[0m\u001b[1;33m,\u001b[0m \u001b[0mdstate\u001b[0m\u001b[1;33m)\u001b[0m\u001b[1;33m\u001b[0m\u001b[0m\n\u001b[0;32m     22\u001b[0m \u001b[1;32mprint\u001b[0m\u001b[1;33m(\u001b[0m\u001b[0mmvt\u001b[0m\u001b[1;33m,\u001b[0m \u001b[0mosp\u001b[0m\u001b[1;33m.\u001b[0m\u001b[0misfile\u001b[0m\u001b[1;33m(\u001b[0m\u001b[0mmvt\u001b[0m\u001b[1;33m[\u001b[0m\u001b[1;36m0\u001b[0m\u001b[1;33m]\u001b[0m\u001b[1;33m)\u001b[0m\u001b[1;33m)\u001b[0m\u001b[1;33m\u001b[0m\u001b[0m\n\u001b[1;32m---> 23\u001b[1;33m \u001b[0mmvt\u001b[0m \u001b[1;33m=\u001b[0m \u001b[0mlo\u001b[0m\u001b[1;33m.\u001b[0m\u001b[0m_get_aunique\u001b[0m\u001b[1;33m(\u001b[0m\u001b[0mdlayo\u001b[0m\u001b[1;33m,\u001b[0m \u001b[1;34m\"mvt6params\"\u001b[0m\u001b[1;33m,\u001b[0m \u001b[0mdstate\u001b[0m\u001b[1;33m,\u001b[0m \u001b[0mcheck_exists\u001b[0m\u001b[1;33m=\u001b[0m\u001b[0mTrue\u001b[0m\u001b[1;33m)\u001b[0m\u001b[1;33m\u001b[0m\u001b[0m\n\u001b[0m\u001b[0;32m     24\u001b[0m \u001b[1;32mprint\u001b[0m\u001b[1;33m(\u001b[0m\u001b[0mmvt\u001b[0m\u001b[1;33m)\u001b[0m\u001b[1;33m\u001b[0m\u001b[0m\n\u001b[0;32m     25\u001b[0m \u001b[0msess_mask\u001b[0m \u001b[1;33m=\u001b[0m \u001b[0mlo\u001b[0m\u001b[1;33m.\u001b[0m\u001b[0m_get_apthglb\u001b[0m\u001b[1;33m(\u001b[0m\u001b[0mdlayo\u001b[0m\u001b[1;33m,\u001b[0m \u001b[1;34m\"sess_mask\"\u001b[0m\u001b[1;33m,\u001b[0m \u001b[0mdstate\u001b[0m\u001b[1;33m)\u001b[0m\u001b[1;33m\u001b[0m\u001b[0m\n",
      "\u001b[1;32m/home/jb/code/simpace/simpace/layout.pyc\u001b[0m in \u001b[0;36m_get_aunique\u001b[1;34m(dlayo, key, dstate, check_exists)\u001b[0m\n\u001b[0;32m    249\u001b[0m         raise ValueError(\" key '{}' is suppose to yield exactly one file\".format(key) +\n\u001b[0;32m    250\u001b[0m                          \u001b[1;34m\"\\n and is : {}\"\u001b[0m\u001b[1;33m.\u001b[0m\u001b[0mformat\u001b[0m\u001b[1;33m(\u001b[0m\u001b[0mfiles\u001b[0m\u001b[1;33m)\u001b[0m \u001b[1;33m+\u001b[0m\u001b[1;33m\u001b[0m\u001b[0m\n\u001b[1;32m--> 251\u001b[1;33m                          \"\\n with apthglb on pattern {}\".format(apthglb))\n\u001b[0m\u001b[0;32m    252\u001b[0m     \u001b[1;32melse\u001b[0m\u001b[1;33m:\u001b[0m\u001b[1;33m\u001b[0m\u001b[0m\n\u001b[0;32m    253\u001b[0m         \u001b[1;32mif\u001b[0m \u001b[0mcheck_exists\u001b[0m\u001b[1;33m:\u001b[0m\u001b[1;33m\u001b[0m\u001b[0m\n",
      "\u001b[1;31mValueError\u001b[0m:  key 'mvt6params' is suppose to yield exactly one file\n and is : [u'/home/jb/data/simpace/rename_files/sub01/sess07/preproc/realign/rp_asub01_sess07_run01-0005.txt', u'/home/jb/data/simpace/rename_files/sub01/sess01/preproc/realign/rp_asub01_sess01_run01-0005.txt', u'/home/jb/data/simpace/rename_files/sub01/sess08/preproc/realign/rp_asub01_sess08_run01-0005.txt', u'/home/jb/data/simpace/rename_files/sub01/sess11/preproc/realign/rp_asub01_sess11_run01-0005.txt', u'/home/jb/data/simpace/rename_files/sub01/sess02/preproc/realign/rp_asub01_sess02_run01-0005.txt', u'/home/jb/data/simpace/rename_files/sub01/sess12/preproc/realign/rp_asub01_sess12_run01-0005.txt', u'/home/jb/data/simpace/rename_files/sub01/sess06/preproc/realign/rp_asub01_sess06_run01-0005.txt', u'/home/jb/data/simpace/rename_files/sub01/sess10/preproc/realign/rp_asub01_sess10_run01-0005.txt', u'/home/jb/data/simpace/rename_files/sub01/sess13/preproc/realign/rp_asub01_sess13_run01-0005.txt', u'/home/jb/data/simpace/rename_files/sub01/sess05/preproc/realign/rp_asub01_sess05_run01-0005.txt', u'/home/jb/data/simpace/rename_files/sub01/sess09/preproc/realign/rp_asub01_sess09_run01-0005.txt', u'/home/jb/data/simpace/rename_files/sub01/sess04/preproc/realign/rp_asub01_sess04_run01-0005.txt', u'/home/jb/data/simpace/rename_files/sub01/sess03/preproc/realign/rp_asub01_sess03_run01-0005.txt']\n with apthglb on pattern /home/jb/data/simpace/rename_files/sub*/sess*/preproc/realign/rp_asub*_sess*_run01-000?.txt"
     ]
    }
   ],
   "source": [
    "dbase = osp.join(osp.expanduser('~'),'data/simpace/rename_files')\n",
    "print(dbase)\n",
    "p = stc.get_params(dbase, verbose=False)\n",
    "#p['layout']['subjects']\n",
    "stc.process_all(dbase)\n",
    "print(dstate)\n",
    "runs_dir = lo._get_apth(dlayo, \"runs\", dstate)\n",
    "print(runs_dir)\n",
    "dir_smooth_imgs = lo._get_apth(dlayo, \"smoothed\", dstate)\n",
    "print(dir_smooth_imgs)\n",
    "csf_file = lo._get_apthglb(dlayo, \"csf_mask\", dstate)\n",
    "print(csf_file)\n",
    "roi_files = lo._get_apthglb(dlayo, \"aal_roi\", dstate)\n",
    "print(roi_files)\n",
    "aal_dir = lo._get_apthglb(dlayo, \"aal_roi\", dstate)\n",
    "print(aal_dir)\n",
    "aal_files = lo._get_alistof(dlayo, \"aal_roi\", dstate)\n",
    "print(aal_files[:5])\n",
    "signals_dir = lo._get_apth(dlayo, \"signals\", dstate)\n",
    "print(signals_dir)\n",
    "mvt = lo._get_alistof(dlayo, \"mvt6params\", dstate)\n",
    "print(mvt, osp.isfile(mvt[0]))\n",
    "mvt = lo._get_aunique(dlayo, \"mvt6params\", dstate, check_exists=True)\n",
    "print(mvt)\n",
    "sess_mask = lo._get_apthglb(dlayo, \"sess_mask\", dstate)\n",
    "dir_mask = lo._get_apth(dlayo, \"sess_mask\", dstate)\n",
    "print(sess_mask, dir_mask)\n",
    "conditions = lo._get_aunique(dlayo, \"conditions\", dstate)\n",
    "print(conditions)\n",
    "conds = lo._get_apthglb(dlayo, \"conditions\", dstate)\n",
    "print(conds)"
   ]
  },
  {
   "cell_type": "code",
   "execution_count": 6,
   "metadata": {
    "collapsed": false
   },
   "outputs": [
    {
     "name": "stdout",
     "output_type": "stream",
     "text": [
      "{'runs': u'run', 'subjects': u'sub', 'sessions': u'sess'}\n",
      "{'sess': 2, 'run': 1, 'sub': 1}\n"
     ]
    }
   ],
   "source": [
    "dkeys = lo._get_key_dict(dlayo, entities = [\"subjects\", \"sessions\", \"runs\"])\n",
    "print(dkeys)\n",
    "dstate.update({dkeys[\"runs\"]:1})\n",
    "print(dstate)"
   ]
  },
  {
   "cell_type": "code",
   "execution_count": 7,
   "metadata": {
    "collapsed": false
   },
   "outputs": [
    {
     "name": "stdout",
     "output_type": "stream",
     "text": [
      "{'sess': 2, 'run': 1, 'sub': 1}\n"
     ]
    },
    {
     "data": {
      "text/plain": [
       "4"
      ]
     },
     "execution_count": 7,
     "metadata": {},
     "output_type": "execute_result"
    }
   ],
   "source": [
    "nb_runs = 4\n",
    "idx_run = 4\n",
    "print(dstate)\n",
    "runs_idx = range(1,nb_runs+1)\n",
    "\n",
    "allruns = [ lo._get_alistof(dlayo, \"smoothed\", \n",
    "                            lo.merge_two_dicts(dstate, {dkeys[\"runs\"]:idx})) \n",
    "                                                            for idx in runs_idx]\n",
    "len(allruns)\n",
    "#allruns = [lo._get_alistof(dlayo, \"smoothed\", dstate.update({dkeys[\"runs\"]:idx_run})) \n",
    "#                    for idx_run in range(1,nb_runs+1)]\n"
   ]
  },
  {
   "cell_type": "code",
   "execution_count": null,
   "metadata": {
    "collapsed": false
   },
   "outputs": [],
   "source": [
    "runs = []\n",
    "for idx_run in range(1,nb_runs+1):\n",
    "    ds = dstate.copy()\n",
    "    ds.update({dkeys[\"runs\"]:idx_run})\n",
    "    files = lo._get_alistof(dlayo, \"smoothed\", ds)\n",
    "    runs.append(sorted(files))\n",
    "print(len(runs), len(runs[1]))\n",
    "print(runs[0][:5])\n",
    "\n",
    "for run in runs: run.sort()\n",
    "print(runs[1][:5])\n"
   ]
  },
  {
   "cell_type": "code",
   "execution_count": null,
   "metadata": {
    "collapsed": false
   },
   "outputs": [],
   "source": [
    "# dlayo = p['layout']\n",
    "lo._get_pth(dlayo, \"subjects\")\n",
    "lo._get_glb(dlayo, \"subjects\")"
   ]
  },
  {
   "cell_type": "code",
   "execution_count": null,
   "metadata": {
    "collapsed": false
   },
   "outputs": [],
   "source": [
    "stc.process_all(dbase)"
   ]
  },
  {
   "cell_type": "code",
   "execution_count": null,
   "metadata": {
    "collapsed": false
   },
   "outputs": [],
   "source": [
    "print(lo._get_pth(dlayo, \"aal_roi\", verbose=False))\n",
    "print(lo._get_apth(dlayo, \"aal_roi\", dstate, verbose=False))"
   ]
  },
  {
   "cell_type": "code",
   "execution_count": null,
   "metadata": {
    "collapsed": false
   },
   "outputs": [],
   "source": [
    "dlayo['base']"
   ]
  },
  {
   "cell_type": "code",
   "execution_count": null,
   "metadata": {
    "collapsed": false
   },
   "outputs": [],
   "source": [
    "p = u'/home/jb/data/simpace/rename_files/sub*/sess*/preproc/gm_in_func_res/gm_func_res.nii'\n",
    "q = gb.glob(p)\n",
    "q.sort()\n",
    "osp.dirname(q[0])\n",
    "osp.dirname(q[3])"
   ]
  },
  {
   "cell_type": "code",
   "execution_count": null,
   "metadata": {
    "collapsed": false
   },
   "outputs": [],
   "source": [
    "print(p,\"\\n\")\n",
    "print(q[0],\"\\n\")\n",
    "\n",
    "print(osp.relpath(q[0],p))\n",
    "print(osp.relpath(p,q[0]))"
   ]
  },
  {
   "cell_type": "code",
   "execution_count": null,
   "metadata": {
    "collapsed": false
   },
   "outputs": [],
   "source": [
    "\n",
    "p = lo._get_pth(dlayo, \"gm_mask\", glob=True)\n",
    "print(\"p= \", p, \"\\n\")\n",
    "# p = u'/home/jb/data/simpace/rename_files/sub*/sess*/preproc/gm_in_func_res/gm_func_res.nii'\n",
    "p = u'/home/jb/data/simpace/rename_files/sub*/sess*/preproc/wm_in_func_res/wm_func_res.nii'\n",
    "\n",
    "q = gb.glob(p)\n",
    "print(\"q= \", q, \"\\n\")\n",
    "\n",
    "\n",
    "for x in q:\n",
    "    src = osp.join(osp.dirname(osp.dirname(x)), 'coreg', 'rwm_anatres.nii')\n",
    "    #print(src, osp.isfile(src))\n",
    "    if osp.islink(x):\n",
    "        try:\n",
    "            os.unlink(x)\n",
    "        except OSError as e:\n",
    "            if e.errno != errno.ENOENT:\n",
    "                raise\n",
    "    x_ = osp.dirname(x)\n",
    "    rellink = osp.relpath(src, x_)\n",
    "    print(rellink)\n",
    "    print(x_)\n",
    "    os.symlink(rellink, x)\n",
    "    "
   ]
  },
  {
   "cell_type": "code",
   "execution_count": null,
   "metadata": {
    "collapsed": false
   },
   "outputs": [],
   "source": [
    "print(dbase)"
   ]
  },
  {
   "cell_type": "code",
   "execution_count": 17,
   "metadata": {
    "collapsed": false
   },
   "outputs": [],
   "source": [
    "params = stc.get_params(dbase)"
   ]
  },
  {
   "cell_type": "code",
   "execution_count": 18,
   "metadata": {
    "collapsed": false,
    "scrolled": true
   },
   "outputs": [
    {
     "ename": "ValueError",
     "evalue": " file/dir: '/home/jb/data/simpace/rename_files/sub01/sess02/preproc/csf_in_func_res/csf_func_res.nii' does not exist\n with glob on pattern /home/jb/data/simpace/rename_files/sub01/sess02/preproc/csf_in_func_res/csf_func_res.nii",
     "output_type": "error",
     "traceback": [
      "\u001b[1;31m---------------------------------------------------------------------------\u001b[0m",
      "\u001b[1;31mValueError\u001b[0m                                Traceback (most recent call last)",
      "\u001b[1;32m<ipython-input-18-86c4b324ede7>\u001b[0m in \u001b[0;36m<module>\u001b[1;34m()\u001b[0m\n\u001b[1;32m----> 1\u001b[1;33m \u001b[0mstc\u001b[0m\u001b[1;33m.\u001b[0m\u001b[0mdo_one_sess\u001b[0m\u001b[1;33m(\u001b[0m\u001b[0mdstate\u001b[0m\u001b[1;33m,\u001b[0m \u001b[0mdkeys\u001b[0m\u001b[1;33m,\u001b[0m \u001b[0mparams\u001b[0m\u001b[1;33m)\u001b[0m\u001b[1;33m\u001b[0m\u001b[0m\n\u001b[0m",
      "\u001b[1;32m/home/jb/code/simpace/simpace/smpce_data_to_corr.pyc\u001b[0m in \u001b[0;36mdo_one_sess\u001b[1;34m(dstate, dkeys, params, verbose)\u001b[0m\n\u001b[0;32m    123\u001b[0m     \u001b[0mptr\u001b[0m\u001b[1;33m[\u001b[0m\u001b[1;34m'signals_dir'\u001b[0m\u001b[1;33m]\u001b[0m \u001b[1;33m=\u001b[0m \u001b[0mlo\u001b[0m\u001b[1;33m.\u001b[0m\u001b[0m_get_apth\u001b[0m\u001b[1;33m(\u001b[0m\u001b[0mdlayo\u001b[0m\u001b[1;33m,\u001b[0m \u001b[1;34m\"signals\"\u001b[0m\u001b[1;33m,\u001b[0m \u001b[0mdstate\u001b[0m\u001b[1;33m)\u001b[0m\u001b[1;33m\u001b[0m\u001b[0m\n\u001b[0;32m    124\u001b[0m     \u001b[0mptr\u001b[0m\u001b[1;33m[\u001b[0m\u001b[1;34m'mvtfile'\u001b[0m\u001b[1;33m]\u001b[0m \u001b[1;33m=\u001b[0m \u001b[0mlo\u001b[0m\u001b[1;33m.\u001b[0m\u001b[0m_get_aunique\u001b[0m\u001b[1;33m(\u001b[0m\u001b[0mdlayo\u001b[0m\u001b[1;33m,\u001b[0m \u001b[1;34m\"mvt6params\"\u001b[0m\u001b[1;33m,\u001b[0m \u001b[0mdstate\u001b[0m\u001b[1;33m)\u001b[0m\u001b[1;33m\u001b[0m\u001b[0m\n\u001b[1;32m--> 125\u001b[1;33m     \u001b[0mptr\u001b[0m\u001b[1;33m[\u001b[0m\u001b[1;34m'csf_file'\u001b[0m\u001b[1;33m]\u001b[0m \u001b[1;33m=\u001b[0m \u001b[0mlo\u001b[0m\u001b[1;33m.\u001b[0m\u001b[0m_get_aunique\u001b[0m\u001b[1;33m(\u001b[0m\u001b[0mdlayo\u001b[0m\u001b[1;33m,\u001b[0m \u001b[1;34m\"csf_mask\"\u001b[0m\u001b[1;33m,\u001b[0m \u001b[0mdstate\u001b[0m\u001b[1;33m)\u001b[0m\u001b[1;33m\u001b[0m\u001b[0m\n\u001b[0m\u001b[0;32m    126\u001b[0m     \u001b[0mptr\u001b[0m\u001b[1;33m[\u001b[0m\u001b[1;34m'wm_file'\u001b[0m\u001b[1;33m]\u001b[0m \u001b[1;33m=\u001b[0m \u001b[0mlo\u001b[0m\u001b[1;33m.\u001b[0m\u001b[0m_get_aunique\u001b[0m\u001b[1;33m(\u001b[0m\u001b[0mdlayo\u001b[0m\u001b[1;33m,\u001b[0m \u001b[1;34m\"wm_mask\"\u001b[0m\u001b[1;33m,\u001b[0m \u001b[0mdstate\u001b[0m\u001b[1;33m)\u001b[0m\u001b[1;33m\u001b[0m\u001b[0m\n\u001b[0;32m    127\u001b[0m     \u001b[1;31m# things that we want the names to create them later\u001b[0m\u001b[1;33m\u001b[0m\u001b[1;33m\u001b[0m\u001b[0m\n",
      "\u001b[1;32m/home/jb/code/simpace/simpace/layout.pyc\u001b[0m in \u001b[0;36m_get_aunique\u001b[1;34m(dlayo, key, dstate, check_exists)\u001b[0m\n\u001b[0;32m    250\u001b[0m             \u001b[1;32mif\u001b[0m \u001b[1;32mnot\u001b[0m \u001b[0mosp\u001b[0m\u001b[1;33m.\u001b[0m\u001b[0misfile\u001b[0m\u001b[1;33m(\u001b[0m\u001b[0mfiles\u001b[0m\u001b[1;33m[\u001b[0m\u001b[1;36m0\u001b[0m\u001b[1;33m]\u001b[0m\u001b[1;33m)\u001b[0m\u001b[1;33m:\u001b[0m\u001b[1;33m\u001b[0m\u001b[0m\n\u001b[0;32m    251\u001b[0m                 raise ValueError(\" file/dir: '{}' does not exist\".format(files[0]) +\n\u001b[1;32m--> 252\u001b[1;33m                                  \"\\n with glob on pattern {}\".format(apthglb))\n\u001b[0m\u001b[0;32m    253\u001b[0m     \u001b[1;32mreturn\u001b[0m \u001b[0mfiles\u001b[0m\u001b[1;33m[\u001b[0m\u001b[1;36m0\u001b[0m\u001b[1;33m]\u001b[0m\u001b[1;33m\u001b[0m\u001b[0m\n\u001b[0;32m    254\u001b[0m \u001b[1;33m\u001b[0m\u001b[0m\n",
      "\u001b[1;31mValueError\u001b[0m:  file/dir: '/home/jb/data/simpace/rename_files/sub01/sess02/preproc/csf_in_func_res/csf_func_res.nii' does not exist\n with glob on pattern /home/jb/data/simpace/rename_files/sub01/sess02/preproc/csf_in_func_res/csf_func_res.nii"
     ]
    }
   ],
   "source": [
    "stc.do_one_sess(dstate, dkeys, params)"
   ]
  },
  {
   "cell_type": "code",
   "execution_count": 19,
   "metadata": {
    "collapsed": false
   },
   "outputs": [
    {
     "name": "stdout",
     "output_type": "stream",
     "text": [
      "/home/jb/data/simpace/rename_files/sub*/sess*/preproc/csf_in_func_res/csf_func_res_final.nii.gz\n",
      "glob: /home/jb/data/simpace/rename_files/sub*/sess*/preproc/csf_in_func_res/*_final.nii.gz\n",
      "/home/jb/data/simpace/rename_files/sub01/sess07/preproc/csf_in_func_res/csf_func_res_final.nii.gz\n",
      "/home/jb/data/simpace/rename_files/sub01/sess01/preproc/csf_in_func_res/csf_func_res_final.nii.gz\n",
      "/home/jb/data/simpace/rename_files/sub01/sess08/preproc/csf_in_func_res/csf_func_res_final.nii.gz\n",
      "/home/jb/data/simpace/rename_files/sub01/sess11/preproc/csf_in_func_res/csf_func_res_final.nii.gz\n",
      "/home/jb/data/simpace/rename_files/sub01/sess02/preproc/csf_in_func_res/csf_func_res_final.nii.gz\n",
      "/home/jb/data/simpace/rename_files/sub01/sess12/preproc/csf_in_func_res/csf_func_res_final.nii.gz\n",
      "/home/jb/data/simpace/rename_files/sub01/sess06/preproc/csf_in_func_res/csf_func_res_final.nii.gz\n",
      "/home/jb/data/simpace/rename_files/sub01/sess10/preproc/csf_in_func_res/csf_func_res_final.nii.gz\n",
      "/home/jb/data/simpace/rename_files/sub01/sess13/preproc/csf_in_func_res/csf_func_res_final.nii.gz\n",
      "/home/jb/data/simpace/rename_files/sub01/sess05/preproc/csf_in_func_res/csf_func_res_final.nii.gz\n",
      "/home/jb/data/simpace/rename_files/sub01/sess09/preproc/csf_in_func_res/csf_func_res_final.nii.gz\n",
      "/home/jb/data/simpace/rename_files/sub01/sess04/preproc/csf_in_func_res/csf_func_res_final.nii.gz\n",
      "/home/jb/data/simpace/rename_files/sub01/sess03/preproc/csf_in_func_res/csf_func_res_final.nii.gz\n"
     ]
    }
   ],
   "source": [
    "to_glb = lo._get_pthglb(dlayo, 'csf_mask', glob=True, verbose=True)\n",
    "print(to_glb)\n",
    "to_glb = to_glb.replace('csf_func_res', '*')\n",
    "print('glob:', to_glb)\n",
    "a = gb.glob(to_glb)\n",
    "for f in a: print(f)\n",
    "    \n",
    "#to do : make these file links to the target contained in these links but + gz"
   ]
  },
  {
   "cell_type": "code",
   "execution_count": 20,
   "metadata": {
    "collapsed": false
   },
   "outputs": [
    {
     "name": "stdout",
     "output_type": "stream",
     "text": [
      "<type 'unicode'>\n",
      "/home/jb/data/simpace/rename_files/sub*/sess*/preproc/csf_in_func_res/csf_func_res.nii\n"
     ]
    }
   ],
   "source": [
    "a = u'/home/jb/data/simpace/rename_files/sub*/sess*/preproc/csf_in_func_res/csf_func_res.nii'\n",
    "print(type(a))\n",
    "a.replace('csf_func_res.nii','*')\n",
    "print(a)"
   ]
  },
  {
   "cell_type": "code",
   "execution_count": null,
   "metadata": {
    "collapsed": true
   },
   "outputs": [],
   "source": []
  },
  {
   "cell_type": "code",
   "execution_count": 21,
   "metadata": {
    "collapsed": false
   },
   "outputs": [
    {
     "name": "stdout",
     "output_type": "stream",
     "text": [
      "/home/jb/data/simpace/rename_files/sub*/sess*/preproc/csf_in_func_res\n",
      "csf_func_res_final.nii.gz\n",
      "/home/jb/data/simpace/rename_files/sub*/sess*/preproc/csf_in_func_res/csf_func_res_final.nii.gz\n"
     ]
    }
   ],
   "source": [
    "p = lo._get_pth(dlayo, \"csf_mask\", glob=True)\n",
    "print(p)\n",
    "p = lo._get_glb(dlayo, \"csf_mask\", glob=True)\n",
    "print(p)\n",
    "p = lo._get_pthglb(dlayo, \"csf_mask\", glob=True)\n",
    "print(p)\n",
    "\n",
    "p = u'/home/jb/data/simpace/rename_files/sub*/sess*/preproc/gm_in_func_res/gm_func_res.nii'\n",
    "q = gb.glob(p)\n"
   ]
  },
  {
   "cell_type": "code",
   "execution_count": 23,
   "metadata": {
    "collapsed": false
   },
   "outputs": [],
   "source": [
    "def redo_links(entity, reldest, verbose=True, dryrun=True):\n",
    "    \"\"\"\n",
    "    entity should have glb be the broken simlink\n",
    "    reldest is where to find the target from this simlink\n",
    "    \n",
    "    example:\n",
    "        entity \n",
    "        reldest = '../../coreg/rwm_anatres.nii'\n",
    "\n",
    "    \"\"\"\n",
    "    def get_target(fromslink, reldest):\n",
    "        reldest = reldest.split('/')\n",
    "        print(reldest)\n",
    "        target = fromslink\n",
    "        for rel in reldest:\n",
    "            if rel == '..':\n",
    "                target = osp.dirname(target)\n",
    "            else: \n",
    "                target = osp.join(target, rel)\n",
    "        return target\n",
    "    \n",
    "    def try_unlink(slink, verbose=False):\n",
    "        if osp.islink(slink):\n",
    "            try:\n",
    "                os.unlink(slink)\n",
    "                if verbose: print('unlink: {}'.format(slink))\n",
    "            except OSError as e:\n",
    "                if e.errno != errno.ENOENT:\n",
    "                    raise\n",
    "    #- \n",
    "    for slink in gb.glob(lo._get_pthglb(dlayo, entity, glob=True)):\n",
    "        assert osp.islink(slink) == True\n",
    "        target = get_target(slink, reldest)\n",
    "        if verbose: print(\"target: {}\".format(target))\n",
    "        if dryrun:\n",
    "            print('attempt to unlink {}'.format(slink))\n",
    "        else:\n",
    "            try_unlink(slink)\n",
    "        # find how to go from slink to target\n",
    "        relpath = osp.relpath(target, slink)\n",
    "        if verbose: print(\"relpath is {}\".format(relpath))\n",
    "        try:\n",
    "            if dryrun:\n",
    "                print(\"simlink to pth {} the simlink {} \".format(relpath, slink))\n",
    "            else: \n",
    "                os.symlink(relpath, slink)\n",
    "        except:\n",
    "            print(relpath, slink)\n",
    "            raise\n",
    "            \n",
    "            \n",
    "def redo_links2(entity, reldest, verbose=True, dryrun=True):\n",
    "    \"\"\"\n",
    "    entity should have glb be the broken simlink\n",
    "    reldest is where to find the target from this simlink\n",
    "    \n",
    "    example:\n",
    "        entity \n",
    "        reldest = '../../coreg/rwm_anatres.nii'\n",
    "\n",
    "    \"\"\"\n",
    "    def try_unlink(slink, verbose=False):\n",
    "        if osp.islink(slink):\n",
    "            try:\n",
    "                os.unlink(slink)\n",
    "                if verbose: print('unlink: {}'.format(slink))\n",
    "            except OSError as e:\n",
    "                if e.errno != errno.ENOENT:\n",
    "                    raise\n",
    "    #- \n",
    "    for slink in gb.glob(lo._get_pthglb(dlayo, entity, glob=True)):\n",
    "        assert osp.islink(slink) == True\n",
    "        if dryrun:\n",
    "            print('attempt to unlink {}'.format(slink))\n",
    "        else:\n",
    "            try_unlink(slink)\n",
    "        try:\n",
    "            if dryrun:\n",
    "                print(\"simlink to pth {} the simlink {} \".format(reldest, slink))\n",
    "            else: \n",
    "                os.symlink(reldest, slink)\n",
    "        except:\n",
    "            print(\"error symlink :\", reldest, slink)\n",
    "            raise\n",
    "        \n",
    "        \n"
   ]
  },
  {
   "cell_type": "code",
   "execution_count": 24,
   "metadata": {
    "collapsed": false
   },
   "outputs": [],
   "source": [
    "# redo_links2(\"csf_mask\", \"../coreg/rcsf_anatres.nii\", dryrun=False)"
   ]
  },
  {
   "cell_type": "code",
   "execution_count": 25,
   "metadata": {
    "collapsed": false
   },
   "outputs": [
    {
     "name": "stdout",
     "output_type": "stream",
     "text": [
      "/home/jb/data/simpace/rename_files/sub01/sess07/preproc/csf_in_func_res/csf_func_res_final.nii.gz True\n",
      "/home/jb/data/simpace/rename_files/sub01/sess01/preproc/csf_in_func_res/csf_func_res_final.nii.gz True\n",
      "/home/jb/data/simpace/rename_files/sub01/sess08/preproc/csf_in_func_res/csf_func_res_final.nii.gz True\n",
      "/home/jb/data/simpace/rename_files/sub01/sess11/preproc/csf_in_func_res/csf_func_res_final.nii.gz True\n",
      "/home/jb/data/simpace/rename_files/sub01/sess02/preproc/csf_in_func_res/csf_func_res_final.nii.gz True\n",
      "/home/jb/data/simpace/rename_files/sub01/sess12/preproc/csf_in_func_res/csf_func_res_final.nii.gz True\n",
      "/home/jb/data/simpace/rename_files/sub01/sess06/preproc/csf_in_func_res/csf_func_res_final.nii.gz True\n",
      "/home/jb/data/simpace/rename_files/sub01/sess10/preproc/csf_in_func_res/csf_func_res_final.nii.gz True\n",
      "/home/jb/data/simpace/rename_files/sub01/sess13/preproc/csf_in_func_res/csf_func_res_final.nii.gz True\n",
      "/home/jb/data/simpace/rename_files/sub01/sess05/preproc/csf_in_func_res/csf_func_res_final.nii.gz True\n",
      "/home/jb/data/simpace/rename_files/sub01/sess09/preproc/csf_in_func_res/csf_func_res_final.nii.gz True\n",
      "/home/jb/data/simpace/rename_files/sub01/sess04/preproc/csf_in_func_res/csf_func_res_final.nii.gz True\n",
      "/home/jb/data/simpace/rename_files/sub01/sess03/preproc/csf_in_func_res/csf_func_res_final.nii.gz True\n"
     ]
    }
   ],
   "source": [
    "gb.glob(lo._get_pthglb(dlayo, \"csf_mask\", glob=True))\n",
    "\n",
    "for x in gb.glob(lo._get_pthglb(dlayo, \"csf_mask\", glob=True)):\n",
    "    print(x, osp.islink(x))"
   ]
  },
  {
   "cell_type": "code",
   "execution_count": null,
   "metadata": {
    "collapsed": true
   },
   "outputs": [],
   "source": []
  }
 ],
 "metadata": {
  "kernelspec": {
   "display_name": "Python 2",
   "language": "python",
   "name": "python2"
  },
  "language_info": {
   "codemirror_mode": {
    "name": "ipython",
    "version": 2
   },
   "file_extension": ".py",
   "mimetype": "text/x-python",
   "name": "python",
   "nbconvert_exporter": "python",
   "pygments_lexer": "ipython2",
   "version": "2.7.6"
  }
 },
 "nbformat": 4,
 "nbformat_minor": 0
}
