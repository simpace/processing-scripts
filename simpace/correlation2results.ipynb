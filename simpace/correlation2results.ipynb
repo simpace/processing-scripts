{
 "cells": [
  {
   "cell_type": "markdown",
   "metadata": {},
   "source": [
    "# Analyzing the correlation matrices"
   ]
  },
  {
   "cell_type": "markdown",
   "metadata": {},
   "source": [
    "## Reading the data"
   ]
  },
  {
   "cell_type": "code",
   "execution_count": null,
   "metadata": {
    "collapsed": false
   },
   "outputs": [],
   "source": [
    "%pylab inline\n",
    "from __future__ import print_function, division\n",
    "\n",
    "import os\n",
    "import os.path as osp\n",
    "import matplotlib.pyplot as plt\n",
    "\n",
    "from warnings import warn\n",
    "import datetime, time\n",
    "import glob as gb\n",
    "from six import string_types\n",
    "import argparse\n",
    "import json\n",
    "import time\n",
    "\n",
    "\n",
    "import numpy as np\n",
    "import scipy.linalg as lin\n",
    "import scipy.stats as sst\n",
    "\n",
    "import nibabel as nib\n",
    "import nipy\n",
    "from nilearn._utils import concat_niimgs\n"
   ]
  },
  {
   "cell_type": "code",
   "execution_count": null,
   "metadata": {
    "collapsed": false
   },
   "outputs": [],
   "source": [
    "import importlib\n",
    "from smpce_data_to_corr import get_params\n",
    "import utils._utils as ucr\n",
    "import utils.setup_filenames as suf\n",
    "import correlation2results as c2r\n",
    "#import tests.test_smpce_data_to_corr as tts\n",
    "\n",
    "ucr = reload(ucr)\n",
    "suf = reload(suf)\n",
    "c2r = reload(c2r)"
   ]
  },
  {
   "cell_type": "code",
   "execution_count": null,
   "metadata": {
    "collapsed": false
   },
   "outputs": [],
   "source": [
    "param_dir = osp.abspath('.')\n",
    "assert param_dir == '/home/jb/code/simpace/simpace'\n",
    "# or assert on neuro\n",
    "params = get_params(param_dir)\n",
    "basedir = '/home/jb/data/simpace/data/rename_files'"
   ]
  },
  {
   "cell_type": "code",
   "execution_count": null,
   "metadata": {
    "collapsed": false
   },
   "outputs": [],
   "source": [
    "djdata = params['data']\n",
    "djlayo = params['layout']\n",
    "\n",
    "nb_sess = params['data']['nb_sess']\n",
    "nb_sub = params['data']['nb_sub']\n",
    "nb_run = params['data']['nb_run']\n",
    "print(nb_sub, nb_sess, nb_run)"
   ]
  },
  {
   "cell_type": "markdown",
   "metadata": {},
   "source": [
    "### from signals to correlations and save"
   ]
  },
  {
   "cell_type": "code",
   "execution_count": null,
   "metadata": {
    "collapsed": false
   },
   "outputs": [],
   "source": [
    "def _get_common_labels(conds, idx0=0):\n",
    "    \n",
    "    cond0 = conds.keys()[idx0]\n",
    "    print(cond0)\n",
    "    nb_sess = len(conds[cond0])\n",
    "    \n",
    "    lsets = []\n",
    "    for sess in range(nb_sess):\n",
    "        lsets.append( set((np.load(conds[cond0][sess]))['labels_sig']) )\n",
    "\n",
    "    return set.intersection(*lsets)"
   ]
  },
  {
   "cell_type": "code",
   "execution_count": null,
   "metadata": {
    "collapsed": false
   },
   "outputs": [],
   "source": [
    "conds = c2r._get_signals_filenames(basedir, params)\n",
    "aaa = _get_common_labels(conds)\n",
    "bbb = _get_common_labels(conds, idx0=3)\n",
    "ccc = _get_common_labels(conds, idx0=2)\n",
    "assert aaa == bbb\n",
    "assert aaa == ccc"
   ]
  },
  {
   "cell_type": "code",
   "execution_count": null,
   "metadata": {
    "collapsed": false
   },
   "outputs": [],
   "source": [
    "print(\"\\n\".join(conds['none'][8:]))\n",
    "conds.keys()\n"
   ]
  },
  {
   "cell_type": "code",
   "execution_count": null,
   "metadata": {
    "collapsed": false
   },
   "outputs": [],
   "source": [
    "conds = c2r._get_signals_filenames(basedir, params)\n",
    "print(conds.keys())\n",
    "common_labels = c2r._get_common_labels(conds)\n",
    "assert common_labels == _get_common_labels(conds, idx0=3)"
   ]
  },
  {
   "cell_type": "code",
   "execution_count": null,
   "metadata": {
    "collapsed": false
   },
   "outputs": [],
   "source": [
    "conds_arr, stored_param = c2r.compute_corr_mtx(conds, common_labels)\n"
   ]
  },
  {
   "cell_type": "code",
   "execution_count": null,
   "metadata": {
    "collapsed": true
   },
   "outputs": [],
   "source": [
    "c2r.save_results(basedir, \"results\", \"all_corrections\", params)"
   ]
  },
  {
   "cell_type": "code",
   "execution_count": null,
   "metadata": {
    "collapsed": false
   },
   "outputs": [],
   "source": [
    "tmp = np.load(conds['med'][7])\n",
    "#tmp.keys()"
   ]
  },
  {
   "cell_type": "code",
   "execution_count": null,
   "metadata": {
    "collapsed": false
   },
   "outputs": [],
   "source": [
    "tmp['labels_sig'].shape\n",
    "tmp['arr_sig_f'].shape"
   ]
  },
  {
   "cell_type": "code",
   "execution_count": null,
   "metadata": {
    "collapsed": false
   },
   "outputs": [],
   "source": []
  },
  {
   "cell_type": "code",
   "execution_count": null,
   "metadata": {
    "collapsed": false
   },
   "outputs": [],
   "source": [
    "print(conds_arr.keys())\n",
    "print(conds_arr['high'].shape)\n",
    "for cond in ordered_conds(): # [none_c, low_c, med_c, high_c]:\n",
    "    assert np.all(conds_arr[cond] <= 1.) and np.all(conds_arr[cond] >= -1.) "
   ]
  },
  {
   "cell_type": "code",
   "execution_count": null,
   "metadata": {
    "collapsed": false
   },
   "outputs": [],
   "source": [
    "f, axes = plt.subplots(1, 4)\n",
    "arr = [conds_arr[c] for c in ordered_conds()]\n",
    "\n",
    "for idx, ax in enumerate(axes): \n",
    "    ax.imshow(arr[idx].mean(axis=0), aspect='equal', interpolation='nearest', \n",
    "              vmin=-.5, vmax=1.)"
   ]
  },
  {
   "cell_type": "code",
   "execution_count": null,
   "metadata": {
    "collapsed": false
   },
   "outputs": [],
   "source": [
    "f, axes = plt.subplots(1, 4)\n",
    "arr = [conds_arr[c] for c in ordered_conds()]\n",
    "\n",
    "for idx, ax in enumerate(axes): \n",
    "    ax.imshow(arr[idx].mean(axis=0) - arr[0].mean(axis=0), \n",
    "              aspect='equal', interpolation='nearest',\n",
    "              vmin=-.5, vmax=.5)"
   ]
  },
  {
   "cell_type": "code",
   "execution_count": null,
   "metadata": {
    "collapsed": false
   },
   "outputs": [],
   "source": [
    "a0 = conds_arr['none'].mean(axis=0)\n",
    "for idx, a in enumerate(arr):\n",
    "    print((a.mean(axis=0) - a0).min(), (a.mean(axis=0) - a0).max()) "
   ]
  },
  {
   "cell_type": "code",
   "execution_count": null,
   "metadata": {
    "collapsed": false
   },
   "outputs": [],
   "source": [
    "f, axes = plt.subplots(1, 4)\n",
    "arr = [conds_arr[c] for c in ordered_conds()]\n",
    "\n",
    "for idx, ax in enumerate(axes): \n",
    "    ax.imshow(arr[idx].std(axis=0), \n",
    "              aspect='equal', interpolation='nearest') #, vmin=0., vmax=.5)"
   ]
  },
  {
   "cell_type": "code",
   "execution_count": null,
   "metadata": {
    "collapsed": false
   },
   "outputs": [],
   "source": [
    "\n",
    "for idx, a in enumerate(arr):\n",
    "    print((a.std(axis=0)).mean())"
   ]
  }
 ],
 "metadata": {
  "kernelspec": {
   "display_name": "Python 2",
   "language": "python",
   "name": "python2"
  },
  "language_info": {
   "codemirror_mode": {
    "name": "ipython",
    "version": 2
   },
   "file_extension": ".py",
   "mimetype": "text/x-python",
   "name": "python",
   "nbconvert_exporter": "python",
   "pygments_lexer": "ipython2",
   "version": "2.7.6"
  }
 },
 "nbformat": 4,
 "nbformat_minor": 0
}
