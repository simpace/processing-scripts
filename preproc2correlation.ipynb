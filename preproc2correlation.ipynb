{
 "metadata": {
  "name": "",
  "signature": "sha256:85ec8158e5bb6769e8bce52f2facdc24cadbcadb4bb2419fd5f128f36fde560c"
 },
 "nbformat": 3,
 "nbformat_minor": 0,
 "worksheets": [
  {
   "cells": [
    {
     "cell_type": "code",
     "collapsed": false,
     "input": [
      "%pylab inline\n",
      "from __future__ import print_function, division"
     ],
     "language": "python",
     "metadata": {},
     "outputs": [
      {
       "output_type": "stream",
       "stream": "stdout",
       "text": [
        "Populating the interactive namespace from numpy and matplotlib\n"
       ]
      },
      {
       "output_type": "stream",
       "stream": "stderr",
       "text": [
        "WARNING: pylab import has clobbered these variables: ['info']\n",
        "`%matplotlib` prevents importing * from pylab and numpy\n"
       ]
      }
     ],
     "prompt_number": 46
    },
    {
     "cell_type": "code",
     "collapsed": false,
     "input": [
      "import nibabel as nib\n",
      "import numpy as np\n",
      "import os\n",
      "import os.path as osp\n",
      "import matplotlib.pyplot as plt\n",
      "import nipy\n",
      "import json\n",
      "import scipy.linalg as lin\n",
      "import scipy.stats as sst\n",
      "from warnings import warn\n",
      "import datetime, time\n",
      "import glob as gb\n",
      "from six import string_types"
     ],
     "language": "python",
     "metadata": {},
     "outputs": [],
     "prompt_number": 47
    },
    {
     "cell_type": "code",
     "collapsed": false,
     "input": [
      "HOME = osp.expanduser('~')\n",
      "atlas_rois = osp.join(HOME,'code', 'regions', 'regions','tmp')\n",
      "DDIR = osp.join(HOME,'data','simpace','data','rename_files','sess01','preproc')\n",
      "DSRA = osp.join(DDIR, 'smooth')\n",
      "\n",
      "runs_pat = ['*sess01_run{:02d}-0*'.format(i) for i in [1,2,3,4]]\n",
      "\n",
      "runs = [gb.glob(osp.join(DSRA, pat)) for pat in runs_pat]\n",
      "for run in runs: run.sort()\n",
      "print([len(run) for run in runs])\n",
      "print('\\n'.join(runs[0][:8]))"
     ],
     "language": "python",
     "metadata": {},
     "outputs": [
      {
       "output_type": "stream",
       "stream": "stdout",
       "text": [
        "[196, 196, 196, 196]\n",
        "/home/jb/data/simpace/data/rename_files/sess01/preproc/smooth/sasub01_sess01_run01-0006.nii\n",
        "/home/jb/data/simpace/data/rename_files/sess01/preproc/smooth/srasub01_sess01_run01-0005.nii\n",
        "/home/jb/data/simpace/data/rename_files/sess01/preproc/smooth/srasub01_sess01_run01-0007.nii\n",
        "/home/jb/data/simpace/data/rename_files/sess01/preproc/smooth/srasub01_sess01_run01-0008.nii\n",
        "/home/jb/data/simpace/data/rename_files/sess01/preproc/smooth/srasub01_sess01_run01-0009.nii\n",
        "/home/jb/data/simpace/data/rename_files/sess01/preproc/smooth/srasub01_sess01_run01-0010.nii\n",
        "/home/jb/data/simpace/data/rename_files/sess01/preproc/smooth/srasub01_sess01_run01-0011.nii\n",
        "/home/jb/data/simpace/data/rename_files/sess01/preproc/smooth/srasub01_sess01_run01-0012.nii\n"
       ]
      }
     ],
     "prompt_number": 85
    },
    {
     "cell_type": "code",
     "collapsed": false,
     "input": [
      "_img = nib.load(runs[0][10])\n",
      "# print(_img.header)\n"
     ],
     "language": "python",
     "metadata": {},
     "outputs": [],
     "prompt_number": 98
    },
    {
     "cell_type": "heading",
     "level": 2,
     "metadata": {},
     "source": [
      "Step 0: compute fmri mask for this session"
     ]
    },
    {
     "cell_type": "code",
     "collapsed": false,
     "input": [
      "# import nilearn\n",
      "import nilearn as nil\n",
      "from nilearn import masking as msk\n",
      "from nilearn.image.image import _compute_mean\n",
      "\n",
      "mask = msk.compute_epi_mask(runs[0], opening=1, connected=True)\n",
      "mean0, aff0 = _compute_mean(runs[0])\n",
      "EXPECTEDSHAPE = (64,64,30,196)\n",
      "assert mean0.shape == EXPECTEDSHAPE[:3]\n",
      "# setup the directories"
     ],
     "language": "python",
     "metadata": {},
     "outputs": [],
     "prompt_number": 50
    },
    {
     "cell_type": "code",
     "collapsed": false,
     "input": [
      "mask_sess = msk.compute_multi_epi_mask(runs, lower_cutoff=0.2, upper_cutoff=0.85,\n",
      "                           connected=True, opening=2, threshold=0.5)\n"
     ],
     "language": "python",
     "metadata": {},
     "outputs": [],
     "prompt_number": 99
    },
    {
     "cell_type": "code",
     "collapsed": false,
     "input": [
      "print(mean0.shape)\n",
      "print(mask.shape)\n",
      "print(mask.get_data().shape)\n",
      "print(mask.get_data().dtype)"
     ],
     "language": "python",
     "metadata": {},
     "outputs": [
      {
       "output_type": "stream",
       "stream": "stdout",
       "text": [
        "(64, 64, 30)\n",
        "(64, 64, 30)\n",
        "(64, 64, 30)\n",
        "int8\n"
       ]
      }
     ],
     "prompt_number": 51
    },
    {
     "cell_type": "code",
     "collapsed": false,
     "input": [
      "fig, ax = plt.subplots(1,4)\n",
      "sli = 15\n",
      "r = 142\n",
      "\n",
      "ax[0].imshow(mask.get_data()[:,:,sli],interpolation='nearest')\n",
      "ax[1].imshow(mask_sess.get_data()[:,:,sli],interpolation='nearest')\n",
      "ax[2].imshow(mean0[:,:,sli],interpolation='nearest')\n",
      "ax[3].imshow(nib.load(runs[0][r]).get_data()[:,:,sli],interpolation='nearest',cmap='gray')\n",
      "\n"
     ],
     "language": "python",
     "metadata": {},
     "outputs": [
      {
       "metadata": {},
       "output_type": "pyout",
       "prompt_number": 100,
       "text": [
        "<matplotlib.image.AxesImage at 0x8123e10>"
       ]
      },
      {
       "metadata": {},
       "output_type": "display_data",
       "png": "[encoded data removed]",
       "text": [
        "<matplotlib.figure.Figure at 0x7d5aa90>"
       ]
      }
     ],
     "prompt_number": 100
    },
    {
     "cell_type": "heading",
     "level": 2,
     "metadata": {},
     "source": [
      "Step 2: extract roi signals"
     ]
    },
    {
     "cell_type": "code",
     "collapsed": false,
     "input": [
      "import importlib\n",
      "import utils._utils as ucr\n",
      "ucr = reload(ucr)\n",
      "from nilearn._utils import concat_niimgs"
     ],
     "language": "python",
     "metadata": {},
     "outputs": [],
     "prompt_number": 78
    },
    {
     "cell_type": "code",
     "collapsed": false,
     "input": [
      "run0_4d = concat_niimgs(runs[0], ensure_ndim=4)\n",
      "print(run0_4d.get_data().dtype)\n",
      "assert run0_4d.get_data().shape == EXPECTEDSHAPE\n",
      "print(run0_4d.get_affine())\n",
      "np.allclose(run0_4d.get_affine(), mask.get_affine())\n",
      "print(run0_4d.shape)\n",
      "\n",
      "print(run0_4d.get_data().mean())"
     ],
     "language": "python",
     "metadata": {},
     "outputs": [
      {
       "output_type": "stream",
       "stream": "stdout",
       "text": [
        "float32\n",
        "[[ -3.50000000e+00   3.49980461e-16  -1.31730564e-16   1.10184021e+02]\n",
        " [  3.50001478e-16   3.28892422e+00  -1.31677759e+00  -7.62047806e+01]\n",
        " [  0.00000000e+00   1.19707048e+00   3.61781669e+00  -6.83810883e+01]\n",
        " [  0.00000000e+00   0.00000000e+00   0.00000000e+00   1.00000000e+00]]\n",
        "(64, 64, 30, 196)\n",
        "155.377200255\n"
       ]
      }
     ],
     "prompt_number": 54
    },
    {
     "cell_type": "code",
     "collapsed": false,
     "input": [
      "DROI = osp.join(DDIR, 'registered_files')\n",
      "roi_prefix = 'rraal_*.nii'\n",
      "\n",
      "#rois = gb.glob(osp.join(DROI, roi_prefix))\n",
      "\n",
      "signals, issues, info = ucr.extract_signals(DROI, roi_prefix, run0_4d, mask=mask, minvox=1)"
     ],
     "language": "python",
     "metadata": {},
     "outputs": [],
     "prompt_number": 55
    },
    {
     "cell_type": "code",
     "collapsed": false,
     "input": [
      "plt.plot(signals['rraal_Thalamus_R__________'])\n",
      "print(info['rraal_Thalamus_L__________'])"
     ],
     "language": "python",
     "metadata": {},
     "outputs": [
      {
       "output_type": "stream",
       "stream": "stdout",
       "text": [
        "191\n"
       ]
      },
      {
       "metadata": {},
       "output_type": "display_data",
       "png": "[encoded data removed]",
       "text": [
        "<matplotlib.figure.Figure at 0x6f12710>"
       ]
      }
     ],
     "prompt_number": 56
    },
    {
     "cell_type": "code",
     "collapsed": false,
     "input": [
      "sig_keys = set(signals.keys())\n",
      "iss_keys = set(issues.keys())\n",
      "assert not sig_keys.intersection(iss_keys)\n"
     ],
     "language": "python",
     "metadata": {},
     "outputs": [],
     "prompt_number": 57
    },
    {
     "cell_type": "code",
     "collapsed": false,
     "input": [
      "DTMP = osp.join(HOME,'data','simpace','data','tmp')\n",
      "fn_mask = osp.join(DTMP, 'mask.nii')\n",
      "mask.to_filename(fn_mask)"
     ],
     "language": "python",
     "metadata": {},
     "outputs": [],
     "prompt_number": 58
    },
    {
     "cell_type": "code",
     "collapsed": false,
     "input": [
      "# why so many nan in the roi? \n",
      "\n",
      "fname = '/home/jb/data/simpace/data/rename_files/sess01/'+ \\\n",
      "'preproc/registered_files/rraal_Frontal_Sup_Orb_L___.nii'\n",
      "\n",
      "roi = nib.load(fname)\n",
      "roi_arr = roi.get_data()\n",
      "print((np.logical_not(np.isnan(roi_arr)).sum()))\n",
      "print(np.asarray(roi_arr.shape).prod())\n",
      "(np.arange(3) > 1).dtype == np.dtype('bool')"
     ],
     "language": "python",
     "metadata": {},
     "outputs": [
      {
       "output_type": "stream",
       "stream": "stdout",
       "text": [
        "82432\n",
        "122880\n"
       ]
      },
      {
       "metadata": {},
       "output_type": "pyout",
       "prompt_number": 59,
       "text": [
        "True"
       ]
      }
     ],
     "prompt_number": 59
    },
    {
     "cell_type": "code",
     "collapsed": false,
     "input": [
      "roi = nib.load(fname)\n",
      "roi_arr = np.asarray(roi.get_data())\n",
      "print(roi_arr.dtype)\n",
      "roi_arr_not_nan = np.nan_to_num(roi_arr)\n",
      "roi_arr_not_nan.sum()\n",
      "#h = plt.hist(roi_arr.flatten())\n",
      "h =plt.hist(roi_arr[roi_arr >0],bins=50)"
     ],
     "language": "python",
     "metadata": {},
     "outputs": [
      {
       "output_type": "stream",
       "stream": "stdout",
       "text": [
        "float64\n"
       ]
      },
      {
       "metadata": {},
       "output_type": "display_data",
       "png": "[encoded data removed]",
       "text": [
        "<matplotlib.figure.Figure at 0x51d5f90>"
       ]
      }
     ],
     "prompt_number": 60
    },
    {
     "cell_type": "code",
     "collapsed": false,
     "input": [
      "arr_sig, labs = ucr._dict_signals_to_arr(signals)"
     ],
     "language": "python",
     "metadata": {},
     "outputs": [],
     "prompt_number": 61
    },
    {
     "cell_type": "code",
     "collapsed": false,
     "input": [
      "print(arr_sig.shape)\n",
      "print(labs[:3])\n",
      "print(len(labs))\n",
      "assert (len(signals) == len(labs))\n",
      "print(info.values())"
     ],
     "language": "python",
     "metadata": {},
     "outputs": [
      {
       "output_type": "stream",
       "stream": "stdout",
       "text": [
        "(196, 99)\n",
        "['rraal_Vermis_4_5__________', 'rraal_Thalamus_L__________', 'rraal_Rolandic_Oper_L_____']\n",
        "99\n",
        "[113, 191, 146, 194, 376, 127, 74, 22, 317, 446, 12, 44, 426, 36, 32, 59, 364, 36, 779, 252, 133, 290, 530, 70, 285, 32, 480, 487, 234, 538, 206, 553, 99, 199, 228, 597, 211, 201, 41, 116, 150, 156, 177, 375, 122, 67, 150, 21, 111, 308, 205, 810, 44, 44, 280, 349, 39, 94, 343, 56, 134, 134, 7, 510, 141, 419, 346, 342, 210, 468, 230, 227, 163, 69, 306, 379, 17, 6, 197, 195, 208, 5, 213, 59, 197, 367, 5, 563, 28, 323, 225, 508, 30, 48, 385, 4, 11, 207, 623]\n"
       ]
      }
     ],
     "prompt_number": 62
    },
    {
     "cell_type": "code",
     "collapsed": false,
     "input": [
      "DSIG = osp.join(DDIR, 'extracted_signals')"
     ],
     "language": "python",
     "metadata": {},
     "outputs": [],
     "prompt_number": 133
    },
    {
     "cell_type": "code",
     "collapsed": false,
     "input": [
      "import utils.setup_filenames as suf\n",
      "suf = reload(suf)\n",
      "suf.rm_and_create(DSIG)"
     ],
     "language": "python",
     "metadata": {},
     "outputs": [],
     "prompt_number": 134
    },
    {
     "cell_type": "code",
     "collapsed": false,
     "input": [
      "print(DSIG)\n",
      "stat.S_IWGRP | stat.S_IWUSR | stat.S_IWOTH\n",
      "stat.S_IWUSR\n",
      "stat.S_IWGRP\n",
      "print(stat.S_IWRITE, stat.S_IWUSR)\n",
      "type(0o770)\n",
      "%pwd"
     ],
     "language": "python",
     "metadata": {},
     "outputs": [
      {
       "output_type": "stream",
       "stream": "stdout",
       "text": [
        "/home/jb/data/simpace/data/rename_files/sess01/preproc/extracted_signals\n",
        "128 128\n"
       ]
      },
      {
       "metadata": {},
       "output_type": "pyout",
       "prompt_number": 140,
       "text": [
        "u'/home/jb/code/simpace/processing-scripts'"
       ]
      }
     ],
     "prompt_number": 140
    },
    {
     "cell_type": "heading",
     "level": 2,
     "metadata": {},
     "source": [
      "Step 3: load confounds "
     ]
    },
    {
     "cell_type": "code",
     "collapsed": false,
     "input": [
      "print(DDIR)"
     ],
     "language": "python",
     "metadata": {},
     "outputs": [
      {
       "output_type": "stream",
       "stream": "stdout",
       "text": [
        "/home/jb/data/simpace/data/rename_files/sess01/preproc\n"
       ]
      }
     ],
     "prompt_number": 63
    },
    {
     "cell_type": "code",
     "collapsed": false,
     "input": [
      "\n",
      "# extract csf time series\n",
      "# dir temporary\n",
      "DCSF = osp.join(DDIR, 'csf_mask')\n",
      "csf_file = osp.join(DCSF, 'csf_map_final.nii.gz')\n",
      "csf_img = nib.load(csf_file)\n",
      "print(csf_img.shape, csf_img.get_data().sum())\n",
      "\n",
      "print(csf_img.get_data().dtype)\n",
      "h = plt.hist(csf_img.get_data().flatten())\n",
      "print((csf_img.get_data().astype('bool') > 0.5).sum())\n"
     ],
     "language": "python",
     "metadata": {},
     "outputs": [
      {
       "output_type": "stream",
       "stream": "stdout",
       "text": [
        "(64, 64, 30) 22\n",
        "int8\n",
        "22\n"
       ]
      },
      {
       "metadata": {},
       "output_type": "display_data",
       "png": "[encoded data removed]",
       "text": [
        "<matplotlib.figure.Figure at 0x6f26a90>"
       ]
      }
     ],
     "prompt_number": 64
    },
    {
     "cell_type": "code",
     "collapsed": false,
     "input": [
      "csf_sig, csf_iss, csf_inf = ucr.extract_signals(DCSF, 'csf_map_final.nii.gz', run0_4d)\n",
      "plt.plot(csf_sig['csf_map_final.nii'])\n",
      "csf_sig['csf_map_final.nii'].shape"
     ],
     "language": "python",
     "metadata": {},
     "outputs": [
      {
       "metadata": {},
       "output_type": "pyout",
       "prompt_number": 141,
       "text": [
        "(196,)"
       ]
      },
      {
       "metadata": {},
       "output_type": "display_data",
       "png": "[encoded data removed]",
       "text": [
        "<matplotlib.figure.Figure at 0x44efe10>"
       ]
      }
     ],
     "prompt_number": 141
    },
    {
     "cell_type": "code",
     "collapsed": false,
     "input": [
      "# load mvt parameters\n",
      "DREALIGN = osp.join(DDIR, 'realign')\n",
      "mvtfile = osp.join(DREALIGN,'rp_asub01_sess01_run01-0006.txt')\n",
      "print(mvtfile)\n",
      "run_len = 196"
     ],
     "language": "python",
     "metadata": {},
     "outputs": [
      {
       "output_type": "stream",
       "stream": "stdout",
       "text": [
        "/home/jb/data/simpace/data/rename_files/sess01/preproc/realign/rp_asub01_sess01_run01-0006.txt\n"
       ]
      }
     ],
     "prompt_number": 72
    },
    {
     "cell_type": "code",
     "collapsed": false,
     "input": [
      "pat = 'rp_asub??_' + '*-0*.txt'\n",
      "mvfile = gb.glob(osp.join(DREALIGN,pat))"
     ],
     "language": "python",
     "metadata": {},
     "outputs": [],
     "prompt_number": 148
    },
    {
     "cell_type": "code",
     "collapsed": false,
     "input": [
      "mvtfile"
     ],
     "language": "python",
     "metadata": {},
     "outputs": [
      {
       "metadata": {},
       "output_type": "pyout",
       "prompt_number": 149,
       "text": [
        "'/home/jb/data/simpace/data/rename_files/sess01/preproc/realign/rp_asub01_sess01_run01-0006.txt'"
       ]
      }
     ],
     "prompt_number": 149
    },
    {
     "cell_type": "code",
     "collapsed": false,
     "input": [
      "mvt0 = ucr.extract_mvt_run(mvtfile, 0, run_len)\n",
      "print(mvt0.shape)"
     ],
     "language": "python",
     "metadata": {},
     "outputs": [
      {
       "output_type": "stream",
       "stream": "stdout",
       "text": [
        "(196, 6)\n"
       ]
      }
     ],
     "prompt_number": 81
    },
    {
     "cell_type": "heading",
     "level": 2,
     "metadata": {},
     "source": [
      "Step 4: filter"
     ]
    },
    {
     "cell_type": "code",
     "collapsed": false,
     "input": [
      "'_'.join(['a','b'])"
     ],
     "language": "python",
     "metadata": {},
     "outputs": [
      {
       "metadata": {},
       "output_type": "pyout",
       "prompt_number": 142,
       "text": [
        "'a_b'"
       ]
      }
     ],
     "prompt_number": 142
    },
    {
     "cell_type": "code",
     "collapsed": false,
     "input": [
      "osp.dirname(osp.dirname(DDIR))"
     ],
     "language": "python",
     "metadata": {},
     "outputs": [
      {
       "metadata": {},
       "output_type": "pyout",
       "prompt_number": 152,
       "text": [
        "'/home/jb/data/simpace/data/rename_files'"
       ]
      }
     ],
     "prompt_number": 152
    },
    {
     "cell_type": "code",
     "collapsed": false,
     "input": [
      "DDIR"
     ],
     "language": "python",
     "metadata": {},
     "outputs": [
      {
       "metadata": {},
       "output_type": "pyout",
       "prompt_number": 151,
       "text": [
        "'/home/jb/data/simpace/data/rename_files/sess01/preproc'"
       ]
      }
     ],
     "prompt_number": 151
    },
    {
     "cell_type": "code",
     "collapsed": false,
     "input": [
      "dsess = osp.dirname(DDIR) # session directory is one up"
     ],
     "language": "python",
     "metadata": {},
     "outputs": [],
     "prompt_number": 153
    },
    {
     "cell_type": "code",
     "collapsed": false,
     "input": [
      "import json\n",
      "from pprint import pprint\n",
      "fname = gb.glob(osp.join(dsess,\"su*params\"))\n",
      "print(osp.join(dsess,\"su*params\"))\n",
      "print(fname)"
     ],
     "language": "python",
     "metadata": {},
     "outputs": [
      {
       "output_type": "stream",
       "stream": "stdout",
       "text": [
        "/home/jb/data/simpace/data/rename_files/sess01/su*params\n",
        "['/home/jb/data/simpace/data/rename_files/sess01/sub01_sess01_params']\n"
       ]
      }
     ],
     "prompt_number": 383
    },
    {
     "cell_type": "code",
     "collapsed": false,
     "input": [
      "with open(fname[0]) as param:\n",
      "    data = json.load(param)\n",
      "\n",
      "data"
     ],
     "language": "python",
     "metadata": {},
     "outputs": [
      {
       "metadata": {},
       "output_type": "pyout",
       "prompt_number": 385,
       "text": [
        "{u'date': u'20140902', u'motion': [u'NONE', u'MED', u'LOW', u'HIGH']}"
       ]
      }
     ],
     "prompt_number": 385
    },
    {
     "cell_type": "code",
     "collapsed": false,
     "input": [
      "import utils._utils as ucr\n",
      "ucr = reload(ucr)"
     ],
     "language": "python",
     "metadata": {},
     "outputs": [],
     "prompt_number": 370
    },
    {
     "cell_type": "code",
     "collapsed": false,
     "input": [
      "nt = 196\n",
      "dt = 2.\n",
      "frametimes = np.linspace(0, (nt-1)*dt, nt)\n",
      "bf = ucr._cosine_drift(4.05, frametimes)"
     ],
     "language": "python",
     "metadata": {},
     "outputs": [],
     "prompt_number": 311
    },
    {
     "cell_type": "code",
     "collapsed": false,
     "input": [
      "plt.imshow(bf, interpolation='nearest',aspect='auto')\n",
      "np.any(bf.std(axis=0) == 0)\n",
      "bf.std(axis=0)"
     ],
     "language": "python",
     "metadata": {},
     "outputs": [
      {
       "metadata": {},
       "output_type": "pyout",
       "prompt_number": 372,
       "text": [
        "array([ 0.07142857,  0.07142857,  0.07142857,  0.07142857,  0.07142857,\n",
        "        0.07142857,  0.        ,  0.07142857,  0.07142857,  0.07142857,\n",
        "        0.07142857,  0.07142857,  0.07142857,  0.07142857,  0.07142857,\n",
        "        0.07142857,  0.07142857,  0.07142857,  0.07142857,  0.07142857,\n",
        "        0.07142857,  0.07142857,  0.07142857,  0.07142857,  0.07142857,\n",
        "        0.07142857,  0.07142857,  0.07142857,  0.07142857,  0.07142857,\n",
        "        0.07142857])"
       ]
      },
      {
       "metadata": {},
       "output_type": "display_data",
       "png": "[encoded data removed]",
       "text": [
        "<matplotlib.figure.Figure at 0xe5d1690>"
       ]
      }
     ],
     "prompt_number": 372
    },
    {
     "cell_type": "code",
     "collapsed": false,
     "input": [
      "plt.imshow(bf_.T.dot(bf_), interpolation='nearest')"
     ],
     "language": "python",
     "metadata": {},
     "outputs": [
      {
       "metadata": {},
       "output_type": "pyout",
       "prompt_number": 381,
       "text": [
        "<matplotlib.image.AxesImage at 0xefd1d90>"
       ]
      },
      {
       "metadata": {},
       "output_type": "display_data",
       "png": "[encoded data removed]",
       "text": [
        "<matplotlib.figure.Figure at 0xed74750>"
       ]
      }
     ],
     "prompt_number": 381
    },
    {
     "cell_type": "code",
     "collapsed": false,
     "input": [],
     "language": "python",
     "metadata": {},
     "outputs": []
    }
   ],
   "metadata": {}
  }
 ]
}