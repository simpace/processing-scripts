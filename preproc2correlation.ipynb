{
 "metadata": {
  "name": "",
  "signature": "sha256:5c08109b90893dd406ed2c062ac2e43b1caa9a089bc3525813af16c3cc9adda5"
 },
 "nbformat": 3,
 "nbformat_minor": 0,
 "worksheets": [
  {
   "cells": [
    {
     "cell_type": "code",
     "collapsed": false,
     "input": [
      "%pylab inline\n",
      "from __future__ import print_function, division"
     ],
     "language": "python",
     "metadata": {},
     "outputs": [
      {
       "output_type": "stream",
       "stream": "stdout",
       "text": [
        "Populating the interactive namespace from numpy and matplotlib\n"
       ]
      }
     ],
     "prompt_number": 1
    },
    {
     "cell_type": "code",
     "collapsed": false,
     "input": [
      "import nibabel as nib\n",
      "import numpy as np\n",
      "import os\n",
      "import os.path as osp\n",
      "import matplotlib.pyplot as plt\n",
      "import nipy\n",
      "import json\n",
      "import scipy.linalg as lin\n",
      "import scipy.stats as sst\n",
      "from warnings import warn\n",
      "import datetime, time\n",
      "import glob as gb\n",
      "from six import string_types"
     ],
     "language": "python",
     "metadata": {},
     "outputs": [],
     "prompt_number": 2
    },
    {
     "cell_type": "code",
     "collapsed": false,
     "input": [
      "HOME = osp.expanduser('~')\n",
      "atlas_rois = osp.join(HOME,'code', 'regions', 'regions','tmp')\n",
      "DDIR = osp.join(HOME,'data','simpace','data','rename_files','sess01','preproc')\n",
      "DSRA = osp.join(DDIR, 'smooth')\n",
      "\n",
      "runs_pat = ['*sess01_run{:02d}-0*'.format(i) for i in [1,2,3,4]]\n",
      "\n",
      "runs = [gb.glob(osp.join(DSRA, pat)) for pat in runs_pat]\n",
      "for run in runs: run.sort()\n",
      "print([len(run) for run in runs])\n",
      "print('\\n'.join(runs[0][:24]))"
     ],
     "language": "python",
     "metadata": {},
     "outputs": [
      {
       "output_type": "stream",
       "stream": "stdout",
       "text": [
        "[196, 196, 196, 196]\n",
        "/home/jb/data/simpace/data/rename_files/sess01/preproc/smooth/sasub01_sess01_run01-0006.nii\n",
        "/home/jb/data/simpace/data/rename_files/sess01/preproc/smooth/srasub01_sess01_run01-0005.nii\n",
        "/home/jb/data/simpace/data/rename_files/sess01/preproc/smooth/srasub01_sess01_run01-0007.nii\n",
        "/home/jb/data/simpace/data/rename_files/sess01/preproc/smooth/srasub01_sess01_run01-0008.nii\n",
        "/home/jb/data/simpace/data/rename_files/sess01/preproc/smooth/srasub01_sess01_run01-0009.nii\n",
        "/home/jb/data/simpace/data/rename_files/sess01/preproc/smooth/srasub01_sess01_run01-0010.nii\n",
        "/home/jb/data/simpace/data/rename_files/sess01/preproc/smooth/srasub01_sess01_run01-0011.nii\n",
        "/home/jb/data/simpace/data/rename_files/sess01/preproc/smooth/srasub01_sess01_run01-0012.nii\n",
        "/home/jb/data/simpace/data/rename_files/sess01/preproc/smooth/srasub01_sess01_run01-0013.nii\n",
        "/home/jb/data/simpace/data/rename_files/sess01/preproc/smooth/srasub01_sess01_run01-0014.nii\n",
        "/home/jb/data/simpace/data/rename_files/sess01/preproc/smooth/srasub01_sess01_run01-0015.nii\n",
        "/home/jb/data/simpace/data/rename_files/sess01/preproc/smooth/srasub01_sess01_run01-0016.nii\n",
        "/home/jb/data/simpace/data/rename_files/sess01/preproc/smooth/srasub01_sess01_run01-0017.nii\n",
        "/home/jb/data/simpace/data/rename_files/sess01/preproc/smooth/srasub01_sess01_run01-0018.nii\n",
        "/home/jb/data/simpace/data/rename_files/sess01/preproc/smooth/srasub01_sess01_run01-0019.nii\n",
        "/home/jb/data/simpace/data/rename_files/sess01/preproc/smooth/srasub01_sess01_run01-0020.nii\n",
        "/home/jb/data/simpace/data/rename_files/sess01/preproc/smooth/srasub01_sess01_run01-0021.nii\n",
        "/home/jb/data/simpace/data/rename_files/sess01/preproc/smooth/srasub01_sess01_run01-0022.nii\n",
        "/home/jb/data/simpace/data/rename_files/sess01/preproc/smooth/srasub01_sess01_run01-0023.nii\n",
        "/home/jb/data/simpace/data/rename_files/sess01/preproc/smooth/srasub01_sess01_run01-0024.nii\n",
        "/home/jb/data/simpace/data/rename_files/sess01/preproc/smooth/srasub01_sess01_run01-0025.nii\n",
        "/home/jb/data/simpace/data/rename_files/sess01/preproc/smooth/srasub01_sess01_run01-0026.nii\n",
        "/home/jb/data/simpace/data/rename_files/sess01/preproc/smooth/srasub01_sess01_run01-0027.nii\n",
        "/home/jb/data/simpace/data/rename_files/sess01/preproc/smooth/srasub01_sess01_run01-0028.nii\n"
       ]
      }
     ],
     "prompt_number": 3
    },
    {
     "cell_type": "heading",
     "level": 2,
     "metadata": {},
     "source": [
      "Step 0: compute fmri mask for this session"
     ]
    },
    {
     "cell_type": "code",
     "collapsed": false,
     "input": [
      "# import nilearn\n",
      "import nilearn as nil\n",
      "from nilearn import masking as msk\n",
      "from nilearn.image.image import _compute_mean\n",
      "\n",
      "mask = msk.compute_epi_mask(runs[0], opening=1, connected=True)\n",
      "mean0, aff0 = _compute_mean(runs[0])\n",
      "EXPECTEDSHAPE = (64,64,30,196)\n",
      "assert mean0.shape == EXPECTEDSHAPE[:3]\n",
      "# setup the directories"
     ],
     "language": "python",
     "metadata": {},
     "outputs": [],
     "prompt_number": 10
    },
    {
     "cell_type": "code",
     "collapsed": false,
     "input": [
      "print(mean0.shape)\n",
      "print(mask.shape)\n",
      "print(mask.get_data().shape)\n",
      "print(mask.get_data().dtype)"
     ],
     "language": "python",
     "metadata": {},
     "outputs": [
      {
       "output_type": "stream",
       "stream": "stdout",
       "text": [
        "(64, 64, 30)\n",
        "(64, 64, 30)\n",
        "(64, 64, 30)\n",
        "int8\n"
       ]
      }
     ],
     "prompt_number": 5
    },
    {
     "cell_type": "code",
     "collapsed": false,
     "input": [
      "fig, ax = plt.subplots(1,3)\n",
      "sli = 15\n",
      "r = 142\n",
      "ax[0].imshow(mask.get_data()[:,:,sli],interpolation='nearest')\n",
      "ax[1].imshow(mean0[:,:,sli],interpolation='nearest')\n",
      "ax[2].imshow(nib.load(runs[0][r]).get_data()[:,:,sli],interpolation='nearest',cmap='gray')\n"
     ],
     "language": "python",
     "metadata": {},
     "outputs": [
      {
       "metadata": {},
       "output_type": "pyout",
       "prompt_number": 6,
       "text": [
        "<matplotlib.image.AxesImage at 0x4327810>"
       ]
      },
      {
       "metadata": {},
       "output_type": "display_data",
       "png": "[encoded data removed]",
       "text": [
        "<matplotlib.figure.Figure at 0x528d7d0>"
       ]
      }
     ],
     "prompt_number": 6
    },
    {
     "cell_type": "heading",
     "level": 2,
     "metadata": {},
     "source": [
      "Step 2: extract roi signals"
     ]
    },
    {
     "cell_type": "code",
     "collapsed": false,
     "input": [
      "import importlib\n",
      "import utils._utils as ucr\n",
      "ucr = reload(ucr)\n",
      "from nilearn._utils import concat_niimgs"
     ],
     "language": "python",
     "metadata": {},
     "outputs": [],
     "prompt_number": 30
    },
    {
     "cell_type": "code",
     "collapsed": false,
     "input": [
      "run0_4d = concat_niimgs(runs[0], ensure_ndim=4)\n",
      "run0_4d.get_data().dtype\n",
      "assert run0_4d.get_data().shape == EXPECTEDSHAPE"
     ],
     "language": "python",
     "metadata": {},
     "outputs": [],
     "prompt_number": 31
    },
    {
     "cell_type": "code",
     "collapsed": false,
     "input": [
      "DROI = osp.join(DDIR, 'registered_files')\n",
      "roi_prefix = 'rraal_*.nii'\n",
      "\n",
      "signals, issues = ucr.extract_signals(DROI, roi_prefix, run0_4d, mask=None, minvox=1)"
     ],
     "language": "python",
     "metadata": {},
     "outputs": [
      {
       "output_type": "stream",
       "stream": "stdout",
       "text": [
        "[[ -3.50000000e+00   3.49980461e-16  -1.31730564e-16   1.10184021e+02]\n",
        " [  3.50001478e-16   3.28892422e+00  -1.31677759e+00  -7.62047806e+01]\n",
        " [  0.00000000e+00   1.19707048e+00   3.61781669e+00  -6.83810883e+01]\n",
        " [  0.00000000e+00   0.00000000e+00   0.00000000e+00   1.00000000e+00]]\n",
        "[[ -3.50000000e+00   3.49980461e-16  -1.31730564e-16   1.10184021e+02]\n",
        " [  3.50001478e-16   3.28892422e+00  -1.31677759e+00  -7.62047806e+01]\n",
        " [  0.00000000e+00   1.19707048e+00   3.61781669e+00  -6.83810883e+01]\n",
        " [  0.00000000e+00   0.00000000e+00   0.00000000e+00   1.00000000e+00]]\n",
        "translation:  [[ 0.]\n",
        " [ 0.]\n",
        " [ 0.]]\n"
       ]
      }
     ],
     "prompt_number": 32
    },
    {
     "cell_type": "code",
     "collapsed": false,
     "input": [
      "arr_sig, labs = ucr._dict_signals_to_arr(signals)"
     ],
     "language": "python",
     "metadata": {},
     "outputs": [],
     "prompt_number": 33
    },
    {
     "cell_type": "code",
     "collapsed": false,
     "input": [
      "arr_sig.shape"
     ],
     "language": "python",
     "metadata": {},
     "outputs": [
      {
       "metadata": {},
       "output_type": "pyout",
       "prompt_number": 34,
       "text": [
        "(196, 116)"
       ]
      }
     ],
     "prompt_number": 34
    },
    {
     "cell_type": "heading",
     "level": 2,
     "metadata": {},
     "source": [
      "Step 3: load confounds "
     ]
    },
    {
     "cell_type": "code",
     "collapsed": false,
     "input": [
      "# load mvt parameters\n",
      "DREALIGN = osp.join(DDIR, 'realign')\n",
      "mvtfile = osp.join(DREALIGN,'rp_asub01_sess01_run01-0006.txt')\n",
      "\n",
      "# extract csf time series\n",
      "# dir temporary\n",
      "DCSF = osp.join(DDIR, 'csf_mask')\n",
      "csf_file = osp.join(DCSF, 'csf_map_final.nii.gz')\n",
      "csf_img = nib.load(csf_file)\n",
      "print(csf_img.shape, csf_img.get_data().sum())\n"
     ],
     "language": "python",
     "metadata": {},
     "outputs": [
      {
       "output_type": "stream",
       "stream": "stdout",
       "text": [
        "(64, 64, 30) 22\n"
       ]
      }
     ],
     "prompt_number": 36
    },
    {
     "cell_type": "heading",
     "level": 2,
     "metadata": {},
     "source": [
      "Step 4: filter"
     ]
    },
    {
     "cell_type": "code",
     "collapsed": false,
     "input": [
      "4*196"
     ],
     "language": "python",
     "metadata": {},
     "outputs": []
    },
    {
     "cell_type": "code",
     "collapsed": false,
     "input": [],
     "language": "python",
     "metadata": {},
     "outputs": []
    }
   ],
   "metadata": {}
  }
 ]
}