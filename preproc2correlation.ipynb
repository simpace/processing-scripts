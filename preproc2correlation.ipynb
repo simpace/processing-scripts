{
 "metadata": {
  "name": "",
  "signature": "sha256:18664f10da3e8b1ad813d43c162cdbe8b4f320dce31f91066900f0c8459fe736"
 },
 "nbformat": 3,
 "nbformat_minor": 0,
 "worksheets": [
  {
   "cells": [
    {
     "cell_type": "code",
     "collapsed": false,
     "input": [
      "%pylab inline\n",
      "from __future__ import print_function, division"
     ],
     "language": "python",
     "metadata": {},
     "outputs": [
      {
       "output_type": "stream",
       "stream": "stdout",
       "text": [
        "Populating the interactive namespace from numpy and matplotlib\n"
       ]
      }
     ],
     "prompt_number": 1
    },
    {
     "cell_type": "code",
     "collapsed": false,
     "input": [
      "import nibabel as nib\n",
      "import numpy as np\n",
      "import os\n",
      "import os.path as osp\n",
      "import matplotlib.pyplot as plt\n",
      "import nipy\n",
      "import json\n",
      "import scipy.linalg as lin\n",
      "import scipy.stats as sst\n",
      "from warnings import warn\n",
      "import datetime, time\n",
      "import glob as gb\n",
      "from six import string_types"
     ],
     "language": "python",
     "metadata": {},
     "outputs": [],
     "prompt_number": 2
    },
    {
     "cell_type": "code",
     "collapsed": false,
     "input": [
      "HOME = osp.expanduser('~')\n",
      "atlas_rois = osp.join(HOME,'code', 'regions', 'regions','tmp')\n",
      "DDIR = osp.join(HOME,'data','simpace','data','rename_files','sess01','preproc')\n",
      "DSRA = osp.join(DDIR, 'smooth')\n",
      "\n",
      "runs_pat = ['*sess01_run{:02d}-0*'.format(i) for i in [1,2,3,4]]\n",
      "\n",
      "runs = [gb.glob(osp.join(DSRA, pat)) for pat in runs_pat]\n",
      "for run in runs: run.sort()\n",
      "print([len(run) for run in runs])\n",
      "print('\\n'.join(runs[0][:24]))"
     ],
     "language": "python",
     "metadata": {},
     "outputs": [
      {
       "output_type": "stream",
       "stream": "stdout",
       "text": [
        "[196, 196, 196, 196]\n",
        "/home/jb/data/simpace/data/rename_files/sess01/preproc/smooth/sasub01_sess01_run01-0006.nii\n",
        "/home/jb/data/simpace/data/rename_files/sess01/preproc/smooth/srasub01_sess01_run01-0005.nii\n",
        "/home/jb/data/simpace/data/rename_files/sess01/preproc/smooth/srasub01_sess01_run01-0007.nii\n",
        "/home/jb/data/simpace/data/rename_files/sess01/preproc/smooth/srasub01_sess01_run01-0008.nii\n",
        "/home/jb/data/simpace/data/rename_files/sess01/preproc/smooth/srasub01_sess01_run01-0009.nii\n",
        "/home/jb/data/simpace/data/rename_files/sess01/preproc/smooth/srasub01_sess01_run01-0010.nii\n",
        "/home/jb/data/simpace/data/rename_files/sess01/preproc/smooth/srasub01_sess01_run01-0011.nii\n",
        "/home/jb/data/simpace/data/rename_files/sess01/preproc/smooth/srasub01_sess01_run01-0012.nii\n",
        "/home/jb/data/simpace/data/rename_files/sess01/preproc/smooth/srasub01_sess01_run01-0013.nii\n",
        "/home/jb/data/simpace/data/rename_files/sess01/preproc/smooth/srasub01_sess01_run01-0014.nii\n",
        "/home/jb/data/simpace/data/rename_files/sess01/preproc/smooth/srasub01_sess01_run01-0015.nii\n",
        "/home/jb/data/simpace/data/rename_files/sess01/preproc/smooth/srasub01_sess01_run01-0016.nii\n",
        "/home/jb/data/simpace/data/rename_files/sess01/preproc/smooth/srasub01_sess01_run01-0017.nii\n",
        "/home/jb/data/simpace/data/rename_files/sess01/preproc/smooth/srasub01_sess01_run01-0018.nii\n",
        "/home/jb/data/simpace/data/rename_files/sess01/preproc/smooth/srasub01_sess01_run01-0019.nii\n",
        "/home/jb/data/simpace/data/rename_files/sess01/preproc/smooth/srasub01_sess01_run01-0020.nii\n",
        "/home/jb/data/simpace/data/rename_files/sess01/preproc/smooth/srasub01_sess01_run01-0021.nii\n",
        "/home/jb/data/simpace/data/rename_files/sess01/preproc/smooth/srasub01_sess01_run01-0022.nii\n",
        "/home/jb/data/simpace/data/rename_files/sess01/preproc/smooth/srasub01_sess01_run01-0023.nii\n",
        "/home/jb/data/simpace/data/rename_files/sess01/preproc/smooth/srasub01_sess01_run01-0024.nii\n",
        "/home/jb/data/simpace/data/rename_files/sess01/preproc/smooth/srasub01_sess01_run01-0025.nii\n",
        "/home/jb/data/simpace/data/rename_files/sess01/preproc/smooth/srasub01_sess01_run01-0026.nii\n",
        "/home/jb/data/simpace/data/rename_files/sess01/preproc/smooth/srasub01_sess01_run01-0027.nii\n",
        "/home/jb/data/simpace/data/rename_files/sess01/preproc/smooth/srasub01_sess01_run01-0028.nii\n"
       ]
      }
     ],
     "prompt_number": 3
    },
    {
     "cell_type": "heading",
     "level": 2,
     "metadata": {},
     "source": [
      "Step 0: compute fmri mask for this session"
     ]
    },
    {
     "cell_type": "code",
     "collapsed": false,
     "input": [
      "# import nilearn\n",
      "import nilearn as nil\n",
      "from nilearn import masking as msk\n",
      "from nilearn.image.image import _compute_mean\n",
      "\n",
      "mask = msk.compute_epi_mask(runs[0], opening=1, connected=True)\n",
      "mean0, aff0 = _compute_mean(runs[0])\n",
      "EXPECTEDSHAPE = (64,64,30,196)\n",
      "assert mean0.shape == EXPECTEDSHAPE[:3]\n",
      "# setup the directories"
     ],
     "language": "python",
     "metadata": {},
     "outputs": [],
     "prompt_number": 4
    },
    {
     "cell_type": "code",
     "collapsed": false,
     "input": [
      "print(mean0.shape)\n",
      "print(mask.shape)\n",
      "print(mask.get_data().shape)\n",
      "print(mask.get_data().dtype)"
     ],
     "language": "python",
     "metadata": {},
     "outputs": [
      {
       "output_type": "stream",
       "stream": "stdout",
       "text": [
        "(64, 64, 30)\n",
        "(64, 64, 30)\n",
        "(64, 64, 30)\n",
        "int8\n"
       ]
      }
     ],
     "prompt_number": 5
    },
    {
     "cell_type": "code",
     "collapsed": false,
     "input": [
      "fig, ax = plt.subplots(1,3)\n",
      "sli = 15\n",
      "r = 142\n",
      "ax[0].imshow(mask.get_data()[:,:,sli],interpolation='nearest')\n",
      "ax[1].imshow(mean0[:,:,sli],interpolation='nearest')\n",
      "ax[2].imshow(nib.load(runs[0][r]).get_data()[:,:,sli],interpolation='nearest',cmap='gray')\n"
     ],
     "language": "python",
     "metadata": {},
     "outputs": [
      {
       "metadata": {},
       "output_type": "pyout",
       "prompt_number": 6,
       "text": [
        "<matplotlib.image.AxesImage at 0x4846710>"
       ]
      },
      {
       "metadata": {},
       "output_type": "display_data",
       "png": "[encoded data removed]",
       "text": [
        "<matplotlib.figure.Figure at 0x57abb90>"
       ]
      }
     ],
     "prompt_number": 6
    },
    {
     "cell_type": "heading",
     "level": 2,
     "metadata": {},
     "source": [
      "Step 2: extract roi signals"
     ]
    },
    {
     "cell_type": "code",
     "collapsed": false,
     "input": [
      "import importlib\n",
      "import utils._utils as ucr\n",
      "ucr = reload(ucr)\n",
      "from nilearn._utils import concat_niimgs"
     ],
     "language": "python",
     "metadata": {},
     "outputs": [],
     "prompt_number": 40
    },
    {
     "cell_type": "code",
     "collapsed": false,
     "input": [
      "run0_4d = concat_niimgs(runs[0], ensure_ndim=4)\n",
      "print(run0_4d.get_data().dtype)\n",
      "assert run0_4d.get_data().shape == EXPECTEDSHAPE\n",
      "print(run0_4d.get_affine())\n",
      "np.allclose(run0_4d.get_affine(), mask.get_affine())\n",
      "print(run0_4d.shape)"
     ],
     "language": "python",
     "metadata": {},
     "outputs": [
      {
       "output_type": "stream",
       "stream": "stdout",
       "text": [
        "float32\n",
        "[[ -3.50000000e+00   3.49980461e-16  -1.31730564e-16   1.10184021e+02]\n",
        " [  3.50001478e-16   3.28892422e+00  -1.31677759e+00  -7.62047806e+01]\n",
        " [  0.00000000e+00   1.19707048e+00   3.61781669e+00  -6.83810883e+01]\n",
        " [  0.00000000e+00   0.00000000e+00   0.00000000e+00   1.00000000e+00]]\n",
        "(64, 64, 30, 196)\n"
       ]
      }
     ],
     "prompt_number": 41
    },
    {
     "cell_type": "code",
     "collapsed": false,
     "input": [
      "DROI = osp.join(DDIR, 'registered_files')\n",
      "roi_prefix = 'rraal_*.nii'\n",
      "\n",
      "#rois = gb.glob(osp.join(DROI, roi_prefix))\n",
      "\n",
      "signals, issues = ucr.extract_signals(DROI, roi_prefix, run0_4d, mask=mask, minvox=1)"
     ],
     "language": "python",
     "metadata": {},
     "outputs": [
      {
       "output_type": "stream",
       "stream": "stdout",
       "text": [
        "['/home/jb/data/simpace/data/rename_files/sess01/preproc/registered_files/rraal_Amygdala_L__________.nii', '/home/jb/data/simpace/data/rename_files/sess01/preproc/registered_files/rraal_Amygdala_R__________.nii', '/home/jb/data/simpace/data/rename_files/sess01/preproc/registered_files/rraal_Angular_L___________.nii', '/home/jb/data/simpace/data/rename_files/sess01/preproc/registered_files/rraal_Angular_R___________.nii']\n",
        " in mask : 30485, out of 122880 voxels"
       ]
      },
      {
       "output_type": "stream",
       "stream": "stdout",
       "text": [
        "\n",
        "nb voxels in mask of rraal_Amygdala_L__________ is 28 \n",
        "\n",
        "nb voxels in mask of rraal_Amygdala_R__________ is 37 \n",
        "\n",
        "nb voxels in mask of rraal_Angular_L___________ is 199 \n",
        "\n",
        "nb voxels in mask of rraal_Angular_R___________ is 283 \n",
        "\n",
        "nb voxels in mask of rraal_Calcarine_L_________ is 369 \n",
        "\n",
        "nb voxels in mask of rraal_Calcarine_R_________ is 306 \n",
        "\n",
        "nb voxels in mask of rraal_Caudate_L___________ is 160 \n",
        "\n",
        "nb voxels in mask of rraal_Caudate_R___________ is 172 \n",
        "\n",
        "nb voxels in mask of rraal_Cerebelum_10_L______ is 0 \n",
        "\n",
        "nb voxels in mask of rraal_Cerebelum_10_R______ is 0 \n",
        "\n",
        "nb voxels in mask of rraal_Cerebelum_3_L_______ is 23 \n"
       ]
      },
      {
       "output_type": "stream",
       "stream": "stdout",
       "text": [
        "\n",
        "nb voxels in mask of rraal_Cerebelum_3_R_______ is 32 \n",
        "\n",
        "nb voxels in mask of rraal_Cerebelum_4_5_L_____ is 171 \n",
        "\n",
        "nb voxels in mask of rraal_Cerebelum_4_5_R_____ is 128 \n",
        "\n",
        "nb voxels in mask of rraal_Cerebelum_6_L_______ is 247 \n",
        "\n",
        "nb voxels in mask of rraal_Cerebelum_6_R_______ is 272 \n",
        "\n",
        "nb voxels in mask of rraal_Cerebelum_7b_L______ is 0 \n",
        "\n",
        "nb voxels in mask of rraal_Cerebelum_7b_R______ is 0 \n",
        "\n",
        "nb voxels in mask of rraal_Cerebelum_8_L_______ is 7 \n",
        "\n",
        "nb voxels in mask of rraal_Cerebelum_8_R_______ is 12 \n",
        "\n",
        "nb voxels in mask of rraal_Cerebelum_9_L_______ is 2 \n",
        "\n",
        "nb voxels in mask of rraal_Cerebelum_9_R_______ is 2 \n",
        "\n",
        "nb voxels in mask of rraal_Cerebelum_Crus1_L___ is 305 \n",
        "\n",
        "nb voxels in mask of rraal_Cerebelum_Crus1_R___ is 410 \n",
        "\n",
        "nb voxels in mask of rraal_Cerebelum_Crus2_L___ is 119 \n",
        "\n",
        "nb voxels in mask of rraal_Cerebelum_Crus2_R___ is 128 \n"
       ]
      },
      {
       "output_type": "stream",
       "stream": "stdout",
       "text": [
        "\n",
        "nb voxels in mask of rraal_Cingulum_Ant_L______ is 221 \n",
        "\n",
        "nb voxels in mask of rraal_Cingulum_Ant_R______ is 212 \n",
        "\n",
        "nb voxels in mask of rraal_Cingulum_Mid_L______ is 323 \n",
        "\n",
        "nb voxels in mask of rraal_Cingulum_Mid_R______ is 367 \n",
        "\n",
        "nb voxels in mask of rraal_Cingulum_Post_L_____ is 70 \n",
        "\n",
        "nb voxels in mask of rraal_Cingulum_Post_R_____ is 56 \n",
        "\n",
        "nb voxels in mask of rraal_Cuneus_L____________ is 256 \n",
        "\n",
        "nb voxels in mask of rraal_Cuneus_R____________ is 240 \n",
        "\n",
        "nb voxels in mask of rraal_Frontal_Inf_Oper_L__ is 170 \n",
        "\n",
        "nb voxels in mask of rraal_Frontal_Inf_Oper_R__ is 239 \n",
        "\n",
        "nb voxels in mask of rraal_Frontal_Inf_Orb_L___ is 178 \n"
       ]
      },
      {
       "output_type": "stream",
       "stream": "stdout",
       "text": [
        "\n",
        "nb voxels in mask of rraal_Frontal_Inf_Orb_R___ is 243 \n",
        "\n",
        "nb voxels in mask of rraal_Frontal_Inf_Tri_L___ is 429 \n",
        "\n",
        "nb voxels in mask of rraal_Frontal_Inf_Tri_R___ is 361 \n",
        "\n",
        "nb voxels in mask of rraal_Frontal_Med_Orb_L___ is 118 \n",
        "\n",
        "nb voxels in mask of rraal_Frontal_Med_Orb_R___ is 131 \n",
        "\n",
        "nb voxels in mask of rraal_Frontal_Mid_L_______ is 816 \n",
        "\n",
        "nb voxels in mask of rraal_Frontal_Mid_Orb_L___ is 100 \n",
        "\n",
        "nb voxels in mask of rraal_Frontal_Mid_Orb_R___ is 127 \n",
        "\n",
        "nb voxels in mask of rraal_Frontal_Mid_R_______ is 845 \n",
        "\n",
        "nb voxels in mask of rraal_Frontal_Sup_L_______ is 591 \n"
       ]
      },
      {
       "output_type": "stream",
       "stream": "stdout",
       "text": [
        "\n",
        "nb voxels in mask of rraal_Frontal_Sup_Medial_L is 504 \n",
        "\n",
        "nb voxels in mask of rraal_Frontal_Sup_Medial_R is 352 \n",
        "\n",
        "nb voxels in mask of rraal_Frontal_Sup_Orb_L___ is 76 \n",
        "\n",
        "nb voxels in mask of rraal_Frontal_Sup_Orb_R___ is 86 \n",
        "\n",
        "nb voxels in mask of rraal_Frontal_Sup_R_______ is 693 \n",
        "\n",
        "nb voxels in mask of rraal_Fusiform_L__________ is 280 \n",
        "\n",
        "nb voxels in mask of rraal_Fusiform_R__________ is 336 \n",
        "\n",
        "nb voxels in mask of rraal_Heschl_L____________ is 36 \n",
        "\n",
        "nb voxels in mask of rraal_Heschl_R____________ is 45 \n"
       ]
      },
      {
       "output_type": "stream",
       "stream": "stdout",
       "text": [
        "\n",
        "nb voxels in mask of rraal_Hippocampus_L_______ is 148 \n",
        "\n",
        "nb voxels in mask of rraal_Hippocampus_R_______ is 150 \n",
        "\n",
        "nb voxels in mask of rraal_Insula_L____________ is 294 \n",
        "\n",
        "nb voxels in mask of rraal_Insula_R____________ is 293 \n",
        "\n",
        "nb voxels in mask of rraal_Lingual_L___________ is 361 \n",
        "\n",
        "nb voxels in mask of rraal_Lingual_R___________ is 382 \n",
        "\n",
        "nb voxels in mask of rraal_Occipital_Inf_L_____ is 154 \n",
        "\n",
        "nb voxels in mask of rraal_Occipital_Inf_R_____ is 169 \n",
        "\n",
        "nb voxels in mask of rraal_Occipital_Mid_L_____ is 554 \n",
        "\n",
        "nb voxels in mask of rraal_Occipital_Mid_R_____ is 361 \n"
       ]
      },
      {
       "output_type": "stream",
       "stream": "stdout",
       "text": [
        "\n",
        "nb voxels in mask of rraal_Occipital_Sup_L_____ is 217 \n",
        "\n",
        "nb voxels in mask of rraal_Occipital_Sup_R_____ is 231 \n",
        "\n",
        "nb voxels in mask of rraal_Olfactory_L_________ is 40 \n",
        "\n",
        "nb voxels in mask of rraal_Olfactory_R_________ is 43 \n",
        "\n",
        "nb voxels in mask of rraal_Pallidum_L__________ is 54 \n",
        "\n",
        "nb voxels in mask of rraal_Pallidum_R__________ is 44 \n",
        "\n",
        "nb voxels in mask of rraal_ParaHippocampal_L___ is 89 \n",
        "\n",
        "nb voxels in mask of rraal_ParaHippocampal_R___ is 127 \n",
        "\n",
        "nb voxels in mask of rraal_Paracentral_Lobule_L is 224 \n",
        "\n",
        "nb voxels in mask of rraal_Paracentral_Lobule_R is 141 \n",
        "\n",
        "nb voxels in mask of rraal_Parietal_Inf_L______ is 419 \n",
        "\n",
        "nb voxels in mask of rraal_Parietal_Inf_R______ is 227 \n"
       ]
      },
      {
       "output_type": "stream",
       "stream": "stdout",
       "text": [
        "\n",
        "nb voxels in mask of rraal_Parietal_Sup_L______ is 352 \n",
        "\n",
        "nb voxels in mask of rraal_Parietal_Sup_R______ is 385 \n",
        "\n",
        "nb voxels in mask of rraal_Postcentral_L_______ is 659 \n",
        "\n",
        "nb voxels in mask of rraal_Postcentral_R_______ is 636 \n",
        "\n",
        "nb voxels in mask of rraal_Precentral_L________ is 585 \n",
        "\n",
        "nb voxels in mask of rraal_Precentral_R________ is 578 \n",
        "\n",
        "nb voxels in mask of rraal_Precuneus_L_________ is 592 \n",
        "\n",
        "nb voxels in mask of rraal_Precuneus_R_________ is 536 \n"
       ]
      },
      {
       "output_type": "stream",
       "stream": "stdout",
       "text": [
        "\n",
        "nb voxels in mask of rraal_Putamen_L___________ is 164 \n",
        "\n",
        "nb voxels in mask of rraal_Putamen_R___________ is 175 \n",
        "\n",
        "nb voxels in mask of rraal_Rectus_L____________ is 34 \n",
        "\n",
        "nb voxels in mask of rraal_Rectus_R____________ is 42 \n",
        "\n",
        "nb voxels in mask of rraal_Rolandic_Oper_L_____ is 158 \n",
        "\n",
        "nb voxels in mask of rraal_Rolandic_Oper_R_____ is 229 \n",
        "\n",
        "nb voxels in mask of rraal_Supp_Motor_Area_L___ is 376 \n",
        "\n",
        "nb voxels in mask of rraal_Supp_Motor_Area_R___ is 400 \n",
        "\n",
        "nb voxels in mask of rraal_SupraMarginal_L_____ is 213 \n",
        "\n",
        "nb voxels in mask of rraal_SupraMarginal_R_____ is 330 \n",
        "\n",
        "nb voxels in mask of rraal_Temporal_Inf_L______ is 319 \n"
       ]
      },
      {
       "output_type": "stream",
       "stream": "stdout",
       "text": [
        "\n",
        "nb voxels in mask of rraal_Temporal_Inf_R______ is 422 \n",
        "\n",
        "nb voxels in mask of rraal_Temporal_Mid_L______ is 765 \n",
        "\n",
        "nb voxels in mask of rraal_Temporal_Mid_R______ is 737 \n",
        "\n",
        "nb voxels in mask of rraal_Temporal_Pole_Mid_L_ is 0 \n",
        "\n",
        "nb voxels in mask of rraal_Temporal_Pole_Mid_R_ is 24 \n",
        "\n",
        "nb voxels in mask of rraal_Temporal_Pole_Sup_L_ is 75 \n",
        "\n",
        "nb voxels in mask of rraal_Temporal_Pole_Sup_R_ is 148 \n",
        "\n",
        "nb voxels in mask of rraal_Temporal_Sup_L______ is 379 \n",
        "\n",
        "nb voxels in mask of rraal_Temporal_Sup_R______ is 508 \n",
        "\n",
        "nb voxels in mask of rraal_Thalamus_L__________ is 191 \n"
       ]
      },
      {
       "output_type": "stream",
       "stream": "stdout",
       "text": [
        "\n",
        "nb voxels in mask of rraal_Thalamus_R__________ is 177 \n",
        "\n",
        "nb voxels in mask of rraal_Vermis_10___________ is 8 \n",
        "\n",
        "nb voxels in mask of rraal_Vermis_1_2__________ is 6 \n",
        "\n",
        "nb voxels in mask of rraal_Vermis_3____________ is 39 \n",
        "\n",
        "nb voxels in mask of rraal_Vermis_4_5__________ is 113 \n",
        "\n",
        "nb voxels in mask of rraal_Vermis_6____________ is 59 \n",
        "\n",
        "nb voxels in mask of rraal_Vermis_7____________ is 35 \n",
        "\n",
        "nb voxels in mask of rraal_Vermis_8____________ is 27 \n",
        "\n",
        "nb voxels in mask of rraal_Vermis_9____________ is 8 \n",
        "\n"
       ]
      }
     ],
     "prompt_number": 42
    },
    {
     "cell_type": "code",
     "collapsed": false,
     "input": [
      "plt.plot(signals['rraal_Thalamus_R__________'])"
     ],
     "language": "python",
     "metadata": {},
     "outputs": [
      {
       "metadata": {},
       "output_type": "pyout",
       "prompt_number": 44,
       "text": [
        "[<matplotlib.lines.Line2D at 0x716ec10>]"
       ]
      },
      {
       "metadata": {},
       "output_type": "display_data",
       "png": "[encoded data removed]",
       "text": [
        "<matplotlib.figure.Figure at 0x7168e50>"
       ]
      }
     ],
     "prompt_number": 44
    },
    {
     "cell_type": "code",
     "collapsed": false,
     "input": [
      "DDIR = osp.join(HOME,'data','simpace','data','tmp')\n",
      "fn_mask = osp.join(DDIR, 'mask.nii')\n",
      "mask.to_filename(fn_mask)"
     ],
     "language": "python",
     "metadata": {},
     "outputs": []
    },
    {
     "cell_type": "code",
     "collapsed": false,
     "input": [],
     "language": "python",
     "metadata": {},
     "outputs": []
    },
    {
     "cell_type": "code",
     "collapsed": false,
     "input": [
      "fname = '/home/jb/data/simpace/data/rename_files/sess01/'+ \\\n",
      "'preproc/registered_files/rraal_Frontal_Sup_Orb_L___.nii'\n",
      "\n",
      "roi = nib.load(fname)\n",
      "roi_arr = roi.get_data()\n",
      "ijk_roi = np.asarray(np.where(roi.get_data().astype('bool')))\n",
      "print(ijk_roi.shape)\n",
      "data_mask = mask.get_data()\n",
      "print(data_mask.dtype)\n",
      "print(data_mask.shape)\n",
      "in_mask = data_mask[np.where(roi.get_data().astype('bool'))]\n",
      "(in_mask==False).sum()"
     ],
     "language": "python",
     "metadata": {},
     "outputs": []
    },
    {
     "cell_type": "code",
     "collapsed": false,
     "input": [
      "print(osp.basename(fname))\n",
      "\n",
      "a = np.random.normal(0,1, size=(2,3,12))\n",
      "r = np.random.normal(0,1, size=(2,3))\n",
      "m = r > -.5\n",
      "print(m)\n",
      "# print(a)\n",
      "print(' masked ')\n",
      "# print(a[m])\n",
      "print(a[m].shape)"
     ],
     "language": "python",
     "metadata": {},
     "outputs": []
    },
    {
     "cell_type": "code",
     "collapsed": false,
     "input": [
      "roi = nib.load(fname)\n",
      "roi_arr = np.asarray(roi.get_data())\n",
      "print(roi_arr.dtype)\n",
      "roi_arr_not_nan = np.nan_to_num(roi_arr)\n",
      "roi_arr_not_nan.sum()\n",
      "#h = plt.hist(roi_arr.flatten())\n",
      "h =plt.hist(roi_arr[roi_arr >0],bins=50)"
     ],
     "language": "python",
     "metadata": {},
     "outputs": []
    },
    {
     "cell_type": "code",
     "collapsed": false,
     "input": [
      "arr_sig, labs = ucr._dict_signals_to_arr(signals)"
     ],
     "language": "python",
     "metadata": {},
     "outputs": []
    },
    {
     "cell_type": "code",
     "collapsed": false,
     "input": [
      "print(arr_sig.shape)\n",
      "print(labs[:7])\n",
      "print(len(labs))\n",
      "print(len(signals))\n"
     ],
     "language": "python",
     "metadata": {},
     "outputs": []
    },
    {
     "cell_type": "heading",
     "level": 2,
     "metadata": {},
     "source": [
      "Step 3: load confounds "
     ]
    },
    {
     "cell_type": "code",
     "collapsed": false,
     "input": [
      "# load mvt parameters\n",
      "DREALIGN = osp.join(DDIR, 'realign')\n",
      "mvtfile = osp.join(DREALIGN,'rp_asub01_sess01_run01-0006.txt')\n",
      "\n",
      "# extract csf time series\n",
      "# dir temporary\n",
      "DCSF = osp.join(DDIR, 'csf_mask')\n",
      "csf_file = osp.join(DCSF, 'csf_map_final.nii.gz')\n",
      "csf_img = nib.load(csf_file)\n",
      "print(csf_img.shape, csf_img.get_data().sum())\n"
     ],
     "language": "python",
     "metadata": {},
     "outputs": []
    },
    {
     "cell_type": "heading",
     "level": 2,
     "metadata": {},
     "source": [
      "Step 4: filter"
     ]
    },
    {
     "cell_type": "code",
     "collapsed": false,
     "input": [
      "4*196"
     ],
     "language": "python",
     "metadata": {},
     "outputs": []
    },
    {
     "cell_type": "code",
     "collapsed": false,
     "input": [],
     "language": "python",
     "metadata": {},
     "outputs": []
    }
   ],
   "metadata": {}
  }
 ]
}